{
 "cells": [
  {
   "cell_type": "markdown",
   "id": "818a2aad",
   "metadata": {},
   "source": [
    "## Multiple Linear Regression analysis\n",
    "### on \" Gender Inequality Index\"\n",
    "\n",
    "### Aim:\n",
    "- To find the relation between 'Gender Inequality Index and it's different attributes.\n",
    "\n",
    "Outline:                \n",
    "1. Explore the dataset using pandas framework.\n",
    "2. Visualize the dataset using matplotlib,seabon library.\n",
    "3. Perform simple linear regression.\n",
    "4. Build model using 'train-test-split method'.\n",
    "\n",
    "About dataset:\n",
    "Dataset 'housing details' is refere from the kaggle dataset.\n",
    "Reference link: https://www.kaggle.com/datasets/gianinamariapetrascu/gender-inequality-index\n",
    "                                                                                                       \n",
    "The Gender Inequality Index (GII) dataset provides a comprehensive measure of gender inequality across countries, capturing gender disparities in health, education, and economic opportunities.\n",
    "Developed by the United Nations Development Programme (UNDP), the GII measures gender inequality by analyzing health, empowerment, and labor market participation indicators.                              This dataset includes GII scores, as well as component scores for each indicator, for over 190 countries, in 2021."
   ]
  },
  {
   "cell_type": "markdown",
   "id": "83bb9dd9",
   "metadata": {},
   "source": [
    "#### Import library"
   ]
  },
  {
   "cell_type": "code",
   "execution_count": 2,
   "id": "26faa217",
   "metadata": {},
   "outputs": [],
   "source": [
    "import pandas as pd\n",
    "import numpy as np\n",
    "import matplotlib.pyplot as plt\n",
    "import seaborn as sns\n",
    "import warnings\n",
    "warnings.filterwarnings('ignore')"
   ]
  },
  {
   "cell_type": "markdown",
   "id": "91d6e7f3",
   "metadata": {},
   "source": [
    "#### Read the file"
   ]
  },
  {
   "cell_type": "code",
   "execution_count": 3,
   "id": "72279c4d",
   "metadata": {
    "scrolled": true
   },
   "outputs": [
    {
     "data": {
      "text/html": [
       "<div>\n",
       "<style scoped>\n",
       "    .dataframe tbody tr th:only-of-type {\n",
       "        vertical-align: middle;\n",
       "    }\n",
       "\n",
       "    .dataframe tbody tr th {\n",
       "        vertical-align: top;\n",
       "    }\n",
       "\n",
       "    .dataframe thead th {\n",
       "        text-align: right;\n",
       "    }\n",
       "</style>\n",
       "<table border=\"1\" class=\"dataframe\">\n",
       "  <thead>\n",
       "    <tr style=\"text-align: right;\">\n",
       "      <th></th>\n",
       "      <th>Country</th>\n",
       "      <th>Human_development</th>\n",
       "      <th>GII</th>\n",
       "      <th>Rank</th>\n",
       "      <th>Maternal_mortality</th>\n",
       "      <th>Adolescent_birth_rate</th>\n",
       "      <th>Seats_parliament</th>\n",
       "      <th>F_secondary_educ</th>\n",
       "      <th>M_secondary_educ</th>\n",
       "      <th>F_Labour_force</th>\n",
       "      <th>M_Labour_force</th>\n",
       "    </tr>\n",
       "  </thead>\n",
       "  <tbody>\n",
       "    <tr>\n",
       "      <th>0</th>\n",
       "      <td>Switzerland</td>\n",
       "      <td>Very high</td>\n",
       "      <td>0.018</td>\n",
       "      <td>3.0</td>\n",
       "      <td>5.0</td>\n",
       "      <td>2.2</td>\n",
       "      <td>39.8</td>\n",
       "      <td>96.9</td>\n",
       "      <td>97.5</td>\n",
       "      <td>61.7</td>\n",
       "      <td>72.7</td>\n",
       "    </tr>\n",
       "    <tr>\n",
       "      <th>1</th>\n",
       "      <td>Norway</td>\n",
       "      <td>Very high</td>\n",
       "      <td>0.016</td>\n",
       "      <td>2.0</td>\n",
       "      <td>2.0</td>\n",
       "      <td>2.3</td>\n",
       "      <td>45.0</td>\n",
       "      <td>99.1</td>\n",
       "      <td>99.3</td>\n",
       "      <td>60.3</td>\n",
       "      <td>72.0</td>\n",
       "    </tr>\n",
       "    <tr>\n",
       "      <th>2</th>\n",
       "      <td>Iceland</td>\n",
       "      <td>Very high</td>\n",
       "      <td>0.043</td>\n",
       "      <td>8.0</td>\n",
       "      <td>4.0</td>\n",
       "      <td>5.4</td>\n",
       "      <td>47.6</td>\n",
       "      <td>99.8</td>\n",
       "      <td>99.7</td>\n",
       "      <td>61.7</td>\n",
       "      <td>70.5</td>\n",
       "    </tr>\n",
       "    <tr>\n",
       "      <th>3</th>\n",
       "      <td>Hong Kong</td>\n",
       "      <td>Very high</td>\n",
       "      <td>NaN</td>\n",
       "      <td>NaN</td>\n",
       "      <td>NaN</td>\n",
       "      <td>1.6</td>\n",
       "      <td>NaN</td>\n",
       "      <td>77.1</td>\n",
       "      <td>83.4</td>\n",
       "      <td>53.5</td>\n",
       "      <td>65.8</td>\n",
       "    </tr>\n",
       "    <tr>\n",
       "      <th>4</th>\n",
       "      <td>Australia</td>\n",
       "      <td>Very high</td>\n",
       "      <td>0.073</td>\n",
       "      <td>19.0</td>\n",
       "      <td>6.0</td>\n",
       "      <td>8.1</td>\n",
       "      <td>37.9</td>\n",
       "      <td>94.6</td>\n",
       "      <td>94.4</td>\n",
       "      <td>61.1</td>\n",
       "      <td>70.5</td>\n",
       "    </tr>\n",
       "    <tr>\n",
       "      <th>...</th>\n",
       "      <td>...</td>\n",
       "      <td>...</td>\n",
       "      <td>...</td>\n",
       "      <td>...</td>\n",
       "      <td>...</td>\n",
       "      <td>...</td>\n",
       "      <td>...</td>\n",
       "      <td>...</td>\n",
       "      <td>...</td>\n",
       "      <td>...</td>\n",
       "      <td>...</td>\n",
       "    </tr>\n",
       "    <tr>\n",
       "      <th>190</th>\n",
       "      <td>South Sudan</td>\n",
       "      <td>Low</td>\n",
       "      <td>0.587</td>\n",
       "      <td>150.0</td>\n",
       "      <td>1150.0</td>\n",
       "      <td>99.2</td>\n",
       "      <td>32.3</td>\n",
       "      <td>26.5</td>\n",
       "      <td>36.4</td>\n",
       "      <td>70.4</td>\n",
       "      <td>73.6</td>\n",
       "    </tr>\n",
       "    <tr>\n",
       "      <th>191</th>\n",
       "      <td>North Korea</td>\n",
       "      <td>NaN</td>\n",
       "      <td>NaN</td>\n",
       "      <td>NaN</td>\n",
       "      <td>89.0</td>\n",
       "      <td>2.3</td>\n",
       "      <td>17.6</td>\n",
       "      <td>NaN</td>\n",
       "      <td>NaN</td>\n",
       "      <td>77.2</td>\n",
       "      <td>86.1</td>\n",
       "    </tr>\n",
       "    <tr>\n",
       "      <th>192</th>\n",
       "      <td>Monaco</td>\n",
       "      <td>NaN</td>\n",
       "      <td>NaN</td>\n",
       "      <td>NaN</td>\n",
       "      <td>NaN</td>\n",
       "      <td>7.2</td>\n",
       "      <td>33.3</td>\n",
       "      <td>NaN</td>\n",
       "      <td>NaN</td>\n",
       "      <td>NaN</td>\n",
       "      <td>NaN</td>\n",
       "    </tr>\n",
       "    <tr>\n",
       "      <th>193</th>\n",
       "      <td>Nauru</td>\n",
       "      <td>NaN</td>\n",
       "      <td>NaN</td>\n",
       "      <td>NaN</td>\n",
       "      <td>NaN</td>\n",
       "      <td>72.5</td>\n",
       "      <td>10.5</td>\n",
       "      <td>NaN</td>\n",
       "      <td>NaN</td>\n",
       "      <td>NaN</td>\n",
       "      <td>NaN</td>\n",
       "    </tr>\n",
       "    <tr>\n",
       "      <th>194</th>\n",
       "      <td>Somalia</td>\n",
       "      <td>NaN</td>\n",
       "      <td>NaN</td>\n",
       "      <td>NaN</td>\n",
       "      <td>829.0</td>\n",
       "      <td>118.0</td>\n",
       "      <td>24.6</td>\n",
       "      <td>NaN</td>\n",
       "      <td>NaN</td>\n",
       "      <td>20.9</td>\n",
       "      <td>47.0</td>\n",
       "    </tr>\n",
       "  </tbody>\n",
       "</table>\n",
       "<p>195 rows × 11 columns</p>\n",
       "</div>"
      ],
      "text/plain": [
       "         Country Human_development    GII   Rank  Maternal_mortality  \\\n",
       "0    Switzerland         Very high  0.018    3.0                 5.0   \n",
       "1         Norway         Very high  0.016    2.0                 2.0   \n",
       "2        Iceland         Very high  0.043    8.0                 4.0   \n",
       "3      Hong Kong         Very high    NaN    NaN                 NaN   \n",
       "4      Australia         Very high  0.073   19.0                 6.0   \n",
       "..           ...               ...    ...    ...                 ...   \n",
       "190  South Sudan               Low  0.587  150.0              1150.0   \n",
       "191  North Korea               NaN    NaN    NaN                89.0   \n",
       "192       Monaco               NaN    NaN    NaN                 NaN   \n",
       "193        Nauru               NaN    NaN    NaN                 NaN   \n",
       "194      Somalia               NaN    NaN    NaN               829.0   \n",
       "\n",
       "     Adolescent_birth_rate  Seats_parliament  F_secondary_educ  \\\n",
       "0                      2.2              39.8              96.9   \n",
       "1                      2.3              45.0              99.1   \n",
       "2                      5.4              47.6              99.8   \n",
       "3                      1.6               NaN              77.1   \n",
       "4                      8.1              37.9              94.6   \n",
       "..                     ...               ...               ...   \n",
       "190                   99.2              32.3              26.5   \n",
       "191                    2.3              17.6               NaN   \n",
       "192                    7.2              33.3               NaN   \n",
       "193                   72.5              10.5               NaN   \n",
       "194                  118.0              24.6               NaN   \n",
       "\n",
       "     M_secondary_educ  F_Labour_force  M_Labour_force  \n",
       "0                97.5            61.7            72.7  \n",
       "1                99.3            60.3            72.0  \n",
       "2                99.7            61.7            70.5  \n",
       "3                83.4            53.5            65.8  \n",
       "4                94.4            61.1            70.5  \n",
       "..                ...             ...             ...  \n",
       "190              36.4            70.4            73.6  \n",
       "191               NaN            77.2            86.1  \n",
       "192               NaN             NaN             NaN  \n",
       "193               NaN             NaN             NaN  \n",
       "194               NaN            20.9            47.0  \n",
       "\n",
       "[195 rows x 11 columns]"
      ]
     },
     "execution_count": 3,
     "metadata": {},
     "output_type": "execute_result"
    }
   ],
   "source": [
    "df=pd.read_csv('Gender_Inequality_Index.csv')\n",
    "df"
   ]
  },
  {
   "cell_type": "markdown",
   "id": "e23a5f9c",
   "metadata": {},
   "source": [
    "#### Calculate shape and size of the data"
   ]
  },
  {
   "cell_type": "code",
   "execution_count": 5,
   "id": "b4c8b1b9",
   "metadata": {},
   "outputs": [
    {
     "data": {
      "text/plain": [
       "(195, 11)"
      ]
     },
     "execution_count": 5,
     "metadata": {},
     "output_type": "execute_result"
    }
   ],
   "source": [
    "df.shape"
   ]
  },
  {
   "cell_type": "code",
   "execution_count": 6,
   "id": "5269f71b",
   "metadata": {},
   "outputs": [
    {
     "data": {
      "text/plain": [
       "2145"
      ]
     },
     "execution_count": 6,
     "metadata": {},
     "output_type": "execute_result"
    }
   ],
   "source": [
    "df.size"
   ]
  },
  {
   "cell_type": "markdown",
   "id": "9d173a17",
   "metadata": {},
   "source": [
    "#### Show the data types "
   ]
  },
  {
   "cell_type": "code",
   "execution_count": 4,
   "id": "064508f5",
   "metadata": {},
   "outputs": [
    {
     "data": {
      "text/plain": [
       "Country                   object\n",
       "Human_development         object\n",
       "GII                      float64\n",
       "Rank                     float64\n",
       "Maternal_mortality       float64\n",
       "Adolescent_birth_rate    float64\n",
       "Seats_parliament         float64\n",
       "F_secondary_educ         float64\n",
       "M_secondary_educ         float64\n",
       "F_Labour_force           float64\n",
       "M_Labour_force           float64\n",
       "dtype: object"
      ]
     },
     "execution_count": 4,
     "metadata": {},
     "output_type": "execute_result"
    }
   ],
   "source": [
    "df.dtypes"
   ]
  },
  {
   "cell_type": "markdown",
   "id": "aa220951",
   "metadata": {},
   "source": [
    "#### Gather information about data"
   ]
  },
  {
   "cell_type": "code",
   "execution_count": 66,
   "id": "7075d849",
   "metadata": {},
   "outputs": [
    {
     "name": "stdout",
     "output_type": "stream",
     "text": [
      "<class 'pandas.core.frame.DataFrame'>\n",
      "RangeIndex: 195 entries, 0 to 194\n",
      "Data columns (total 11 columns):\n",
      " #   Column                 Non-Null Count  Dtype  \n",
      "---  ------                 --------------  -----  \n",
      " 0   Country                195 non-null    object \n",
      " 1   Human_development      191 non-null    object \n",
      " 2   GII                    170 non-null    float64\n",
      " 3   Rank                   170 non-null    float64\n",
      " 4   Maternal_mortality     184 non-null    float64\n",
      " 5   Adolescent_birth_rate  195 non-null    float64\n",
      " 6   Seats_parliament       193 non-null    float64\n",
      " 7   F_secondary_educ       177 non-null    float64\n",
      " 8   M_secondary_educ       177 non-null    float64\n",
      " 9   F_Labour_force         180 non-null    float64\n",
      " 10  M_Labour_force         180 non-null    float64\n",
      "dtypes: float64(9), object(2)\n",
      "memory usage: 16.9+ KB\n"
     ]
    }
   ],
   "source": [
    "df.info()"
   ]
  },
  {
   "cell_type": "markdown",
   "id": "dbe2cf06",
   "metadata": {},
   "source": [
    "As we can see, the dataset is full, no pass (non-null), so there is no need to fill the gaps. The dataset contains 9 floats (float64) and 2 catogorical (object) features."
   ]
  },
  {
   "cell_type": "code",
   "execution_count": 9,
   "id": "0edc6ca4",
   "metadata": {},
   "outputs": [
    {
     "data": {
      "text/plain": [
       "Index(['Country', 'Human_development', 'GII', 'Rank', 'Maternal_mortality',\n",
       "       'Adolescent_birth_rate', 'Seats_parliament', 'F_secondary_educ',\n",
       "       'M_secondary_educ', 'F_Labour_force', 'M_Labour_force'],\n",
       "      dtype='object')"
      ]
     },
     "execution_count": 9,
     "metadata": {},
     "output_type": "execute_result"
    }
   ],
   "source": [
    "df.columns"
   ]
  },
  {
   "cell_type": "markdown",
   "id": "c1b423b7",
   "metadata": {},
   "source": [
    "##### input features(column name):\n",
    "1. Country: Country Name.\n",
    "2. Human_development: Human development category divided in terms of Low- Very High.\n",
    "3. GII: Gender Inequality Index values.\n",
    "4. Rank: Country Rank.\n",
    "5. Maternal_mortality: Maternal mortality ratio (deaths per 100,000 live births).\n",
    "6. Adolescent_birth_rate: Adolescent birth rate (births per 1,000 women ages 15–19).\n",
    "7. Seats_parliament: Share of seats in parliament (% held by women).\n",
    "8. F_secondary_educ: Females with at least some secondary education (% ages 25 and older).\n",
    "9. M_secondary_educ: Males with at least some secondary education (% ages 25 and older).\n",
    "10. F_Labour_force: Female - Labour force participation rate (% ages 15 and older).\n",
    "11. M_Labour_force: Male - Labour force participation rate (% ages 15 and older)"
   ]
  },
  {
   "cell_type": "markdown",
   "id": "7fbc75fc",
   "metadata": {},
   "source": [
    "#### Let's check for the null values"
   ]
  },
  {
   "cell_type": "code",
   "execution_count": 67,
   "id": "a5214f09",
   "metadata": {},
   "outputs": [
    {
     "data": {
      "text/plain": [
       "Country                   0\n",
       "Human_development         4\n",
       "GII                      25\n",
       "Rank                     25\n",
       "Maternal_mortality       11\n",
       "Adolescent_birth_rate     0\n",
       "Seats_parliament          2\n",
       "F_secondary_educ         18\n",
       "M_secondary_educ         18\n",
       "F_Labour_force           15\n",
       "M_Labour_force           15\n",
       "dtype: int64"
      ]
     },
     "execution_count": 67,
     "metadata": {},
     "output_type": "execute_result"
    }
   ],
   "source": [
    "df.isnull().sum()"
   ]
  },
  {
   "cell_type": "markdown",
   "id": "2ed091f1",
   "metadata": {},
   "source": [
    "Dataset contails null values present in all columns except 'Country' , 'Adolescent_birth_rate'."
   ]
  },
  {
   "cell_type": "markdown",
   "id": "9655645a",
   "metadata": {},
   "source": [
    "#### Drop unnessesary columns which are not required for analysis."
   ]
  },
  {
   "cell_type": "code",
   "execution_count": 68,
   "id": "8b59bd5c",
   "metadata": {},
   "outputs": [],
   "source": [
    "df.drop(['Human_development'],axis=1,inplace=True)"
   ]
  },
  {
   "cell_type": "code",
   "execution_count": 69,
   "id": "880d5d01",
   "metadata": {},
   "outputs": [],
   "source": [
    "df.drop(['Rank'],axis=1,inplace=True)"
   ]
  },
  {
   "cell_type": "code",
   "execution_count": 124,
   "id": "9868abb3",
   "metadata": {},
   "outputs": [],
   "source": [
    "df.drop(['Country'],axis=1,inplace=True)"
   ]
  },
  {
   "cell_type": "markdown",
   "id": "efa1428a",
   "metadata": {},
   "source": [
    "#### Find null values which has to be rectified."
   ]
  },
  {
   "cell_type": "code",
   "execution_count": 70,
   "id": "fe163f97",
   "metadata": {},
   "outputs": [
    {
     "data": {
      "text/plain": [
       "Country                   0\n",
       "GII                      25\n",
       "Maternal_mortality       11\n",
       "Adolescent_birth_rate     0\n",
       "Seats_parliament          2\n",
       "F_secondary_educ         18\n",
       "M_secondary_educ         18\n",
       "F_Labour_force           15\n",
       "M_Labour_force           15\n",
       "dtype: int64"
      ]
     },
     "execution_count": 70,
     "metadata": {},
     "output_type": "execute_result"
    }
   ],
   "source": [
    "df.isnull().sum()"
   ]
  },
  {
   "cell_type": "markdown",
   "id": "4a8c5296",
   "metadata": {},
   "source": [
    "#### Now, let's treat the null values."
   ]
  },
  {
   "cell_type": "code",
   "execution_count": 71,
   "id": "dc649386",
   "metadata": {},
   "outputs": [
    {
     "data": {
      "text/plain": [
       "0.530    3\n",
       "0.083    3\n",
       "0.259    3\n",
       "0.445    2\n",
       "0.067    2\n",
       "        ..\n",
       "0.347    1\n",
       "0.131    1\n",
       "0.333    1\n",
       "0.144    1\n",
       "0.587    1\n",
       "Name: GII, Length: 152, dtype: int64"
      ]
     },
     "execution_count": 71,
     "metadata": {},
     "output_type": "execute_result"
    }
   ],
   "source": [
    "df['GII'].value_counts()"
   ]
  },
  {
   "cell_type": "code",
   "execution_count": 72,
   "id": "8f2fe3cc",
   "metadata": {},
   "outputs": [],
   "source": [
    "df['GII'].fillna(method='ffill',inplace=True)"
   ]
  },
  {
   "cell_type": "code",
   "execution_count": 82,
   "id": "2919557e",
   "metadata": {},
   "outputs": [
    {
     "data": {
      "text/plain": [
       "5.0      8\n",
       "19.0     6\n",
       "3.0      5\n",
       "8.0      5\n",
       "17.0     5\n",
       "        ..\n",
       "155.0    1\n",
       "144.0    1\n",
       "121.0    1\n",
       "177.0    1\n",
       "89.0     1\n",
       "Name: Maternal_mortality, Length: 116, dtype: int64"
      ]
     },
     "execution_count": 82,
     "metadata": {},
     "output_type": "execute_result"
    }
   ],
   "source": [
    "df['Maternal_mortality'].value_counts()"
   ]
  },
  {
   "cell_type": "code",
   "execution_count": 93,
   "id": "471688a3",
   "metadata": {},
   "outputs": [],
   "source": [
    "df['Maternal_mortality'].fillna(method='bfill',inplace=True)"
   ]
  },
  {
   "cell_type": "code",
   "execution_count": 84,
   "id": "6f163865",
   "metadata": {},
   "outputs": [
    {
     "data": {
      "text/plain": [
       "22.9    4\n",
       "31.1    3\n",
       "0.0     3\n",
       "27.3    3\n",
       "16.7    3\n",
       "       ..\n",
       "18.5    1\n",
       "16.5    1\n",
       "9.1     1\n",
       "1.5     1\n",
       "10.5    1\n",
       "Name: Seats_parliament, Length: 157, dtype: int64"
      ]
     },
     "execution_count": 84,
     "metadata": {},
     "output_type": "execute_result"
    }
   ],
   "source": [
    "df['Seats_parliament'].value_counts()"
   ]
  },
  {
   "cell_type": "code",
   "execution_count": 85,
   "id": "c8dfb008",
   "metadata": {},
   "outputs": [],
   "source": [
    "df['Seats_parliament'].fillna(method='ffill',inplace=True)"
   ]
  },
  {
   "cell_type": "code",
   "execution_count": 86,
   "id": "d289df65",
   "metadata": {},
   "outputs": [
    {
     "data": {
      "text/plain": [
       "100.0    4\n",
       "99.8     4\n",
       "97.6     3\n",
       "93.5     3\n",
       "96.9     2\n",
       "        ..\n",
       "94.9     1\n",
       "84.0     1\n",
       "82.7     1\n",
       "71.6     1\n",
       "26.5     1\n",
       "Name: F_secondary_educ, Length: 156, dtype: int64"
      ]
     },
     "execution_count": 86,
     "metadata": {},
     "output_type": "execute_result"
    }
   ],
   "source": [
    "df['F_secondary_educ'].value_counts()"
   ]
  },
  {
   "cell_type": "code",
   "execution_count": 94,
   "id": "8b5a137a",
   "metadata": {},
   "outputs": [],
   "source": [
    "df['F_secondary_educ'].fillna(method='bfill',inplace=True)"
   ]
  },
  {
   "cell_type": "code",
   "execution_count": 95,
   "id": "fce1c56f",
   "metadata": {},
   "outputs": [
    {
     "data": {
      "text/plain": [
       "100.0    8\n",
       "36.4     5\n",
       "86.0     4\n",
       "20.1     3\n",
       "56.8     3\n",
       "        ..\n",
       "75.1     1\n",
       "95.8     1\n",
       "76.0     1\n",
       "96.4     1\n",
       "97.5     1\n",
       "Name: M_secondary_educ, Length: 153, dtype: int64"
      ]
     },
     "execution_count": 95,
     "metadata": {},
     "output_type": "execute_result"
    }
   ],
   "source": [
    "df['M_secondary_educ'].value_counts()"
   ]
  },
  {
   "cell_type": "code",
   "execution_count": 96,
   "id": "de63d4c1",
   "metadata": {},
   "outputs": [],
   "source": [
    "df['M_secondary_educ'].fillna(method='ffill',inplace=True)"
   ]
  },
  {
   "cell_type": "code",
   "execution_count": 97,
   "id": "ad460677",
   "metadata": {},
   "outputs": [
    {
     "data": {
      "text/plain": [
       "56.1    5\n",
       "61.7    4\n",
       "30.9    4\n",
       "58.5    3\n",
       "19.2    3\n",
       "       ..\n",
       "46.6    1\n",
       "51.0    1\n",
       "51.2    1\n",
       "50.4    1\n",
       "60.4    1\n",
       "Name: F_Labour_force, Length: 149, dtype: int64"
      ]
     },
     "execution_count": 97,
     "metadata": {},
     "output_type": "execute_result"
    }
   ],
   "source": [
    "df['F_Labour_force'].value_counts()"
   ]
  },
  {
   "cell_type": "code",
   "execution_count": 98,
   "id": "ca27177d",
   "metadata": {},
   "outputs": [],
   "source": [
    "df['F_Labour_force'].fillna(method='bfill',inplace=True)"
   ]
  },
  {
   "cell_type": "code",
   "execution_count": 99,
   "id": "dc717e75",
   "metadata": {},
   "outputs": [
    {
     "data": {
      "text/plain": [
       "62.2    5\n",
       "68.5    5\n",
       "62.3    4\n",
       "65.5    4\n",
       "47.0    3\n",
       "       ..\n",
       "81.9    1\n",
       "43.9    1\n",
       "75.2    1\n",
       "74.3    1\n",
       "67.3    1\n",
       "Name: M_Labour_force, Length: 140, dtype: int64"
      ]
     },
     "execution_count": 99,
     "metadata": {},
     "output_type": "execute_result"
    }
   ],
   "source": [
    "df['M_Labour_force'].value_counts()"
   ]
  },
  {
   "cell_type": "code",
   "execution_count": 100,
   "id": "60adf321",
   "metadata": {},
   "outputs": [],
   "source": [
    "df['M_Labour_force'].fillna(method='bfill',inplace=True)"
   ]
  },
  {
   "cell_type": "code",
   "execution_count": 125,
   "id": "5b00a614",
   "metadata": {},
   "outputs": [
    {
     "data": {
      "text/plain": [
       "GII                      0\n",
       "Maternal_mortality       0\n",
       "Adolescent_birth_rate    0\n",
       "Seats_parliament         0\n",
       "F_secondary_educ         0\n",
       "M_secondary_educ         0\n",
       "F_Labour_force           0\n",
       "M_Labour_force           0\n",
       "dtype: int64"
      ]
     },
     "execution_count": 125,
     "metadata": {},
     "output_type": "execute_result"
    }
   ],
   "source": [
    "df.isnull().sum()"
   ]
  },
  {
   "cell_type": "markdown",
   "id": "3493212b",
   "metadata": {},
   "source": [
    "Now the data is clean with no null vlues present."
   ]
  },
  {
   "cell_type": "markdown",
   "id": "a9312c87",
   "metadata": {},
   "source": [
    "#### Sort the data based on GII."
   ]
  },
  {
   "cell_type": "code",
   "execution_count": 126,
   "id": "a623ae6d",
   "metadata": {},
   "outputs": [
    {
     "data": {
      "text/html": [
       "<div>\n",
       "<style scoped>\n",
       "    .dataframe tbody tr th:only-of-type {\n",
       "        vertical-align: middle;\n",
       "    }\n",
       "\n",
       "    .dataframe tbody tr th {\n",
       "        vertical-align: top;\n",
       "    }\n",
       "\n",
       "    .dataframe thead th {\n",
       "        text-align: right;\n",
       "    }\n",
       "</style>\n",
       "<table border=\"1\" class=\"dataframe\">\n",
       "  <thead>\n",
       "    <tr style=\"text-align: right;\">\n",
       "      <th></th>\n",
       "      <th>GII</th>\n",
       "      <th>Maternal_mortality</th>\n",
       "      <th>Adolescent_birth_rate</th>\n",
       "      <th>Seats_parliament</th>\n",
       "      <th>F_secondary_educ</th>\n",
       "      <th>M_secondary_educ</th>\n",
       "      <th>F_Labour_force</th>\n",
       "      <th>M_Labour_force</th>\n",
       "    </tr>\n",
       "  </thead>\n",
       "  <tbody>\n",
       "    <tr>\n",
       "      <th>5</th>\n",
       "      <td>0.013</td>\n",
       "      <td>4.0</td>\n",
       "      <td>1.9</td>\n",
       "      <td>39.7</td>\n",
       "      <td>95.1</td>\n",
       "      <td>95.2</td>\n",
       "      <td>57.7</td>\n",
       "      <td>66.7</td>\n",
       "    </tr>\n",
       "    <tr>\n",
       "      <th>1</th>\n",
       "      <td>0.016</td>\n",
       "      <td>2.0</td>\n",
       "      <td>2.3</td>\n",
       "      <td>45.0</td>\n",
       "      <td>99.1</td>\n",
       "      <td>99.3</td>\n",
       "      <td>60.3</td>\n",
       "      <td>72.0</td>\n",
       "    </tr>\n",
       "    <tr>\n",
       "      <th>0</th>\n",
       "      <td>0.018</td>\n",
       "      <td>5.0</td>\n",
       "      <td>2.2</td>\n",
       "      <td>39.8</td>\n",
       "      <td>96.9</td>\n",
       "      <td>97.5</td>\n",
       "      <td>61.7</td>\n",
       "      <td>72.7</td>\n",
       "    </tr>\n",
       "    <tr>\n",
       "      <th>6</th>\n",
       "      <td>0.023</td>\n",
       "      <td>4.0</td>\n",
       "      <td>3.3</td>\n",
       "      <td>47.0</td>\n",
       "      <td>91.8</td>\n",
       "      <td>92.2</td>\n",
       "      <td>61.7</td>\n",
       "      <td>68.0</td>\n",
       "    </tr>\n",
       "    <tr>\n",
       "      <th>9</th>\n",
       "      <td>0.025</td>\n",
       "      <td>5.0</td>\n",
       "      <td>2.8</td>\n",
       "      <td>39.1</td>\n",
       "      <td>89.8</td>\n",
       "      <td>92.7</td>\n",
       "      <td>62.4</td>\n",
       "      <td>71.3</td>\n",
       "    </tr>\n",
       "    <tr>\n",
       "      <th>10</th>\n",
       "      <td>0.033</td>\n",
       "      <td>3.0</td>\n",
       "      <td>4.2</td>\n",
       "      <td>46.0</td>\n",
       "      <td>99.0</td>\n",
       "      <td>98.5</td>\n",
       "      <td>56.5</td>\n",
       "      <td>64.0</td>\n",
       "    </tr>\n",
       "    <tr>\n",
       "      <th>11</th>\n",
       "      <td>0.040</td>\n",
       "      <td>8.0</td>\n",
       "      <td>2.6</td>\n",
       "      <td>29.8</td>\n",
       "      <td>80.5</td>\n",
       "      <td>85.9</td>\n",
       "      <td>59.4</td>\n",
       "      <td>76.8</td>\n",
       "    </tr>\n",
       "    <tr>\n",
       "      <th>2</th>\n",
       "      <td>0.043</td>\n",
       "      <td>4.0</td>\n",
       "      <td>5.4</td>\n",
       "      <td>47.6</td>\n",
       "      <td>99.8</td>\n",
       "      <td>99.7</td>\n",
       "      <td>61.7</td>\n",
       "      <td>70.5</td>\n",
       "    </tr>\n",
       "    <tr>\n",
       "      <th>3</th>\n",
       "      <td>0.043</td>\n",
       "      <td>4.0</td>\n",
       "      <td>1.6</td>\n",
       "      <td>47.6</td>\n",
       "      <td>77.1</td>\n",
       "      <td>83.4</td>\n",
       "      <td>53.5</td>\n",
       "      <td>65.8</td>\n",
       "    </tr>\n",
       "    <tr>\n",
       "      <th>16</th>\n",
       "      <td>0.044</td>\n",
       "      <td>5.0</td>\n",
       "      <td>4.3</td>\n",
       "      <td>35.0</td>\n",
       "      <td>100.0</td>\n",
       "      <td>100.0</td>\n",
       "      <td>58.5</td>\n",
       "      <td>65.5</td>\n",
       "    </tr>\n",
       "  </tbody>\n",
       "</table>\n",
       "</div>"
      ],
      "text/plain": [
       "      GII  Maternal_mortality  Adolescent_birth_rate  Seats_parliament  \\\n",
       "5   0.013                 4.0                    1.9              39.7   \n",
       "1   0.016                 2.0                    2.3              45.0   \n",
       "0   0.018                 5.0                    2.2              39.8   \n",
       "6   0.023                 4.0                    3.3              47.0   \n",
       "9   0.025                 5.0                    2.8              39.1   \n",
       "10  0.033                 3.0                    4.2              46.0   \n",
       "11  0.040                 8.0                    2.6              29.8   \n",
       "2   0.043                 4.0                    5.4              47.6   \n",
       "3   0.043                 4.0                    1.6              47.6   \n",
       "16  0.044                 5.0                    4.3              35.0   \n",
       "\n",
       "    F_secondary_educ  M_secondary_educ  F_Labour_force  M_Labour_force  \n",
       "5               95.1              95.2            57.7            66.7  \n",
       "1               99.1              99.3            60.3            72.0  \n",
       "0               96.9              97.5            61.7            72.7  \n",
       "6               91.8              92.2            61.7            68.0  \n",
       "9               89.8              92.7            62.4            71.3  \n",
       "10              99.0              98.5            56.5            64.0  \n",
       "11              80.5              85.9            59.4            76.8  \n",
       "2               99.8              99.7            61.7            70.5  \n",
       "3               77.1              83.4            53.5            65.8  \n",
       "16             100.0             100.0            58.5            65.5  "
      ]
     },
     "execution_count": 126,
     "metadata": {},
     "output_type": "execute_result"
    }
   ],
   "source": [
    "df.sort_values(by = [\"GII\"], ascending =True).head(10)"
   ]
  },
  {
   "cell_type": "markdown",
   "id": "d0dfc245",
   "metadata": {},
   "source": [
    "##### GII is dependent variable. and rest all are independent variables."
   ]
  },
  {
   "cell_type": "markdown",
   "id": "fd93ace4",
   "metadata": {},
   "source": [
    "#### Let's check for the Outliers\n",
    "Outliers are the abnormal values in a dataset that don't go with the regular distribution and have the potential to significantly distort any regression model."
   ]
  },
  {
   "cell_type": "code",
   "execution_count": 103,
   "id": "17b5d5b6",
   "metadata": {},
   "outputs": [
    {
     "data": {
      "image/png": "[encoded data removed]",
      "text/plain": [
       "<Figure size 640x480 with 1 Axes>"
      ]
     },
     "metadata": {},
     "output_type": "display_data"
    }
   ],
   "source": [
    "sns.boxplot(df['GII'])\n",
    "plt.show()"
   ]
  },
  {
   "cell_type": "markdown",
   "id": "2f0e2178",
   "metadata": {},
   "source": [
    "No outliers present in 'GII' column."
   ]
  },
  {
   "cell_type": "code",
   "execution_count": 6,
   "id": "bc0af6fb",
   "metadata": {},
   "outputs": [
    {
     "data": {
      "image/png": "[encoded data removed]",
      "text/plain": [
       "<Figure size 640x480 with 1 Axes>"
      ]
     },
     "metadata": {},
     "output_type": "display_data"
    }
   ],
   "source": [
    "sns.boxplot(df['Seats_parliament'])\n",
    "plt.show()"
   ]
  },
  {
   "cell_type": "markdown",
   "id": "4537d5f4",
   "metadata": {},
   "source": [
    "No outliers present in ' Seats_parliament ' column."
   ]
  },
  {
   "cell_type": "code",
   "execution_count": 8,
   "id": "25f7845b",
   "metadata": {},
   "outputs": [
    {
     "data": {
      "image/png": "[encoded data removed]",
      "text/plain": [
       "<Figure size 640x480 with 1 Axes>"
      ]
     },
     "metadata": {},
     "output_type": "display_data"
    }
   ],
   "source": [
    "sns.boxplot(df['Adolescent_birth_rate'])\n",
    "plt.show()"
   ]
  },
  {
   "cell_type": "markdown",
   "id": "557c66a1",
   "metadata": {},
   "source": [
    "4 outliers present in ' Adolescent_birth_rate ' column."
   ]
  },
  {
   "cell_type": "code",
   "execution_count": 106,
   "id": "37da0967",
   "metadata": {},
   "outputs": [
    {
     "data": {
      "image/png": "[encoded data removed]",
      "text/plain": [
       "<Figure size 640x480 with 1 Axes>"
      ]
     },
     "metadata": {},
     "output_type": "display_data"
    }
   ],
   "source": [
    "sns.boxplot(df['F_secondary_educ'])\n",
    "plt.show()"
   ]
  },
  {
   "cell_type": "markdown",
   "id": "1db67704",
   "metadata": {},
   "source": [
    "No outliers present in 'F_secondary_educ ' column."
   ]
  },
  {
   "cell_type": "code",
   "execution_count": 107,
   "id": "4d131ef5",
   "metadata": {},
   "outputs": [
    {
     "data": {
      "image/png": "[encoded data removed]",
      "text/plain": [
       "<Figure size 640x480 with 1 Axes>"
      ]
     },
     "metadata": {},
     "output_type": "display_data"
    }
   ],
   "source": [
    "sns.boxplot(df['M_secondary_educ'])\n",
    "plt.show()"
   ]
  },
  {
   "cell_type": "markdown",
   "id": "68254ebf",
   "metadata": {},
   "source": [
    " No outliers present in ' M_secondary_educ ' column."
   ]
  },
  {
   "cell_type": "markdown",
   "id": "2f9ca32a",
   "metadata": {},
   "source": [
    "#### Let's check for 'Multicollinearity.\n",
    "- Multicollinearity occurs when two or more independent variables(also known as predictor) are highly correlated with one another in a regression model.\n",
    "- For better model analysis lesser multicollinearity should be preffered."
   ]
  },
  {
   "cell_type": "code",
   "execution_count": 108,
   "id": "8d0278ff",
   "metadata": {
    "scrolled": true
   },
   "outputs": [
    {
     "data": {
      "text/html": [
       "<div>\n",
       "<style scoped>\n",
       "    .dataframe tbody tr th:only-of-type {\n",
       "        vertical-align: middle;\n",
       "    }\n",
       "\n",
       "    .dataframe tbody tr th {\n",
       "        vertical-align: top;\n",
       "    }\n",
       "\n",
       "    .dataframe thead th {\n",
       "        text-align: right;\n",
       "    }\n",
       "</style>\n",
       "<table border=\"1\" class=\"dataframe\">\n",
       "  <thead>\n",
       "    <tr style=\"text-align: right;\">\n",
       "      <th></th>\n",
       "      <th>GII</th>\n",
       "      <th>Maternal_mortality</th>\n",
       "      <th>Adolescent_birth_rate</th>\n",
       "      <th>Seats_parliament</th>\n",
       "      <th>F_secondary_educ</th>\n",
       "      <th>M_secondary_educ</th>\n",
       "      <th>F_Labour_force</th>\n",
       "      <th>M_Labour_force</th>\n",
       "    </tr>\n",
       "  </thead>\n",
       "  <tbody>\n",
       "    <tr>\n",
       "      <th>GII</th>\n",
       "      <td>1.000000</td>\n",
       "      <td>0.691997</td>\n",
       "      <td>0.767823</td>\n",
       "      <td>-0.445748</td>\n",
       "      <td>-0.802603</td>\n",
       "      <td>-0.780010</td>\n",
       "      <td>-0.088174</td>\n",
       "      <td>0.112452</td>\n",
       "    </tr>\n",
       "    <tr>\n",
       "      <th>Maternal_mortality</th>\n",
       "      <td>0.691997</td>\n",
       "      <td>1.000000</td>\n",
       "      <td>0.743681</td>\n",
       "      <td>-0.151518</td>\n",
       "      <td>-0.679771</td>\n",
       "      <td>-0.632421</td>\n",
       "      <td>0.189411</td>\n",
       "      <td>0.059952</td>\n",
       "    </tr>\n",
       "    <tr>\n",
       "      <th>Adolescent_birth_rate</th>\n",
       "      <td>0.767823</td>\n",
       "      <td>0.743681</td>\n",
       "      <td>1.000000</td>\n",
       "      <td>-0.127165</td>\n",
       "      <td>-0.681330</td>\n",
       "      <td>-0.656012</td>\n",
       "      <td>0.203686</td>\n",
       "      <td>0.200212</td>\n",
       "    </tr>\n",
       "    <tr>\n",
       "      <th>Seats_parliament</th>\n",
       "      <td>-0.445748</td>\n",
       "      <td>-0.151518</td>\n",
       "      <td>-0.127165</td>\n",
       "      <td>1.000000</td>\n",
       "      <td>0.184868</td>\n",
       "      <td>0.183333</td>\n",
       "      <td>0.245677</td>\n",
       "      <td>-0.005062</td>\n",
       "    </tr>\n",
       "    <tr>\n",
       "      <th>F_secondary_educ</th>\n",
       "      <td>-0.802603</td>\n",
       "      <td>-0.679771</td>\n",
       "      <td>-0.681330</td>\n",
       "      <td>0.184868</td>\n",
       "      <td>1.000000</td>\n",
       "      <td>0.974130</td>\n",
       "      <td>-0.097199</td>\n",
       "      <td>-0.198400</td>\n",
       "    </tr>\n",
       "    <tr>\n",
       "      <th>M_secondary_educ</th>\n",
       "      <td>-0.780010</td>\n",
       "      <td>-0.632421</td>\n",
       "      <td>-0.656012</td>\n",
       "      <td>0.183333</td>\n",
       "      <td>0.974130</td>\n",
       "      <td>1.000000</td>\n",
       "      <td>-0.085912</td>\n",
       "      <td>-0.213496</td>\n",
       "    </tr>\n",
       "    <tr>\n",
       "      <th>F_Labour_force</th>\n",
       "      <td>-0.088174</td>\n",
       "      <td>0.189411</td>\n",
       "      <td>0.203686</td>\n",
       "      <td>0.245677</td>\n",
       "      <td>-0.097199</td>\n",
       "      <td>-0.085912</td>\n",
       "      <td>1.000000</td>\n",
       "      <td>0.484295</td>\n",
       "    </tr>\n",
       "    <tr>\n",
       "      <th>M_Labour_force</th>\n",
       "      <td>0.112452</td>\n",
       "      <td>0.059952</td>\n",
       "      <td>0.200212</td>\n",
       "      <td>-0.005062</td>\n",
       "      <td>-0.198400</td>\n",
       "      <td>-0.213496</td>\n",
       "      <td>0.484295</td>\n",
       "      <td>1.000000</td>\n",
       "    </tr>\n",
       "  </tbody>\n",
       "</table>\n",
       "</div>"
      ],
      "text/plain": [
       "                            GII  Maternal_mortality  Adolescent_birth_rate  \\\n",
       "GII                    1.000000            0.691997               0.767823   \n",
       "Maternal_mortality     0.691997            1.000000               0.743681   \n",
       "Adolescent_birth_rate  0.767823            0.743681               1.000000   \n",
       "Seats_parliament      -0.445748           -0.151518              -0.127165   \n",
       "F_secondary_educ      -0.802603           -0.679771              -0.681330   \n",
       "M_secondary_educ      -0.780010           -0.632421              -0.656012   \n",
       "F_Labour_force        -0.088174            0.189411               0.203686   \n",
       "M_Labour_force         0.112452            0.059952               0.200212   \n",
       "\n",
       "                       Seats_parliament  F_secondary_educ  M_secondary_educ  \\\n",
       "GII                           -0.445748         -0.802603         -0.780010   \n",
       "Maternal_mortality            -0.151518         -0.679771         -0.632421   \n",
       "Adolescent_birth_rate         -0.127165         -0.681330         -0.656012   \n",
       "Seats_parliament               1.000000          0.184868          0.183333   \n",
       "F_secondary_educ               0.184868          1.000000          0.974130   \n",
       "M_secondary_educ               0.183333          0.974130          1.000000   \n",
       "F_Labour_force                 0.245677         -0.097199         -0.085912   \n",
       "M_Labour_force                -0.005062         -0.198400         -0.213496   \n",
       "\n",
       "                       F_Labour_force  M_Labour_force  \n",
       "GII                         -0.088174        0.112452  \n",
       "Maternal_mortality           0.189411        0.059952  \n",
       "Adolescent_birth_rate        0.203686        0.200212  \n",
       "Seats_parliament             0.245677       -0.005062  \n",
       "F_secondary_educ            -0.097199       -0.198400  \n",
       "M_secondary_educ            -0.085912       -0.213496  \n",
       "F_Labour_force               1.000000        0.484295  \n",
       "M_Labour_force               0.484295        1.000000  "
      ]
     },
     "execution_count": 108,
     "metadata": {},
     "output_type": "execute_result"
    }
   ],
   "source": [
    "df.corr()"
   ]
  },
  {
   "cell_type": "code",
   "execution_count": 128,
   "id": "f1d7779c",
   "metadata": {},
   "outputs": [
    {
     "data": {
      "image/png": "[encoded data removed]",
      "text/plain": [
       "<Figure size 640x480 with 2 Axes>"
      ]
     },
     "metadata": {},
     "output_type": "display_data"
    }
   ],
   "source": [
    "sns.heatmap(df.corr(),annot=True)\n",
    "plt.show()"
   ]
  },
  {
   "cell_type": "markdown",
   "id": "54b942c7",
   "metadata": {},
   "source": [
    "Here, we can see, abouve Heatmap shows, there is much less correlation is present between the attibutes of GII.                                                                                                                                                                                            \n",
    "so here multicollinearity is also low, so we can say that model can be go for the further process of the multiple linear regression"
   ]
  },
  {
   "cell_type": "markdown",
   "id": "a7b1bcba",
   "metadata": {},
   "source": [
    "#### Visualization\n",
    "After exploring data start the visualization of dataset.                                                                                                                                                       \n",
    "Find the relationship between the columns present in the data."
   ]
  },
  {
   "cell_type": "code",
   "execution_count": 110,
   "id": "5c59825f",
   "metadata": {},
   "outputs": [
    {
     "data": {
      "image/png": "[encoded data removed]",
      "text/plain": [
       "<Figure size 640x480 with 1 Axes>"
      ]
     },
     "metadata": {},
     "output_type": "display_data"
    }
   ],
   "source": [
    "plt.scatter(x='Adolescent_birth_rate',y='GII',data=df,color='green')\n",
    "plt.show()"
   ]
  },
  {
   "cell_type": "markdown",
   "id": "a768edd8",
   "metadata": {},
   "source": [
    "The graph shows the value of 'Adolescent_birth_rate' are varies with respect to 'GII'."
   ]
  },
  {
   "cell_type": "code",
   "execution_count": 112,
   "id": "d14c808c",
   "metadata": {},
   "outputs": [
    {
     "data": {
      "image/png": "[encoded data removed]",
      "text/plain": [
       "<Figure size 640x480 with 1 Axes>"
      ]
     },
     "metadata": {},
     "output_type": "display_data"
    }
   ],
   "source": [
    "plt.scatter('Seats_parliament','GII',data=df,color='blue',marker='*')\n",
    "plt.show()"
   ]
  },
  {
   "cell_type": "markdown",
   "id": "f2ce7eab",
   "metadata": {},
   "source": [
    "The graph shows the value of 'Seats_parliament' are varies with respect to 'GII'."
   ]
  },
  {
   "cell_type": "code",
   "execution_count": 11,
   "id": "5af4d697",
   "metadata": {},
   "outputs": [
    {
     "data": {
      "image/png": "[encoded data removed]",
      "text/plain": [
       "<Figure size 640x480 with 1 Axes>"
      ]
     },
     "metadata": {},
     "output_type": "display_data"
    }
   ],
   "source": [
    "plt.scatter('F_secondary_educ','GII',data=df,color='red',marker='*')\n",
    "plt.show()"
   ]
  },
  {
   "cell_type": "markdown",
   "id": "34295902",
   "metadata": {},
   "source": [
    "The graph shows the value of 'F_secondary_educ' are varies with respect to 'GII'."
   ]
  },
  {
   "cell_type": "markdown",
   "id": "994b512b",
   "metadata": {},
   "source": [
    "### Multiple Linear Regression\n",
    "- Multiple linear regression is a regression model that estimates the relationship between two or more independent variables and one dependent variable using a straight line.\n",
    "- All variables should be quantitative."
   ]
  },
  {
   "cell_type": "code",
   "execution_count": 166,
   "id": "51abb3a5",
   "metadata": {},
   "outputs": [],
   "source": [
    "from sklearn.linear_model import LinearRegression"
   ]
  },
  {
   "cell_type": "code",
   "execution_count": 282,
   "id": "77b4b450",
   "metadata": {},
   "outputs": [
    {
     "data": {
      "text/plain": [
       "LinearRegression()"
      ]
     },
     "execution_count": 282,
     "metadata": {},
     "output_type": "execute_result"
    }
   ],
   "source": [
    "model=LinearRegression()\n",
    "model"
   ]
  },
  {
   "cell_type": "markdown",
   "id": "ab493b47",
   "metadata": {},
   "source": [
    "#### prepare x and y\n",
    "The scikit-learn library expects X (feature variable) and y (response variable) to be NumPy arrays. However, X can be a dataframe as Pandas is built over NumPy."
   ]
  },
  {
   "cell_type": "code",
   "execution_count": 175,
   "id": "64c937e8",
   "metadata": {
    "scrolled": true
   },
   "outputs": [
    {
     "data": {
      "text/html": [
       "<div>\n",
       "<style scoped>\n",
       "    .dataframe tbody tr th:only-of-type {\n",
       "        vertical-align: middle;\n",
       "    }\n",
       "\n",
       "    .dataframe tbody tr th {\n",
       "        vertical-align: top;\n",
       "    }\n",
       "\n",
       "    .dataframe thead th {\n",
       "        text-align: right;\n",
       "    }\n",
       "</style>\n",
       "<table border=\"1\" class=\"dataframe\">\n",
       "  <thead>\n",
       "    <tr style=\"text-align: right;\">\n",
       "      <th></th>\n",
       "      <th>Adolescent_birth_rate</th>\n",
       "      <th>Seats_parliament</th>\n",
       "      <th>F_secondary_educ</th>\n",
       "      <th>M_secondary_educ</th>\n",
       "      <th>F_Labour_force</th>\n",
       "      <th>M_Labour_force</th>\n",
       "    </tr>\n",
       "  </thead>\n",
       "  <tbody>\n",
       "    <tr>\n",
       "      <th>0</th>\n",
       "      <td>2.2</td>\n",
       "      <td>39.8</td>\n",
       "      <td>96.9</td>\n",
       "      <td>97.5</td>\n",
       "      <td>61.7</td>\n",
       "      <td>72.7</td>\n",
       "    </tr>\n",
       "    <tr>\n",
       "      <th>1</th>\n",
       "      <td>2.3</td>\n",
       "      <td>45.0</td>\n",
       "      <td>99.1</td>\n",
       "      <td>99.3</td>\n",
       "      <td>60.3</td>\n",
       "      <td>72.0</td>\n",
       "    </tr>\n",
       "    <tr>\n",
       "      <th>2</th>\n",
       "      <td>5.4</td>\n",
       "      <td>47.6</td>\n",
       "      <td>99.8</td>\n",
       "      <td>99.7</td>\n",
       "      <td>61.7</td>\n",
       "      <td>70.5</td>\n",
       "    </tr>\n",
       "    <tr>\n",
       "      <th>3</th>\n",
       "      <td>1.6</td>\n",
       "      <td>47.6</td>\n",
       "      <td>77.1</td>\n",
       "      <td>83.4</td>\n",
       "      <td>53.5</td>\n",
       "      <td>65.8</td>\n",
       "    </tr>\n",
       "    <tr>\n",
       "      <th>4</th>\n",
       "      <td>8.1</td>\n",
       "      <td>37.9</td>\n",
       "      <td>94.6</td>\n",
       "      <td>94.4</td>\n",
       "      <td>61.1</td>\n",
       "      <td>70.5</td>\n",
       "    </tr>\n",
       "    <tr>\n",
       "      <th>...</th>\n",
       "      <td>...</td>\n",
       "      <td>...</td>\n",
       "      <td>...</td>\n",
       "      <td>...</td>\n",
       "      <td>...</td>\n",
       "      <td>...</td>\n",
       "    </tr>\n",
       "    <tr>\n",
       "      <th>190</th>\n",
       "      <td>99.2</td>\n",
       "      <td>32.3</td>\n",
       "      <td>26.5</td>\n",
       "      <td>36.4</td>\n",
       "      <td>70.4</td>\n",
       "      <td>73.6</td>\n",
       "    </tr>\n",
       "    <tr>\n",
       "      <th>191</th>\n",
       "      <td>2.3</td>\n",
       "      <td>17.6</td>\n",
       "      <td>26.5</td>\n",
       "      <td>36.4</td>\n",
       "      <td>77.2</td>\n",
       "      <td>86.1</td>\n",
       "    </tr>\n",
       "    <tr>\n",
       "      <th>192</th>\n",
       "      <td>7.2</td>\n",
       "      <td>33.3</td>\n",
       "      <td>26.5</td>\n",
       "      <td>36.4</td>\n",
       "      <td>20.9</td>\n",
       "      <td>47.0</td>\n",
       "    </tr>\n",
       "    <tr>\n",
       "      <th>193</th>\n",
       "      <td>72.5</td>\n",
       "      <td>10.5</td>\n",
       "      <td>26.5</td>\n",
       "      <td>36.4</td>\n",
       "      <td>20.9</td>\n",
       "      <td>47.0</td>\n",
       "    </tr>\n",
       "    <tr>\n",
       "      <th>194</th>\n",
       "      <td>118.0</td>\n",
       "      <td>24.6</td>\n",
       "      <td>26.5</td>\n",
       "      <td>36.4</td>\n",
       "      <td>20.9</td>\n",
       "      <td>47.0</td>\n",
       "    </tr>\n",
       "  </tbody>\n",
       "</table>\n",
       "<p>195 rows × 6 columns</p>\n",
       "</div>"
      ],
      "text/plain": [
       "     Adolescent_birth_rate  Seats_parliament  F_secondary_educ  \\\n",
       "0                      2.2              39.8              96.9   \n",
       "1                      2.3              45.0              99.1   \n",
       "2                      5.4              47.6              99.8   \n",
       "3                      1.6              47.6              77.1   \n",
       "4                      8.1              37.9              94.6   \n",
       "..                     ...               ...               ...   \n",
       "190                   99.2              32.3              26.5   \n",
       "191                    2.3              17.6              26.5   \n",
       "192                    7.2              33.3              26.5   \n",
       "193                   72.5              10.5              26.5   \n",
       "194                  118.0              24.6              26.5   \n",
       "\n",
       "     M_secondary_educ  F_Labour_force  M_Labour_force  \n",
       "0                97.5            61.7            72.7  \n",
       "1                99.3            60.3            72.0  \n",
       "2                99.7            61.7            70.5  \n",
       "3                83.4            53.5            65.8  \n",
       "4                94.4            61.1            70.5  \n",
       "..                ...             ...             ...  \n",
       "190              36.4            70.4            73.6  \n",
       "191              36.4            77.2            86.1  \n",
       "192              36.4            20.9            47.0  \n",
       "193              36.4            20.9            47.0  \n",
       "194              36.4            20.9            47.0  \n",
       "\n",
       "[195 rows x 6 columns]"
      ]
     },
     "execution_count": 175,
     "metadata": {},
     "output_type": "execute_result"
    }
   ],
   "source": [
    "x=df.drop(['GII','Maternal_mortality'],axis=1)\n",
    "x"
   ]
  },
  {
   "cell_type": "code",
   "execution_count": 176,
   "id": "8c1913a1",
   "metadata": {},
   "outputs": [
    {
     "data": {
      "text/plain": [
       "0      0.018\n",
       "1      0.016\n",
       "2      0.043\n",
       "3      0.043\n",
       "4      0.073\n",
       "       ...  \n",
       "190    0.587\n",
       "191    0.587\n",
       "192    0.587\n",
       "193    0.587\n",
       "194    0.587\n",
       "Name: GII, Length: 195, dtype: float64"
      ]
     },
     "execution_count": 176,
     "metadata": {},
     "output_type": "execute_result"
    }
   ],
   "source": [
    "y=df.GII\n",
    "y"
   ]
  },
  {
   "cell_type": "code",
   "execution_count": 177,
   "id": "66a00250",
   "metadata": {},
   "outputs": [
    {
     "data": {
      "text/plain": [
       "LinearRegression()"
      ]
     },
     "execution_count": 177,
     "metadata": {},
     "output_type": "execute_result"
    }
   ],
   "source": [
    "model=LinearRegression()\n",
    "model"
   ]
  },
  {
   "cell_type": "markdown",
   "id": "ad4fde01",
   "metadata": {},
   "source": [
    "#### Fit the linear model."
   ]
  },
  {
   "cell_type": "code",
   "execution_count": 178,
   "id": "0bd69142",
   "metadata": {},
   "outputs": [
    {
     "data": {
      "text/plain": [
       "LinearRegression()"
      ]
     },
     "execution_count": 178,
     "metadata": {},
     "output_type": "execute_result"
    }
   ],
   "source": [
    "model.fit(x,y)"
   ]
  },
  {
   "cell_type": "markdown",
   "id": "23108434",
   "metadata": {},
   "source": [
    "#### Predict using the linear mode."
   ]
  },
  {
   "cell_type": "code",
   "execution_count": 181,
   "id": "39fd6ab8",
   "metadata": {},
   "outputs": [
    {
     "data": {
      "text/plain": [
       "array([0.0891549])"
      ]
     },
     "execution_count": 181,
     "metadata": {},
     "output_type": "execute_result"
    }
   ],
   "source": [
    "model.predict([[8.1,37.9,94.6,94.4,61.1,70.5]])"
   ]
  },
  {
   "cell_type": "code",
   "execution_count": 182,
   "id": "2fd0ca28",
   "metadata": {},
   "outputs": [
    {
     "data": {
      "text/plain": [
       "array([0.62991289])"
      ]
     },
     "execution_count": 182,
     "metadata": {},
     "output_type": "execute_result"
    }
   ],
   "source": [
    "model.predict([[72.5,10.5,26.5,36.4,20.9,47.0]])"
   ]
  },
  {
   "cell_type": "markdown",
   "id": "5690f18e",
   "metadata": {},
   "source": [
    "#### Find the estimated coefficient of model"
   ]
  },
  {
   "cell_type": "code",
   "execution_count": 183,
   "id": "1833508d",
   "metadata": {},
   "outputs": [
    {
     "data": {
      "text/plain": [
       "array([ 0.00230733, -0.00412396, -0.00311273,  0.00012178, -0.00196953,\n",
       "        0.00020935])"
      ]
     },
     "execution_count": 183,
     "metadata": {},
     "output_type": "execute_result"
    }
   ],
   "source": [
    "model.coef_"
   ]
  },
  {
   "cell_type": "markdown",
   "id": "a9c9131d",
   "metadata": {},
   "source": [
    "#### Find the intercept of the model"
   ]
  },
  {
   "cell_type": "code",
   "execution_count": 184,
   "id": "cf2b093a",
   "metadata": {},
   "outputs": [
    {
     "data": {
      "text/plain": [
       "0.6153111401009588"
      ]
     },
     "execution_count": 184,
     "metadata": {},
     "output_type": "execute_result"
    }
   ],
   "source": [
    "model.intercept_"
   ]
  },
  {
   "cell_type": "markdown",
   "id": "3c9a0f80",
   "metadata": {},
   "source": [
    "#### cross checking of the regession model"
   ]
  },
  {
   "cell_type": "code",
   "execution_count": 185,
   "id": "43a67f58",
   "metadata": {},
   "outputs": [
    {
     "data": {
      "text/plain": [
       "0.08915509510095876"
      ]
     },
     "execution_count": 185,
     "metadata": {},
     "output_type": "execute_result"
    }
   ],
   "source": [
    "8.1*0.00230733+37.9*-0.00412396+94.6*-0.00311273+94.4*0.00012178+61.1*-0.00196953+70.5*0.00020935+0.6153111401009588"
   ]
  },
  {
   "cell_type": "markdown",
   "id": "4a0f7820",
   "metadata": {},
   "source": [
    "Here, model using scikit-learn library gives the same value we calculated by mannually."
   ]
  },
  {
   "cell_type": "markdown",
   "id": "261f85e7",
   "metadata": {},
   "source": [
    "#### Now, check for the accuracy"
   ]
  },
  {
   "cell_type": "code",
   "execution_count": 186,
   "id": "5d86aeda",
   "metadata": {},
   "outputs": [
    {
     "data": {
      "text/plain": [
       "84.93952540724263"
      ]
     },
     "execution_count": 186,
     "metadata": {},
     "output_type": "execute_result"
    }
   ],
   "source": [
    "model.score(x,y)*100"
   ]
  },
  {
   "cell_type": "markdown",
   "id": "7cc56d8f",
   "metadata": {},
   "source": [
    "##### Accuracy of given model is 84.93% which can be consider as high."
   ]
  },
  {
   "cell_type": "markdown",
   "id": "b0652e73",
   "metadata": {},
   "source": [
    "Simple Linear Regression is done. Now build model of regression by using Train-Test-Split Method"
   ]
  },
  {
   "cell_type": "code",
   "execution_count": 204,
   "id": "74960911",
   "metadata": {},
   "outputs": [
    {
     "data": {
      "text/html": [
       "<div>\n",
       "<style scoped>\n",
       "    .dataframe tbody tr th:only-of-type {\n",
       "        vertical-align: middle;\n",
       "    }\n",
       "\n",
       "    .dataframe tbody tr th {\n",
       "        vertical-align: top;\n",
       "    }\n",
       "\n",
       "    .dataframe thead th {\n",
       "        text-align: right;\n",
       "    }\n",
       "</style>\n",
       "<table border=\"1\" class=\"dataframe\">\n",
       "  <thead>\n",
       "    <tr style=\"text-align: right;\">\n",
       "      <th></th>\n",
       "      <th>GII</th>\n",
       "      <th>Maternal_mortality</th>\n",
       "      <th>Adolescent_birth_rate</th>\n",
       "      <th>Seats_parliament</th>\n",
       "      <th>F_secondary_educ</th>\n",
       "      <th>M_secondary_educ</th>\n",
       "      <th>F_Labour_force</th>\n",
       "      <th>M_Labour_force</th>\n",
       "    </tr>\n",
       "  </thead>\n",
       "  <tbody>\n",
       "    <tr>\n",
       "      <th>0</th>\n",
       "      <td>0.018</td>\n",
       "      <td>5.0</td>\n",
       "      <td>2.2</td>\n",
       "      <td>39.8</td>\n",
       "      <td>96.9</td>\n",
       "      <td>97.5</td>\n",
       "      <td>61.7</td>\n",
       "      <td>72.7</td>\n",
       "    </tr>\n",
       "    <tr>\n",
       "      <th>1</th>\n",
       "      <td>0.016</td>\n",
       "      <td>2.0</td>\n",
       "      <td>2.3</td>\n",
       "      <td>45.0</td>\n",
       "      <td>99.1</td>\n",
       "      <td>99.3</td>\n",
       "      <td>60.3</td>\n",
       "      <td>72.0</td>\n",
       "    </tr>\n",
       "    <tr>\n",
       "      <th>2</th>\n",
       "      <td>0.043</td>\n",
       "      <td>4.0</td>\n",
       "      <td>5.4</td>\n",
       "      <td>47.6</td>\n",
       "      <td>99.8</td>\n",
       "      <td>99.7</td>\n",
       "      <td>61.7</td>\n",
       "      <td>70.5</td>\n",
       "    </tr>\n",
       "    <tr>\n",
       "      <th>3</th>\n",
       "      <td>0.043</td>\n",
       "      <td>4.0</td>\n",
       "      <td>1.6</td>\n",
       "      <td>47.6</td>\n",
       "      <td>77.1</td>\n",
       "      <td>83.4</td>\n",
       "      <td>53.5</td>\n",
       "      <td>65.8</td>\n",
       "    </tr>\n",
       "    <tr>\n",
       "      <th>4</th>\n",
       "      <td>0.073</td>\n",
       "      <td>6.0</td>\n",
       "      <td>8.1</td>\n",
       "      <td>37.9</td>\n",
       "      <td>94.6</td>\n",
       "      <td>94.4</td>\n",
       "      <td>61.1</td>\n",
       "      <td>70.5</td>\n",
       "    </tr>\n",
       "    <tr>\n",
       "      <th>...</th>\n",
       "      <td>...</td>\n",
       "      <td>...</td>\n",
       "      <td>...</td>\n",
       "      <td>...</td>\n",
       "      <td>...</td>\n",
       "      <td>...</td>\n",
       "      <td>...</td>\n",
       "      <td>...</td>\n",
       "    </tr>\n",
       "    <tr>\n",
       "      <th>190</th>\n",
       "      <td>0.587</td>\n",
       "      <td>1150.0</td>\n",
       "      <td>99.2</td>\n",
       "      <td>32.3</td>\n",
       "      <td>26.5</td>\n",
       "      <td>36.4</td>\n",
       "      <td>70.4</td>\n",
       "      <td>73.6</td>\n",
       "    </tr>\n",
       "    <tr>\n",
       "      <th>191</th>\n",
       "      <td>0.587</td>\n",
       "      <td>89.0</td>\n",
       "      <td>2.3</td>\n",
       "      <td>17.6</td>\n",
       "      <td>26.5</td>\n",
       "      <td>36.4</td>\n",
       "      <td>77.2</td>\n",
       "      <td>86.1</td>\n",
       "    </tr>\n",
       "    <tr>\n",
       "      <th>192</th>\n",
       "      <td>0.587</td>\n",
       "      <td>89.0</td>\n",
       "      <td>7.2</td>\n",
       "      <td>33.3</td>\n",
       "      <td>26.5</td>\n",
       "      <td>36.4</td>\n",
       "      <td>20.9</td>\n",
       "      <td>47.0</td>\n",
       "    </tr>\n",
       "    <tr>\n",
       "      <th>193</th>\n",
       "      <td>0.587</td>\n",
       "      <td>89.0</td>\n",
       "      <td>72.5</td>\n",
       "      <td>10.5</td>\n",
       "      <td>26.5</td>\n",
       "      <td>36.4</td>\n",
       "      <td>20.9</td>\n",
       "      <td>47.0</td>\n",
       "    </tr>\n",
       "    <tr>\n",
       "      <th>194</th>\n",
       "      <td>0.587</td>\n",
       "      <td>829.0</td>\n",
       "      <td>118.0</td>\n",
       "      <td>24.6</td>\n",
       "      <td>26.5</td>\n",
       "      <td>36.4</td>\n",
       "      <td>20.9</td>\n",
       "      <td>47.0</td>\n",
       "    </tr>\n",
       "  </tbody>\n",
       "</table>\n",
       "<p>195 rows × 8 columns</p>\n",
       "</div>"
      ],
      "text/plain": [
       "       GII  Maternal_mortality  Adolescent_birth_rate  Seats_parliament  \\\n",
       "0    0.018                 5.0                    2.2              39.8   \n",
       "1    0.016                 2.0                    2.3              45.0   \n",
       "2    0.043                 4.0                    5.4              47.6   \n",
       "3    0.043                 4.0                    1.6              47.6   \n",
       "4    0.073                 6.0                    8.1              37.9   \n",
       "..     ...                 ...                    ...               ...   \n",
       "190  0.587              1150.0                   99.2              32.3   \n",
       "191  0.587                89.0                    2.3              17.6   \n",
       "192  0.587                89.0                    7.2              33.3   \n",
       "193  0.587                89.0                   72.5              10.5   \n",
       "194  0.587               829.0                  118.0              24.6   \n",
       "\n",
       "     F_secondary_educ  M_secondary_educ  F_Labour_force  M_Labour_force  \n",
       "0                96.9              97.5            61.7            72.7  \n",
       "1                99.1              99.3            60.3            72.0  \n",
       "2                99.8              99.7            61.7            70.5  \n",
       "3                77.1              83.4            53.5            65.8  \n",
       "4                94.6              94.4            61.1            70.5  \n",
       "..                ...               ...             ...             ...  \n",
       "190              26.5              36.4            70.4            73.6  \n",
       "191              26.5              36.4            77.2            86.1  \n",
       "192              26.5              36.4            20.9            47.0  \n",
       "193              26.5              36.4            20.9            47.0  \n",
       "194              26.5              36.4            20.9            47.0  \n",
       "\n",
       "[195 rows x 8 columns]"
      ]
     },
     "execution_count": 204,
     "metadata": {},
     "output_type": "execute_result"
    }
   ],
   "source": [
    "df"
   ]
  },
  {
   "cell_type": "markdown",
   "id": "5e17d175",
   "metadata": {},
   "source": [
    "### Train-Test-Split Method\n",
    "Train Dataset: Used to fit the machine learning model.                                                 \n",
    "Test Dataset: Used to evaluate the fit machine learning model."
   ]
  },
  {
   "cell_type": "markdown",
   "id": "3d370d4f",
   "metadata": {},
   "source": [
    "#### Prepare X and y"
   ]
  },
  {
   "cell_type": "code",
   "execution_count": 257,
   "id": "2bc3370a",
   "metadata": {},
   "outputs": [
    {
     "data": {
      "text/html": [
       "<div>\n",
       "<style scoped>\n",
       "    .dataframe tbody tr th:only-of-type {\n",
       "        vertical-align: middle;\n",
       "    }\n",
       "\n",
       "    .dataframe tbody tr th {\n",
       "        vertical-align: top;\n",
       "    }\n",
       "\n",
       "    .dataframe thead th {\n",
       "        text-align: right;\n",
       "    }\n",
       "</style>\n",
       "<table border=\"1\" class=\"dataframe\">\n",
       "  <thead>\n",
       "    <tr style=\"text-align: right;\">\n",
       "      <th></th>\n",
       "      <th>Adolescent_birth_rate</th>\n",
       "      <th>Seats_parliament</th>\n",
       "      <th>F_secondary_educ</th>\n",
       "      <th>M_secondary_educ</th>\n",
       "      <th>F_Labour_force</th>\n",
       "      <th>M_Labour_force</th>\n",
       "    </tr>\n",
       "  </thead>\n",
       "  <tbody>\n",
       "    <tr>\n",
       "      <th>0</th>\n",
       "      <td>2.2</td>\n",
       "      <td>39.8</td>\n",
       "      <td>96.9</td>\n",
       "      <td>97.5</td>\n",
       "      <td>61.7</td>\n",
       "      <td>72.7</td>\n",
       "    </tr>\n",
       "    <tr>\n",
       "      <th>1</th>\n",
       "      <td>2.3</td>\n",
       "      <td>45.0</td>\n",
       "      <td>99.1</td>\n",
       "      <td>99.3</td>\n",
       "      <td>60.3</td>\n",
       "      <td>72.0</td>\n",
       "    </tr>\n",
       "    <tr>\n",
       "      <th>2</th>\n",
       "      <td>5.4</td>\n",
       "      <td>47.6</td>\n",
       "      <td>99.8</td>\n",
       "      <td>99.7</td>\n",
       "      <td>61.7</td>\n",
       "      <td>70.5</td>\n",
       "    </tr>\n",
       "    <tr>\n",
       "      <th>3</th>\n",
       "      <td>1.6</td>\n",
       "      <td>47.6</td>\n",
       "      <td>77.1</td>\n",
       "      <td>83.4</td>\n",
       "      <td>53.5</td>\n",
       "      <td>65.8</td>\n",
       "    </tr>\n",
       "    <tr>\n",
       "      <th>4</th>\n",
       "      <td>8.1</td>\n",
       "      <td>37.9</td>\n",
       "      <td>94.6</td>\n",
       "      <td>94.4</td>\n",
       "      <td>61.1</td>\n",
       "      <td>70.5</td>\n",
       "    </tr>\n",
       "    <tr>\n",
       "      <th>...</th>\n",
       "      <td>...</td>\n",
       "      <td>...</td>\n",
       "      <td>...</td>\n",
       "      <td>...</td>\n",
       "      <td>...</td>\n",
       "      <td>...</td>\n",
       "    </tr>\n",
       "    <tr>\n",
       "      <th>190</th>\n",
       "      <td>99.2</td>\n",
       "      <td>32.3</td>\n",
       "      <td>26.5</td>\n",
       "      <td>36.4</td>\n",
       "      <td>70.4</td>\n",
       "      <td>73.6</td>\n",
       "    </tr>\n",
       "    <tr>\n",
       "      <th>191</th>\n",
       "      <td>2.3</td>\n",
       "      <td>17.6</td>\n",
       "      <td>26.5</td>\n",
       "      <td>36.4</td>\n",
       "      <td>77.2</td>\n",
       "      <td>86.1</td>\n",
       "    </tr>\n",
       "    <tr>\n",
       "      <th>192</th>\n",
       "      <td>7.2</td>\n",
       "      <td>33.3</td>\n",
       "      <td>26.5</td>\n",
       "      <td>36.4</td>\n",
       "      <td>20.9</td>\n",
       "      <td>47.0</td>\n",
       "    </tr>\n",
       "    <tr>\n",
       "      <th>193</th>\n",
       "      <td>72.5</td>\n",
       "      <td>10.5</td>\n",
       "      <td>26.5</td>\n",
       "      <td>36.4</td>\n",
       "      <td>20.9</td>\n",
       "      <td>47.0</td>\n",
       "    </tr>\n",
       "    <tr>\n",
       "      <th>194</th>\n",
       "      <td>118.0</td>\n",
       "      <td>24.6</td>\n",
       "      <td>26.5</td>\n",
       "      <td>36.4</td>\n",
       "      <td>20.9</td>\n",
       "      <td>47.0</td>\n",
       "    </tr>\n",
       "  </tbody>\n",
       "</table>\n",
       "<p>195 rows × 6 columns</p>\n",
       "</div>"
      ],
      "text/plain": [
       "     Adolescent_birth_rate  Seats_parliament  F_secondary_educ  \\\n",
       "0                      2.2              39.8              96.9   \n",
       "1                      2.3              45.0              99.1   \n",
       "2                      5.4              47.6              99.8   \n",
       "3                      1.6              47.6              77.1   \n",
       "4                      8.1              37.9              94.6   \n",
       "..                     ...               ...               ...   \n",
       "190                   99.2              32.3              26.5   \n",
       "191                    2.3              17.6              26.5   \n",
       "192                    7.2              33.3              26.5   \n",
       "193                   72.5              10.5              26.5   \n",
       "194                  118.0              24.6              26.5   \n",
       "\n",
       "     M_secondary_educ  F_Labour_force  M_Labour_force  \n",
       "0                97.5            61.7            72.7  \n",
       "1                99.3            60.3            72.0  \n",
       "2                99.7            61.7            70.5  \n",
       "3                83.4            53.5            65.8  \n",
       "4                94.4            61.1            70.5  \n",
       "..                ...             ...             ...  \n",
       "190              36.4            70.4            73.6  \n",
       "191              36.4            77.2            86.1  \n",
       "192              36.4            20.9            47.0  \n",
       "193              36.4            20.9            47.0  \n",
       "194              36.4            20.9            47.0  \n",
       "\n",
       "[195 rows x 6 columns]"
      ]
     },
     "execution_count": 257,
     "metadata": {},
     "output_type": "execute_result"
    }
   ],
   "source": [
    "X=df.drop(['GII','Maternal_mortality'],axis=1)\n",
    "X"
   ]
  },
  {
   "cell_type": "code",
   "execution_count": 246,
   "id": "16d8de55",
   "metadata": {},
   "outputs": [
    {
     "data": {
      "text/plain": [
       "0      0.018\n",
       "1      0.016\n",
       "2      0.043\n",
       "3      0.043\n",
       "4      0.073\n",
       "       ...  \n",
       "190    0.587\n",
       "191    0.587\n",
       "192    0.587\n",
       "193    0.587\n",
       "194    0.587\n",
       "Name: GII, Length: 195, dtype: float64"
      ]
     },
     "execution_count": 246,
     "metadata": {},
     "output_type": "execute_result"
    }
   ],
   "source": [
    "y=df.GII\n",
    "y"
   ]
  },
  {
   "cell_type": "code",
   "execution_count": 281,
   "id": "13897e04",
   "metadata": {},
   "outputs": [],
   "source": [
    "from sklearn.model_selection import train_test_split"
   ]
  },
  {
   "cell_type": "markdown",
   "id": "28cdddfe",
   "metadata": {},
   "source": [
    "#### Apply train, test to x and y\n",
    "Here we are using training set with the size of 0.66 (66 percent) means that the remainder percentage 0.33 (33 percent) is assigned to the test set."
   ]
  },
  {
   "cell_type": "code",
   "execution_count": 258,
   "id": "4148a52d",
   "metadata": {},
   "outputs": [],
   "source": [
    "x_train,x_test,y_train,y_test=train_test_split(X,y,test_size=0.33)"
   ]
  },
  {
   "cell_type": "markdown",
   "id": "0b658ba5",
   "metadata": {},
   "source": [
    "#### Print the shape of train and test."
   ]
  },
  {
   "cell_type": "code",
   "execution_count": 259,
   "id": "26860cbb",
   "metadata": {},
   "outputs": [
    {
     "name": "stdout",
     "output_type": "stream",
     "text": [
      "(130, 6)\n",
      "(130,)\n",
      "(65, 6)\n",
      "(65,)\n"
     ]
    }
   ],
   "source": [
    "print(x_train.shape)\n",
    "print(y_train.shape)\n",
    "print(x_test.shape)\n",
    "print(y_test.shape)"
   ]
  },
  {
   "cell_type": "markdown",
   "id": "34be9c54",
   "metadata": {},
   "source": [
    "#### Start applying regression model to train test data."
   ]
  },
  {
   "cell_type": "code",
   "execution_count": 260,
   "id": "7fca5257",
   "metadata": {},
   "outputs": [],
   "source": [
    "from sklearn.linear_model import LinearRegression"
   ]
  },
  {
   "cell_type": "code",
   "execution_count": 261,
   "id": "fb473834",
   "metadata": {},
   "outputs": [],
   "source": [
    "model=LinearRegression()"
   ]
  },
  {
   "cell_type": "markdown",
   "id": "3e3dac25",
   "metadata": {},
   "source": [
    "#### Fit the model"
   ]
  },
  {
   "cell_type": "code",
   "execution_count": 262,
   "id": "42c0a0c1",
   "metadata": {},
   "outputs": [
    {
     "data": {
      "text/plain": [
       "LinearRegression()"
      ]
     },
     "execution_count": 262,
     "metadata": {},
     "output_type": "execute_result"
    }
   ],
   "source": [
    "model.fit(x_train,y_train)"
   ]
  },
  {
   "cell_type": "markdown",
   "id": "23c891ce",
   "metadata": {},
   "source": [
    "#### Let's predict the values."
   ]
  },
  {
   "cell_type": "code",
   "execution_count": 263,
   "id": "922ce15d",
   "metadata": {},
   "outputs": [
    {
     "data": {
      "text/plain": [
       "array([0.15774685, 0.15320567, 0.14793318, 0.38738544, 0.24717321,\n",
       "       0.34241943, 0.23137656, 0.10126864, 0.56167774, 0.26698054,\n",
       "       0.20944951, 0.41335357, 0.05838181, 0.08726722, 0.61098553,\n",
       "       0.30696481, 0.60226635, 0.33319087, 0.50047002, 0.19133673,\n",
       "       0.41995723, 0.49496872, 0.232548  , 0.09681485, 0.1987911 ,\n",
       "       0.43437225, 0.10420202, 0.65000511, 0.12307763, 0.30289596,\n",
       "       0.60141921, 0.19549195, 0.54222932, 0.2251821 , 0.37093759,\n",
       "       0.0762859 , 0.09741954, 0.49475023, 0.52246568, 0.64693046,\n",
       "       0.10196637, 0.15555027, 0.34001919, 0.30860134, 0.29134828,\n",
       "       0.42302131, 0.11965789, 0.56714282, 0.69815178, 0.56479669,\n",
       "       0.11943459, 0.40326848, 0.38234254, 0.45946146, 0.18076131,\n",
       "       0.30238091, 0.28338104, 0.52408751, 0.7801778 , 0.4186129 ,\n",
       "       0.6081034 , 0.33426131, 0.24407768, 0.24034369, 0.16887284])"
      ]
     },
     "execution_count": 263,
     "metadata": {},
     "output_type": "execute_result"
    }
   ],
   "source": [
    "y_predict=model.predict(x_test)\n",
    "y_predict"
   ]
  },
  {
   "cell_type": "code",
   "execution_count": 264,
   "id": "f0c29bdc",
   "metadata": {},
   "outputs": [
    {
     "data": {
      "text/plain": [
       "21     0.083\n",
       "30     0.100\n",
       "26     0.057\n",
       "60     0.392\n",
       "28     0.123\n",
       "       ...  \n",
       "180    0.633\n",
       "63     0.347\n",
       "77     0.134\n",
       "56     0.344\n",
       "23     0.071\n",
       "Name: GII, Length: 65, dtype: float64"
      ]
     },
     "execution_count": 264,
     "metadata": {},
     "output_type": "execute_result"
    }
   ],
   "source": [
    "y_test"
   ]
  },
  {
   "cell_type": "markdown",
   "id": "c0797660",
   "metadata": {},
   "source": [
    "#### Data frame after train test is as"
   ]
  },
  {
   "cell_type": "code",
   "execution_count": 265,
   "id": "ae333a56",
   "metadata": {},
   "outputs": [
    {
     "data": {
      "text/html": [
       "<div>\n",
       "<style scoped>\n",
       "    .dataframe tbody tr th:only-of-type {\n",
       "        vertical-align: middle;\n",
       "    }\n",
       "\n",
       "    .dataframe tbody tr th {\n",
       "        vertical-align: top;\n",
       "    }\n",
       "\n",
       "    .dataframe thead th {\n",
       "        text-align: right;\n",
       "    }\n",
       "</style>\n",
       "<table border=\"1\" class=\"dataframe\">\n",
       "  <thead>\n",
       "    <tr style=\"text-align: right;\">\n",
       "      <th></th>\n",
       "      <th>Actual</th>\n",
       "      <th>Predicted</th>\n",
       "    </tr>\n",
       "  </thead>\n",
       "  <tbody>\n",
       "    <tr>\n",
       "      <th>21</th>\n",
       "      <td>0.083</td>\n",
       "      <td>0.157747</td>\n",
       "    </tr>\n",
       "    <tr>\n",
       "      <th>30</th>\n",
       "      <td>0.100</td>\n",
       "      <td>0.153206</td>\n",
       "    </tr>\n",
       "    <tr>\n",
       "      <th>26</th>\n",
       "      <td>0.057</td>\n",
       "      <td>0.147933</td>\n",
       "    </tr>\n",
       "    <tr>\n",
       "      <th>60</th>\n",
       "      <td>0.392</td>\n",
       "      <td>0.387385</td>\n",
       "    </tr>\n",
       "    <tr>\n",
       "      <th>28</th>\n",
       "      <td>0.123</td>\n",
       "      <td>0.247173</td>\n",
       "    </tr>\n",
       "    <tr>\n",
       "      <th>...</th>\n",
       "      <td>...</td>\n",
       "      <td>...</td>\n",
       "    </tr>\n",
       "    <tr>\n",
       "      <th>180</th>\n",
       "      <td>0.633</td>\n",
       "      <td>0.608103</td>\n",
       "    </tr>\n",
       "    <tr>\n",
       "      <th>63</th>\n",
       "      <td>0.347</td>\n",
       "      <td>0.334261</td>\n",
       "    </tr>\n",
       "    <tr>\n",
       "      <th>77</th>\n",
       "      <td>0.134</td>\n",
       "      <td>0.244078</td>\n",
       "    </tr>\n",
       "    <tr>\n",
       "      <th>56</th>\n",
       "      <td>0.344</td>\n",
       "      <td>0.240344</td>\n",
       "    </tr>\n",
       "    <tr>\n",
       "      <th>23</th>\n",
       "      <td>0.071</td>\n",
       "      <td>0.168873</td>\n",
       "    </tr>\n",
       "  </tbody>\n",
       "</table>\n",
       "<p>65 rows × 2 columns</p>\n",
       "</div>"
      ],
      "text/plain": [
       "     Actual  Predicted\n",
       "21    0.083   0.157747\n",
       "30    0.100   0.153206\n",
       "26    0.057   0.147933\n",
       "60    0.392   0.387385\n",
       "28    0.123   0.247173\n",
       "..      ...        ...\n",
       "180   0.633   0.608103\n",
       "63    0.347   0.334261\n",
       "77    0.134   0.244078\n",
       "56    0.344   0.240344\n",
       "23    0.071   0.168873\n",
       "\n",
       "[65 rows x 2 columns]"
      ]
     },
     "execution_count": 265,
     "metadata": {},
     "output_type": "execute_result"
    }
   ],
   "source": [
    "new_df=pd.DataFrame({'Actual':y_test,'Predicted':y_predict})\n",
    "new_df"
   ]
  },
  {
   "cell_type": "code",
   "execution_count": 266,
   "id": "edd8cfbe",
   "metadata": {},
   "outputs": [
    {
     "data": {
      "text/plain": [
       "array([0.24953128, 0.68260051, 0.39487875, 0.24335984, 0.64219527,\n",
       "       0.24801981, 0.349779  , 0.44796789, 0.17220812, 0.4671044 ,\n",
       "       0.05106536, 0.34848727, 0.12172788, 0.465502  , 0.21511507,\n",
       "       0.51528315, 0.6248448 , 0.28010589, 0.27403713, 0.45555795,\n",
       "       0.75406794, 0.42503319, 0.27720496, 0.66890806, 0.34275386,\n",
       "       0.34602802, 0.15697596, 0.61689623, 0.20482618, 0.4599052 ,\n",
       "       0.59037089, 0.41662007, 0.16184402, 0.71601451, 0.51697086,\n",
       "       0.54833285, 0.41571493, 0.53094152, 0.28420021, 0.39434331,\n",
       "       0.28054101, 0.36326474, 0.36654685, 0.20761993, 0.16375845,\n",
       "       0.23124782, 0.34131003, 0.67155989, 0.44951752, 0.62103261,\n",
       "       0.04294735, 0.60259354, 0.65888194, 0.18649532, 0.12790012,\n",
       "       0.08832418, 0.32055615, 0.52692577, 0.26224164, 0.38865911,\n",
       "       0.52021723, 0.26506828, 0.23237816, 0.52151087, 0.41858412,\n",
       "       0.45423554, 0.37619367, 0.62986581, 0.51419433, 0.43014566,\n",
       "       0.35311149, 0.12460551, 0.52352074, 0.16967848, 0.43596673,\n",
       "       0.06468167, 0.29702005, 0.56983063, 0.45384169, 0.24581067,\n",
       "       0.16984907, 0.22236692, 0.25918451, 0.45758174, 0.19521735,\n",
       "       0.40440674, 0.32643734, 0.27013198, 0.44526608, 0.2483924 ,\n",
       "       0.31757766, 0.21216155, 0.24211575, 0.10413527, 0.54259179,\n",
       "       0.30335631, 0.1603565 , 0.25650985, 0.44196107, 0.30241672,\n",
       "       0.38237106, 0.70631514, 0.35879926, 0.33327347, 0.53048626,\n",
       "       0.63622362, 0.34481608, 0.14364811, 0.6848757 , 0.16730814,\n",
       "       0.22409784, 0.4667602 , 0.17063131, 0.32298441, 0.16193265,\n",
       "       0.2746778 , 0.5298769 , 0.56356829, 0.17260877, 0.49253437,\n",
       "       0.25641658, 0.26943989, 0.19728773, 0.17284905, 0.63424356,\n",
       "       0.41639343, 0.39683672, 0.14045197, 0.44595844, 0.49460719])"
      ]
     },
     "execution_count": 266,
     "metadata": {},
     "output_type": "execute_result"
    }
   ],
   "source": [
    "x_pred=model.predict(x_train)\n",
    "x_pred"
   ]
  },
  {
   "cell_type": "markdown",
   "id": "fe0117ba",
   "metadata": {},
   "source": [
    "#### Find mean squared error\n",
    "The Mean Squared Error measures how close a regression line is to a set of data points. It is a risk function corresponding to the expected value of the squared error loss."
   ]
  },
  {
   "cell_type": "code",
   "execution_count": 268,
   "id": "908ab91a",
   "metadata": {},
   "outputs": [],
   "source": [
    "from sklearn.metrics import mean_squared_error"
   ]
  },
  {
   "cell_type": "code",
   "execution_count": 269,
   "id": "3d6c2196",
   "metadata": {},
   "outputs": [
    {
     "data": {
      "text/plain": [
       "0.004382764543381089"
      ]
     },
     "execution_count": 269,
     "metadata": {},
     "output_type": "execute_result"
    }
   ],
   "source": [
    "mean_squared_error(y_test, y_predict)"
   ]
  },
  {
   "cell_type": "code",
   "execution_count": 270,
   "id": "8effc9eb",
   "metadata": {},
   "outputs": [
    {
     "data": {
      "text/plain": [
       "0.06620245118861603"
      ]
     },
     "execution_count": 270,
     "metadata": {},
     "output_type": "execute_result"
    }
   ],
   "source": [
    "np.sqrt(mean_squared_error(y_test, y_predict))"
   ]
  },
  {
   "cell_type": "markdown",
   "id": "2489a02f",
   "metadata": {},
   "source": [
    "#### Find mean absolute error\n",
    "It is the magnitude of difference between the prediction of an observation and the true value of that observation."
   ]
  },
  {
   "cell_type": "code",
   "execution_count": 271,
   "id": "ec71f12a",
   "metadata": {},
   "outputs": [],
   "source": [
    "from sklearn.metrics import mean_absolute_error"
   ]
  },
  {
   "cell_type": "code",
   "execution_count": 272,
   "id": "838e64cf",
   "metadata": {},
   "outputs": [
    {
     "data": {
      "text/plain": [
       "0.05619355992360332"
      ]
     },
     "execution_count": 272,
     "metadata": {},
     "output_type": "execute_result"
    }
   ],
   "source": [
    "mean_absolute_error(y_test, y_predict)"
   ]
  },
  {
   "cell_type": "markdown",
   "id": "a0416e94",
   "metadata": {},
   "source": [
    "#### Find R squared score\n",
    "It is proportion of the variance in the dependent variable that is predictable from the independent variable(s)."
   ]
  },
  {
   "cell_type": "code",
   "execution_count": 273,
   "id": "b414d1f3",
   "metadata": {
    "scrolled": true
   },
   "outputs": [],
   "source": [
    "from sklearn.metrics import r2_score"
   ]
  },
  {
   "cell_type": "code",
   "execution_count": 274,
   "id": "99fa73d1",
   "metadata": {},
   "outputs": [
    {
     "data": {
      "text/plain": [
       "0.8976855307852214"
      ]
     },
     "execution_count": 274,
     "metadata": {},
     "output_type": "execute_result"
    }
   ],
   "source": [
    "r2_score(y_test, y_predict)"
   ]
  },
  {
   "cell_type": "markdown",
   "id": "c1ca9a13",
   "metadata": {},
   "source": [
    "#### Find accuracy of model"
   ]
  },
  {
   "cell_type": "code",
   "execution_count": 275,
   "id": "636f657d",
   "metadata": {},
   "outputs": [
    {
     "data": {
      "text/plain": [
       "89.76855307852215"
      ]
     },
     "execution_count": 275,
     "metadata": {},
     "output_type": "execute_result"
    }
   ],
   "source": [
    "accuracy=r2_score(y_test,y_predict)*100\n",
    "accuracy"
   ]
  },
  {
   "cell_type": "code",
   "execution_count": 278,
   "id": "61b897b8",
   "metadata": {},
   "outputs": [
    {
     "data": {
      "text/plain": [
       "81.21043468250286"
      ]
     },
     "execution_count": 278,
     "metadata": {},
     "output_type": "execute_result"
    }
   ],
   "source": [
    "model.score(x_train,y_train)*100"
   ]
  },
  {
   "cell_type": "code",
   "execution_count": 279,
   "id": "ea0f34c0",
   "metadata": {},
   "outputs": [
    {
     "data": {
      "text/plain": [
       "89.76855307852215"
      ]
     },
     "execution_count": 279,
     "metadata": {},
     "output_type": "execute_result"
    }
   ],
   "source": [
    "model.score(x_test,y_test)*100"
   ]
  },
  {
   "cell_type": "markdown",
   "id": "15556ad9",
   "metadata": {},
   "source": [
    "The accuracy of model is 89% it is consider as strong relation between the GII and its attributes."
   ]
  },
  {
   "cell_type": "markdown",
   "id": "2a2a6e1a",
   "metadata": {},
   "source": [
    "### Final Conclusion\n",
    "1. 'Gender Inequality Index' data shows higher accurary of 89% for multiple linear regression analysis.\n",
    "2. Train-Test-Split method of regression is highly suited for this data.\n",
    "3. After looking to the accuracy we can say that data may be of poor quality or insufficent"
   ]
  }
 ],
 "metadata": {
  "kernelspec": {
   "display_name": "Python 3 (ipykernel)",
   "language": "python",
   "name": "python3"
  },
  "language_info": {
   "codemirror_mode": {
    "name": "ipython",
    "version": 3
   },
   "file_extension": ".py",
   "mimetype": "text/x-python",
   "name": "python",
   "nbconvert_exporter": "python",
   "pygments_lexer": "ipython3",
   "version": "3.9.13"
  }
 },
 "nbformat": 4,
 "nbformat_minor": 5
}
