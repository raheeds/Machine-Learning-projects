{
 "cells": [
  {
   "cell_type": "markdown",
   "id": "a42b0489",
   "metadata": {},
   "source": [
    "## Simple Linear Regression analysis \n",
    "### On \" Housing Details\"\n",
    "\n",
    "### Aim:\n",
    "- To find the relation of housing values based on the income generation of the people.\n",
    "\n",
    "Outline:                \n",
    "1. Explore the dataset using pandas framework.\n",
    "2. Visualize the dataset using matplotlib,seabon library.\n",
    "3. Perform simple linear regression.\n",
    "4. Build model using 'train-test-split method'.\n",
    "\n",
    "About dataset:\n",
    "Dataset 'housing details' is refere from the kaggle dataset.\n",
    "\n",
    "reference link: https://www.kaggle.com/datasets/camnugent/california-housing-prices                   \n",
    "\n",
    "The data contains information from the 1990 California census. So although it may not help you with predicting current housing prices but, it does provide an accessible introductory dataset for teaching people about the basics of machine learning.                                                           \n",
    "\n",
    "Dataset contains:\n",
    "1. income: income for households within a block of houses (measured in tens of thousands of US Dollar)\n",
    "2. house_value: house value for households within a block (measured in US Dollar)\n",
    "3. oceanProximity: Location of the house w.r.t ocean/sea"
   ]
  },
  {
   "cell_type": "markdown",
   "id": "690eb5d6",
   "metadata": {},
   "source": [
    "#### Import library"
   ]
  },
  {
   "cell_type": "code",
   "execution_count": 3,
   "id": "b97201f0",
   "metadata": {},
   "outputs": [],
   "source": [
    "import numpy as np\n",
    "import pandas as pd\n",
    "import statistics as st\n",
    "import seaborn as sns\n",
    "import matplotlib.pyplot as plt\n",
    "import math\n",
    "import warnings\n",
    "warnings.filterwarnings('ignore')"
   ]
  },
  {
   "cell_type": "markdown",
   "id": "83a7980b",
   "metadata": {},
   "source": [
    "#### Read the file"
   ]
  },
  {
   "cell_type": "code",
   "execution_count": 4,
   "id": "ace86427",
   "metadata": {},
   "outputs": [
    {
     "data": {
      "text/html": [
       "<div>\n",
       "<style scoped>\n",
       "    .dataframe tbody tr th:only-of-type {\n",
       "        vertical-align: middle;\n",
       "    }\n",
       "\n",
       "    .dataframe tbody tr th {\n",
       "        vertical-align: top;\n",
       "    }\n",
       "\n",
       "    .dataframe thead th {\n",
       "        text-align: right;\n",
       "    }\n",
       "</style>\n",
       "<table border=\"1\" class=\"dataframe\">\n",
       "  <thead>\n",
       "    <tr style=\"text-align: right;\">\n",
       "      <th></th>\n",
       "      <th>income</th>\n",
       "      <th>house_value</th>\n",
       "      <th>ocean_proximity</th>\n",
       "    </tr>\n",
       "  </thead>\n",
       "  <tbody>\n",
       "    <tr>\n",
       "      <th>0</th>\n",
       "      <td>8.3252</td>\n",
       "      <td>452600</td>\n",
       "      <td>NEAR BAY</td>\n",
       "    </tr>\n",
       "    <tr>\n",
       "      <th>1</th>\n",
       "      <td>8.3014</td>\n",
       "      <td>358500</td>\n",
       "      <td>NEAR BAY</td>\n",
       "    </tr>\n",
       "    <tr>\n",
       "      <th>2</th>\n",
       "      <td>7.2574</td>\n",
       "      <td>352100</td>\n",
       "      <td>NEAR BAY</td>\n",
       "    </tr>\n",
       "    <tr>\n",
       "      <th>3</th>\n",
       "      <td>5.6431</td>\n",
       "      <td>341300</td>\n",
       "      <td>NEAR BAY</td>\n",
       "    </tr>\n",
       "    <tr>\n",
       "      <th>4</th>\n",
       "      <td>3.8462</td>\n",
       "      <td>342200</td>\n",
       "      <td>NEAR BAY</td>\n",
       "    </tr>\n",
       "    <tr>\n",
       "      <th>...</th>\n",
       "      <td>...</td>\n",
       "      <td>...</td>\n",
       "      <td>...</td>\n",
       "    </tr>\n",
       "    <tr>\n",
       "      <th>20635</th>\n",
       "      <td>1.5603</td>\n",
       "      <td>78100</td>\n",
       "      <td>INLAND</td>\n",
       "    </tr>\n",
       "    <tr>\n",
       "      <th>20636</th>\n",
       "      <td>2.5568</td>\n",
       "      <td>77100</td>\n",
       "      <td>INLAND</td>\n",
       "    </tr>\n",
       "    <tr>\n",
       "      <th>20637</th>\n",
       "      <td>1.7000</td>\n",
       "      <td>92300</td>\n",
       "      <td>INLAND</td>\n",
       "    </tr>\n",
       "    <tr>\n",
       "      <th>20638</th>\n",
       "      <td>1.8672</td>\n",
       "      <td>84700</td>\n",
       "      <td>INLAND</td>\n",
       "    </tr>\n",
       "    <tr>\n",
       "      <th>20639</th>\n",
       "      <td>2.3886</td>\n",
       "      <td>89400</td>\n",
       "      <td>INLAND</td>\n",
       "    </tr>\n",
       "  </tbody>\n",
       "</table>\n",
       "<p>20640 rows × 3 columns</p>\n",
       "</div>"
      ],
      "text/plain": [
       "       income  house_value ocean_proximity\n",
       "0      8.3252       452600        NEAR BAY\n",
       "1      8.3014       358500        NEAR BAY\n",
       "2      7.2574       352100        NEAR BAY\n",
       "3      5.6431       341300        NEAR BAY\n",
       "4      3.8462       342200        NEAR BAY\n",
       "...       ...          ...             ...\n",
       "20635  1.5603        78100          INLAND\n",
       "20636  2.5568        77100          INLAND\n",
       "20637  1.7000        92300          INLAND\n",
       "20638  1.8672        84700          INLAND\n",
       "20639  2.3886        89400          INLAND\n",
       "\n",
       "[20640 rows x 3 columns]"
      ]
     },
     "execution_count": 4,
     "metadata": {},
     "output_type": "execute_result"
    }
   ],
   "source": [
    "df=pd.read_csv('housing details.csv')\n",
    "df"
   ]
  },
  {
   "cell_type": "markdown",
   "id": "a3e183d3",
   "metadata": {},
   "source": [
    "#### Find shape  and size of the dataset"
   ]
  },
  {
   "cell_type": "code",
   "execution_count": 199,
   "id": "66f43602",
   "metadata": {},
   "outputs": [
    {
     "data": {
      "text/plain": [
       "(20640, 3)"
      ]
     },
     "execution_count": 199,
     "metadata": {},
     "output_type": "execute_result"
    }
   ],
   "source": [
    "df.shape"
   ]
  },
  {
   "cell_type": "code",
   "execution_count": 200,
   "id": "06909dd9",
   "metadata": {},
   "outputs": [
    {
     "data": {
      "text/plain": [
       "61920"
      ]
     },
     "execution_count": 200,
     "metadata": {},
     "output_type": "execute_result"
    }
   ],
   "source": [
    "df.size"
   ]
  },
  {
   "cell_type": "markdown",
   "id": "43a896c6",
   "metadata": {},
   "source": [
    "#### Show the datatypes present in the data"
   ]
  },
  {
   "cell_type": "code",
   "execution_count": 204,
   "id": "8bd62be0",
   "metadata": {},
   "outputs": [
    {
     "data": {
      "text/plain": [
       "income             float64\n",
       "house_value          int64\n",
       "ocean_proximity     object\n",
       "dtype: object"
      ]
     },
     "execution_count": 204,
     "metadata": {},
     "output_type": "execute_result"
    }
   ],
   "source": [
    "df.dtypes"
   ]
  },
  {
   "cell_type": "markdown",
   "id": "6ef89fa3",
   "metadata": {},
   "source": [
    "#### Columns present in data as"
   ]
  },
  {
   "cell_type": "code",
   "execution_count": 206,
   "id": "679b0018",
   "metadata": {},
   "outputs": [
    {
     "data": {
      "text/plain": [
       "Index(['income', 'house_value', 'ocean_proximity'], dtype='object')"
      ]
     },
     "execution_count": 206,
     "metadata": {},
     "output_type": "execute_result"
    }
   ],
   "source": [
    "df.columns"
   ]
  },
  {
   "cell_type": "markdown",
   "id": "b6bfb0b3",
   "metadata": {},
   "source": [
    "Three columns 'income', 'house_value', 'ocean_proximity' are present in the given dataset."
   ]
  },
  {
   "cell_type": "markdown",
   "id": "78863028",
   "metadata": {},
   "source": [
    "#### Gather information about the dataset."
   ]
  },
  {
   "cell_type": "code",
   "execution_count": 147,
   "id": "db2a1716",
   "metadata": {},
   "outputs": [
    {
     "name": "stdout",
     "output_type": "stream",
     "text": [
      "<class 'pandas.core.frame.DataFrame'>\n",
      "RangeIndex: 20640 entries, 0 to 20639\n",
      "Data columns (total 3 columns):\n",
      " #   Column           Non-Null Count  Dtype  \n",
      "---  ------           --------------  -----  \n",
      " 0   income           20640 non-null  float64\n",
      " 1   house_value      20640 non-null  int64  \n",
      " 2   ocean_proximity  20640 non-null  object \n",
      "dtypes: float64(1), int64(1), object(1)\n",
      "memory usage: 483.9+ KB\n"
     ]
    }
   ],
   "source": [
    "df.info()"
   ]
  },
  {
   "cell_type": "markdown",
   "id": "62c7419b",
   "metadata": {},
   "source": [
    "As we can see, the dataset is full, no pass (non-null), so there is no need to fill the gaps. The dataset contains 1 integer (int64) and 1 float (float64(1)) and one (object) features."
   ]
  },
  {
   "cell_type": "markdown",
   "id": "9c393d34",
   "metadata": {},
   "source": [
    "#### lets check for the null values"
   ]
  },
  {
   "cell_type": "code",
   "execution_count": 148,
   "id": "90399f7d",
   "metadata": {},
   "outputs": [
    {
     "data": {
      "text/plain": [
       "income             0\n",
       "house_value        0\n",
       "ocean_proximity    0\n",
       "dtype: int64"
      ]
     },
     "execution_count": 148,
     "metadata": {},
     "output_type": "execute_result"
    }
   ],
   "source": [
    "df.isnull().sum()"
   ]
  },
  {
   "cell_type": "markdown",
   "id": "0253275f",
   "metadata": {},
   "source": [
    "There is no null value present in dataset.No need to make corrections to dataset."
   ]
  },
  {
   "cell_type": "markdown",
   "id": "9c9bd4e8",
   "metadata": {},
   "source": [
    "#### Describe the data"
   ]
  },
  {
   "cell_type": "code",
   "execution_count": 219,
   "id": "809a82ab",
   "metadata": {},
   "outputs": [
    {
     "data": {
      "text/html": [
       "<div>\n",
       "<style scoped>\n",
       "    .dataframe tbody tr th:only-of-type {\n",
       "        vertical-align: middle;\n",
       "    }\n",
       "\n",
       "    .dataframe tbody tr th {\n",
       "        vertical-align: top;\n",
       "    }\n",
       "\n",
       "    .dataframe thead th {\n",
       "        text-align: right;\n",
       "    }\n",
       "</style>\n",
       "<table border=\"1\" class=\"dataframe\">\n",
       "  <thead>\n",
       "    <tr style=\"text-align: right;\">\n",
       "      <th></th>\n",
       "      <th>income</th>\n",
       "      <th>house_value</th>\n",
       "    </tr>\n",
       "  </thead>\n",
       "  <tbody>\n",
       "    <tr>\n",
       "      <th>count</th>\n",
       "      <td>20640.000000</td>\n",
       "      <td>20640.000000</td>\n",
       "    </tr>\n",
       "    <tr>\n",
       "      <th>mean</th>\n",
       "      <td>3.870671</td>\n",
       "      <td>206855.816909</td>\n",
       "    </tr>\n",
       "    <tr>\n",
       "      <th>std</th>\n",
       "      <td>1.899822</td>\n",
       "      <td>115395.615874</td>\n",
       "    </tr>\n",
       "    <tr>\n",
       "      <th>min</th>\n",
       "      <td>0.499900</td>\n",
       "      <td>14999.000000</td>\n",
       "    </tr>\n",
       "    <tr>\n",
       "      <th>25%</th>\n",
       "      <td>2.563400</td>\n",
       "      <td>119600.000000</td>\n",
       "    </tr>\n",
       "    <tr>\n",
       "      <th>50%</th>\n",
       "      <td>3.534800</td>\n",
       "      <td>179700.000000</td>\n",
       "    </tr>\n",
       "    <tr>\n",
       "      <th>75%</th>\n",
       "      <td>4.743250</td>\n",
       "      <td>264725.000000</td>\n",
       "    </tr>\n",
       "    <tr>\n",
       "      <th>max</th>\n",
       "      <td>15.000100</td>\n",
       "      <td>500001.000000</td>\n",
       "    </tr>\n",
       "  </tbody>\n",
       "</table>\n",
       "</div>"
      ],
      "text/plain": [
       "             income    house_value\n",
       "count  20640.000000   20640.000000\n",
       "mean       3.870671  206855.816909\n",
       "std        1.899822  115395.615874\n",
       "min        0.499900   14999.000000\n",
       "25%        2.563400  119600.000000\n",
       "50%        3.534800  179700.000000\n",
       "75%        4.743250  264725.000000\n",
       "max       15.000100  500001.000000"
      ]
     },
     "execution_count": 219,
     "metadata": {},
     "output_type": "execute_result"
    }
   ],
   "source": [
    "df.describe()"
   ]
  },
  {
   "cell_type": "markdown",
   "id": "84f57fa8",
   "metadata": {},
   "source": [
    "#### Display the some rows of the dataset."
   ]
  },
  {
   "cell_type": "code",
   "execution_count": 201,
   "id": "3c9deda3",
   "metadata": {},
   "outputs": [
    {
     "data": {
      "text/html": [
       "<div>\n",
       "<style scoped>\n",
       "    .dataframe tbody tr th:only-of-type {\n",
       "        vertical-align: middle;\n",
       "    }\n",
       "\n",
       "    .dataframe tbody tr th {\n",
       "        vertical-align: top;\n",
       "    }\n",
       "\n",
       "    .dataframe thead th {\n",
       "        text-align: right;\n",
       "    }\n",
       "</style>\n",
       "<table border=\"1\" class=\"dataframe\">\n",
       "  <thead>\n",
       "    <tr style=\"text-align: right;\">\n",
       "      <th></th>\n",
       "      <th>income</th>\n",
       "      <th>house_value</th>\n",
       "      <th>ocean_proximity</th>\n",
       "    </tr>\n",
       "  </thead>\n",
       "  <tbody>\n",
       "    <tr>\n",
       "      <th>0</th>\n",
       "      <td>8.3252</td>\n",
       "      <td>452600</td>\n",
       "      <td>NEAR BAY</td>\n",
       "    </tr>\n",
       "    <tr>\n",
       "      <th>1</th>\n",
       "      <td>8.3014</td>\n",
       "      <td>358500</td>\n",
       "      <td>NEAR BAY</td>\n",
       "    </tr>\n",
       "    <tr>\n",
       "      <th>2</th>\n",
       "      <td>7.2574</td>\n",
       "      <td>352100</td>\n",
       "      <td>NEAR BAY</td>\n",
       "    </tr>\n",
       "    <tr>\n",
       "      <th>3</th>\n",
       "      <td>5.6431</td>\n",
       "      <td>341300</td>\n",
       "      <td>NEAR BAY</td>\n",
       "    </tr>\n",
       "    <tr>\n",
       "      <th>4</th>\n",
       "      <td>3.8462</td>\n",
       "      <td>342200</td>\n",
       "      <td>NEAR BAY</td>\n",
       "    </tr>\n",
       "    <tr>\n",
       "      <th>5</th>\n",
       "      <td>4.0368</td>\n",
       "      <td>269700</td>\n",
       "      <td>NEAR BAY</td>\n",
       "    </tr>\n",
       "    <tr>\n",
       "      <th>6</th>\n",
       "      <td>3.6591</td>\n",
       "      <td>299200</td>\n",
       "      <td>NEAR BAY</td>\n",
       "    </tr>\n",
       "    <tr>\n",
       "      <th>7</th>\n",
       "      <td>3.1200</td>\n",
       "      <td>241400</td>\n",
       "      <td>NEAR BAY</td>\n",
       "    </tr>\n",
       "    <tr>\n",
       "      <th>8</th>\n",
       "      <td>2.0804</td>\n",
       "      <td>226700</td>\n",
       "      <td>NEAR BAY</td>\n",
       "    </tr>\n",
       "    <tr>\n",
       "      <th>9</th>\n",
       "      <td>3.6912</td>\n",
       "      <td>261100</td>\n",
       "      <td>NEAR BAY</td>\n",
       "    </tr>\n",
       "  </tbody>\n",
       "</table>\n",
       "</div>"
      ],
      "text/plain": [
       "   income  house_value ocean_proximity\n",
       "0  8.3252       452600        NEAR BAY\n",
       "1  8.3014       358500        NEAR BAY\n",
       "2  7.2574       352100        NEAR BAY\n",
       "3  5.6431       341300        NEAR BAY\n",
       "4  3.8462       342200        NEAR BAY\n",
       "5  4.0368       269700        NEAR BAY\n",
       "6  3.6591       299200        NEAR BAY\n",
       "7  3.1200       241400        NEAR BAY\n",
       "8  2.0804       226700        NEAR BAY\n",
       "9  3.6912       261100        NEAR BAY"
      ]
     },
     "execution_count": 201,
     "metadata": {},
     "output_type": "execute_result"
    }
   ],
   "source": [
    "df.head(10)"
   ]
  },
  {
   "cell_type": "code",
   "execution_count": 202,
   "id": "2561691b",
   "metadata": {},
   "outputs": [
    {
     "data": {
      "text/html": [
       "<div>\n",
       "<style scoped>\n",
       "    .dataframe tbody tr th:only-of-type {\n",
       "        vertical-align: middle;\n",
       "    }\n",
       "\n",
       "    .dataframe tbody tr th {\n",
       "        vertical-align: top;\n",
       "    }\n",
       "\n",
       "    .dataframe thead th {\n",
       "        text-align: right;\n",
       "    }\n",
       "</style>\n",
       "<table border=\"1\" class=\"dataframe\">\n",
       "  <thead>\n",
       "    <tr style=\"text-align: right;\">\n",
       "      <th></th>\n",
       "      <th>income</th>\n",
       "      <th>house_value</th>\n",
       "      <th>ocean_proximity</th>\n",
       "    </tr>\n",
       "  </thead>\n",
       "  <tbody>\n",
       "    <tr>\n",
       "      <th>20630</th>\n",
       "      <td>3.5673</td>\n",
       "      <td>112000</td>\n",
       "      <td>INLAND</td>\n",
       "    </tr>\n",
       "    <tr>\n",
       "      <th>20631</th>\n",
       "      <td>3.5179</td>\n",
       "      <td>107200</td>\n",
       "      <td>INLAND</td>\n",
       "    </tr>\n",
       "    <tr>\n",
       "      <th>20632</th>\n",
       "      <td>3.1250</td>\n",
       "      <td>115600</td>\n",
       "      <td>INLAND</td>\n",
       "    </tr>\n",
       "    <tr>\n",
       "      <th>20633</th>\n",
       "      <td>2.5495</td>\n",
       "      <td>98300</td>\n",
       "      <td>INLAND</td>\n",
       "    </tr>\n",
       "    <tr>\n",
       "      <th>20634</th>\n",
       "      <td>3.7125</td>\n",
       "      <td>116800</td>\n",
       "      <td>INLAND</td>\n",
       "    </tr>\n",
       "    <tr>\n",
       "      <th>20635</th>\n",
       "      <td>1.5603</td>\n",
       "      <td>78100</td>\n",
       "      <td>INLAND</td>\n",
       "    </tr>\n",
       "    <tr>\n",
       "      <th>20636</th>\n",
       "      <td>2.5568</td>\n",
       "      <td>77100</td>\n",
       "      <td>INLAND</td>\n",
       "    </tr>\n",
       "    <tr>\n",
       "      <th>20637</th>\n",
       "      <td>1.7000</td>\n",
       "      <td>92300</td>\n",
       "      <td>INLAND</td>\n",
       "    </tr>\n",
       "    <tr>\n",
       "      <th>20638</th>\n",
       "      <td>1.8672</td>\n",
       "      <td>84700</td>\n",
       "      <td>INLAND</td>\n",
       "    </tr>\n",
       "    <tr>\n",
       "      <th>20639</th>\n",
       "      <td>2.3886</td>\n",
       "      <td>89400</td>\n",
       "      <td>INLAND</td>\n",
       "    </tr>\n",
       "  </tbody>\n",
       "</table>\n",
       "</div>"
      ],
      "text/plain": [
       "       income  house_value ocean_proximity\n",
       "20630  3.5673       112000          INLAND\n",
       "20631  3.5179       107200          INLAND\n",
       "20632  3.1250       115600          INLAND\n",
       "20633  2.5495        98300          INLAND\n",
       "20634  3.7125       116800          INLAND\n",
       "20635  1.5603        78100          INLAND\n",
       "20636  2.5568        77100          INLAND\n",
       "20637  1.7000        92300          INLAND\n",
       "20638  1.8672        84700          INLAND\n",
       "20639  2.3886        89400          INLAND"
      ]
     },
     "execution_count": 202,
     "metadata": {},
     "output_type": "execute_result"
    }
   ],
   "source": [
    "df.tail(10)"
   ]
  },
  {
   "cell_type": "markdown",
   "id": "2e9a01f1",
   "metadata": {},
   "source": [
    "#### remove unnessesary data"
   ]
  },
  {
   "cell_type": "code",
   "execution_count": 3,
   "id": "a9813d6e",
   "metadata": {},
   "outputs": [],
   "source": [
    "df.drop(['ocean_proximity'],axis=1,inplace=True)"
   ]
  },
  {
   "cell_type": "code",
   "execution_count": 4,
   "id": "d1001362",
   "metadata": {},
   "outputs": [
    {
     "data": {
      "text/html": [
       "<div>\n",
       "<style scoped>\n",
       "    .dataframe tbody tr th:only-of-type {\n",
       "        vertical-align: middle;\n",
       "    }\n",
       "\n",
       "    .dataframe tbody tr th {\n",
       "        vertical-align: top;\n",
       "    }\n",
       "\n",
       "    .dataframe thead th {\n",
       "        text-align: right;\n",
       "    }\n",
       "</style>\n",
       "<table border=\"1\" class=\"dataframe\">\n",
       "  <thead>\n",
       "    <tr style=\"text-align: right;\">\n",
       "      <th></th>\n",
       "      <th>income</th>\n",
       "      <th>house_value</th>\n",
       "    </tr>\n",
       "  </thead>\n",
       "  <tbody>\n",
       "    <tr>\n",
       "      <th>0</th>\n",
       "      <td>8.3252</td>\n",
       "      <td>452600</td>\n",
       "    </tr>\n",
       "    <tr>\n",
       "      <th>1</th>\n",
       "      <td>8.3014</td>\n",
       "      <td>358500</td>\n",
       "    </tr>\n",
       "    <tr>\n",
       "      <th>2</th>\n",
       "      <td>7.2574</td>\n",
       "      <td>352100</td>\n",
       "    </tr>\n",
       "    <tr>\n",
       "      <th>3</th>\n",
       "      <td>5.6431</td>\n",
       "      <td>341300</td>\n",
       "    </tr>\n",
       "    <tr>\n",
       "      <th>4</th>\n",
       "      <td>3.8462</td>\n",
       "      <td>342200</td>\n",
       "    </tr>\n",
       "    <tr>\n",
       "      <th>...</th>\n",
       "      <td>...</td>\n",
       "      <td>...</td>\n",
       "    </tr>\n",
       "    <tr>\n",
       "      <th>20635</th>\n",
       "      <td>1.5603</td>\n",
       "      <td>78100</td>\n",
       "    </tr>\n",
       "    <tr>\n",
       "      <th>20636</th>\n",
       "      <td>2.5568</td>\n",
       "      <td>77100</td>\n",
       "    </tr>\n",
       "    <tr>\n",
       "      <th>20637</th>\n",
       "      <td>1.7000</td>\n",
       "      <td>92300</td>\n",
       "    </tr>\n",
       "    <tr>\n",
       "      <th>20638</th>\n",
       "      <td>1.8672</td>\n",
       "      <td>84700</td>\n",
       "    </tr>\n",
       "    <tr>\n",
       "      <th>20639</th>\n",
       "      <td>2.3886</td>\n",
       "      <td>89400</td>\n",
       "    </tr>\n",
       "  </tbody>\n",
       "</table>\n",
       "<p>20640 rows × 2 columns</p>\n",
       "</div>"
      ],
      "text/plain": [
       "       income  house_value\n",
       "0      8.3252       452600\n",
       "1      8.3014       358500\n",
       "2      7.2574       352100\n",
       "3      5.6431       341300\n",
       "4      3.8462       342200\n",
       "...       ...          ...\n",
       "20635  1.5603        78100\n",
       "20636  2.5568        77100\n",
       "20637  1.7000        92300\n",
       "20638  1.8672        84700\n",
       "20639  2.3886        89400\n",
       "\n",
       "[20640 rows x 2 columns]"
      ]
     },
     "execution_count": 4,
     "metadata": {},
     "output_type": "execute_result"
    }
   ],
   "source": [
    "df"
   ]
  },
  {
   "cell_type": "markdown",
   "id": "a146127f",
   "metadata": {},
   "source": [
    "#### sorting of the data with respect to income"
   ]
  },
  {
   "cell_type": "code",
   "execution_count": 5,
   "id": "ca40ac69",
   "metadata": {},
   "outputs": [
    {
     "data": {
      "text/html": [
       "<div>\n",
       "<style scoped>\n",
       "    .dataframe tbody tr th:only-of-type {\n",
       "        vertical-align: middle;\n",
       "    }\n",
       "\n",
       "    .dataframe tbody tr th {\n",
       "        vertical-align: top;\n",
       "    }\n",
       "\n",
       "    .dataframe thead th {\n",
       "        text-align: right;\n",
       "    }\n",
       "</style>\n",
       "<table border=\"1\" class=\"dataframe\">\n",
       "  <thead>\n",
       "    <tr style=\"text-align: right;\">\n",
       "      <th></th>\n",
       "      <th>income</th>\n",
       "      <th>house_value</th>\n",
       "    </tr>\n",
       "  </thead>\n",
       "  <tbody>\n",
       "    <tr>\n",
       "      <th>4861</th>\n",
       "      <td>0.4999</td>\n",
       "      <td>500001</td>\n",
       "    </tr>\n",
       "    <tr>\n",
       "      <th>7125</th>\n",
       "      <td>0.4999</td>\n",
       "      <td>162500</td>\n",
       "    </tr>\n",
       "    <tr>\n",
       "      <th>6688</th>\n",
       "      <td>0.4999</td>\n",
       "      <td>500001</td>\n",
       "    </tr>\n",
       "    <tr>\n",
       "      <th>19800</th>\n",
       "      <td>0.4999</td>\n",
       "      <td>56700</td>\n",
       "    </tr>\n",
       "    <tr>\n",
       "      <th>6343</th>\n",
       "      <td>0.4999</td>\n",
       "      <td>112500</td>\n",
       "    </tr>\n",
       "    <tr>\n",
       "      <th>20091</th>\n",
       "      <td>0.4999</td>\n",
       "      <td>162500</td>\n",
       "    </tr>\n",
       "    <tr>\n",
       "      <th>13999</th>\n",
       "      <td>0.4999</td>\n",
       "      <td>55000</td>\n",
       "    </tr>\n",
       "    <tr>\n",
       "      <th>5213</th>\n",
       "      <td>0.4999</td>\n",
       "      <td>90600</td>\n",
       "    </tr>\n",
       "    <tr>\n",
       "      <th>3258</th>\n",
       "      <td>0.4999</td>\n",
       "      <td>73500</td>\n",
       "    </tr>\n",
       "    <tr>\n",
       "      <th>19523</th>\n",
       "      <td>0.4999</td>\n",
       "      <td>82500</td>\n",
       "    </tr>\n",
       "  </tbody>\n",
       "</table>\n",
       "</div>"
      ],
      "text/plain": [
       "       income  house_value\n",
       "4861   0.4999       500001\n",
       "7125   0.4999       162500\n",
       "6688   0.4999       500001\n",
       "19800  0.4999        56700\n",
       "6343   0.4999       112500\n",
       "20091  0.4999       162500\n",
       "13999  0.4999        55000\n",
       "5213   0.4999        90600\n",
       "3258   0.4999        73500\n",
       "19523  0.4999        82500"
      ]
     },
     "execution_count": 5,
     "metadata": {},
     "output_type": "execute_result"
    }
   ],
   "source": [
    "df.sort_values(by = [\"income\"], ascending =True).head(10)"
   ]
  },
  {
   "cell_type": "markdown",
   "id": "9bb02531",
   "metadata": {},
   "source": [
    "### Visualization\n",
    "\n",
    "After exploring data start the visualization of dataset.                                              \n",
    "Find the relationship between the columns present in the data."
   ]
  },
  {
   "cell_type": "code",
   "execution_count": 5,
   "id": "e7c22f2c",
   "metadata": {},
   "outputs": [
    {
     "data": {
      "image/png": "[encoded data removed]",
      "text/plain": [
       "<Figure size 640x480 with 1 Axes>"
      ]
     },
     "metadata": {},
     "output_type": "display_data"
    }
   ],
   "source": [
    "plt.scatter(x='income',y='house_value',data=df,color='green',marker='*')\n",
    "plt.xlabel('income')\n",
    "plt.ylabel('house_value')\n",
    "plt.show()"
   ]
  },
  {
   "cell_type": "markdown",
   "id": "2b61bf33",
   "metadata": {},
   "source": [
    "The graph shows the value of the house is depend on the income of the household."
   ]
  },
  {
   "cell_type": "code",
   "execution_count": 209,
   "id": "5c4930ae",
   "metadata": {},
   "outputs": [
    {
     "data": {
      "text/html": [
       "<div>\n",
       "<style scoped>\n",
       "    .dataframe tbody tr th:only-of-type {\n",
       "        vertical-align: middle;\n",
       "    }\n",
       "\n",
       "    .dataframe tbody tr th {\n",
       "        vertical-align: top;\n",
       "    }\n",
       "\n",
       "    .dataframe thead th {\n",
       "        text-align: right;\n",
       "    }\n",
       "</style>\n",
       "<table border=\"1\" class=\"dataframe\">\n",
       "  <thead>\n",
       "    <tr style=\"text-align: right;\">\n",
       "      <th></th>\n",
       "      <th>income</th>\n",
       "      <th>house_value</th>\n",
       "    </tr>\n",
       "  </thead>\n",
       "  <tbody>\n",
       "    <tr>\n",
       "      <th>income</th>\n",
       "      <td>1.000000</td>\n",
       "      <td>0.688075</td>\n",
       "    </tr>\n",
       "    <tr>\n",
       "      <th>house_value</th>\n",
       "      <td>0.688075</td>\n",
       "      <td>1.000000</td>\n",
       "    </tr>\n",
       "  </tbody>\n",
       "</table>\n",
       "</div>"
      ],
      "text/plain": [
       "               income  house_value\n",
       "income       1.000000     0.688075\n",
       "house_value  0.688075     1.000000"
      ]
     },
     "execution_count": 209,
     "metadata": {},
     "output_type": "execute_result"
    }
   ],
   "source": [
    "df.corr()"
   ]
  },
  {
   "cell_type": "markdown",
   "id": "35a94418",
   "metadata": {},
   "source": [
    "#### Let's check for the Outliers\n",
    "Outliers are the abnormal values in a dataset that don't go with the regular distribution and have the potential to significantly distort any regression model."
   ]
  },
  {
   "cell_type": "code",
   "execution_count": 211,
   "id": "c58f947b",
   "metadata": {},
   "outputs": [
    {
     "data": {
      "image/png": "[encoded data removed]",
      "text/plain": [
       "<Figure size 640x480 with 1 Axes>"
      ]
     },
     "metadata": {},
     "output_type": "display_data"
    }
   ],
   "source": [
    "sns.boxplot('income',data=df)\n",
    "plt.show()"
   ]
  },
  {
   "cell_type": "markdown",
   "id": "116bfb29",
   "metadata": {},
   "source": [
    "After looking at this graph, it can be said that 'income' contains a good number of outliers. As outliers affects regression model, let's see what accuracy we get."
   ]
  },
  {
   "cell_type": "code",
   "execution_count": 212,
   "id": "412d5629",
   "metadata": {},
   "outputs": [
    {
     "data": {
      "image/png": "[encoded data removed]",
      "text/plain": [
       "<Figure size 640x480 with 1 Axes>"
      ]
     },
     "metadata": {},
     "output_type": "display_data"
    }
   ],
   "source": [
    "sns.boxplot('house_value',data=df)\n",
    "plt.show()"
   ]
  },
  {
   "cell_type": "markdown",
   "id": "cddf0b7a",
   "metadata": {},
   "source": [
    "Values of house contains less no of outliers compare to income."
   ]
  },
  {
   "cell_type": "markdown",
   "id": "acb34b2f",
   "metadata": {},
   "source": [
    "### Simple Linear Regression\n",
    "- Simple linear regression is a regression model that estimates the relationship between one independent variable and one dependent variable using a straight line. \n",
    "- Both variables should be quantitative."
   ]
  },
  {
   "cell_type": "markdown",
   "id": "c22f5d4a",
   "metadata": {},
   "source": [
    "Equation of linear regression\n",
    "y=c+m1x1+m2x2+...+mnxn\n",
    " \n",
    "y is the response                                                                                     \n",
    "c is the intercept                                                                                    \n",
    "m1 is the coefficient for the first feature                                                           \n",
    "mn is the coefficient for the nth feature                                                                                                                                                              \n",
    "In our case:                                                                                          \n",
    "y=c+m1×income"
   ]
  },
  {
   "cell_type": "markdown",
   "id": "59c05814",
   "metadata": {},
   "source": [
    "Use the scikit-learn library for the linear regression."
   ]
  },
  {
   "cell_type": "code",
   "execution_count": 156,
   "id": "26235b0a",
   "metadata": {},
   "outputs": [],
   "source": [
    "from sklearn import linear_model"
   ]
  },
  {
   "cell_type": "code",
   "execution_count": 157,
   "id": "378915df",
   "metadata": {},
   "outputs": [
    {
     "data": {
      "text/plain": [
       "LinearRegression()"
      ]
     },
     "execution_count": 157,
     "metadata": {},
     "output_type": "execute_result"
    }
   ],
   "source": [
    "model=linear_model.LinearRegression()\n",
    "model"
   ]
  },
  {
   "cell_type": "markdown",
   "id": "88cad60f",
   "metadata": {},
   "source": [
    "#### prepare x and y\n",
    "The scikit-learn library expects X (feature variable) and y (response variable) to be NumPy arrays.\n",
    "However, X can be a dataframe as Pandas is built over NumPy."
   ]
  },
  {
   "cell_type": "code",
   "execution_count": 158,
   "id": "3c706088",
   "metadata": {},
   "outputs": [
    {
     "data": {
      "text/html": [
       "<div>\n",
       "<style scoped>\n",
       "    .dataframe tbody tr th:only-of-type {\n",
       "        vertical-align: middle;\n",
       "    }\n",
       "\n",
       "    .dataframe tbody tr th {\n",
       "        vertical-align: top;\n",
       "    }\n",
       "\n",
       "    .dataframe thead th {\n",
       "        text-align: right;\n",
       "    }\n",
       "</style>\n",
       "<table border=\"1\" class=\"dataframe\">\n",
       "  <thead>\n",
       "    <tr style=\"text-align: right;\">\n",
       "      <th></th>\n",
       "      <th>income</th>\n",
       "    </tr>\n",
       "  </thead>\n",
       "  <tbody>\n",
       "    <tr>\n",
       "      <th>0</th>\n",
       "      <td>8.3252</td>\n",
       "    </tr>\n",
       "    <tr>\n",
       "      <th>1</th>\n",
       "      <td>8.3014</td>\n",
       "    </tr>\n",
       "    <tr>\n",
       "      <th>2</th>\n",
       "      <td>7.2574</td>\n",
       "    </tr>\n",
       "    <tr>\n",
       "      <th>3</th>\n",
       "      <td>5.6431</td>\n",
       "    </tr>\n",
       "    <tr>\n",
       "      <th>4</th>\n",
       "      <td>3.8462</td>\n",
       "    </tr>\n",
       "    <tr>\n",
       "      <th>...</th>\n",
       "      <td>...</td>\n",
       "    </tr>\n",
       "    <tr>\n",
       "      <th>20635</th>\n",
       "      <td>1.5603</td>\n",
       "    </tr>\n",
       "    <tr>\n",
       "      <th>20636</th>\n",
       "      <td>2.5568</td>\n",
       "    </tr>\n",
       "    <tr>\n",
       "      <th>20637</th>\n",
       "      <td>1.7000</td>\n",
       "    </tr>\n",
       "    <tr>\n",
       "      <th>20638</th>\n",
       "      <td>1.8672</td>\n",
       "    </tr>\n",
       "    <tr>\n",
       "      <th>20639</th>\n",
       "      <td>2.3886</td>\n",
       "    </tr>\n",
       "  </tbody>\n",
       "</table>\n",
       "<p>20640 rows × 1 columns</p>\n",
       "</div>"
      ],
      "text/plain": [
       "       income\n",
       "0      8.3252\n",
       "1      8.3014\n",
       "2      7.2574\n",
       "3      5.6431\n",
       "4      3.8462\n",
       "...       ...\n",
       "20635  1.5603\n",
       "20636  2.5568\n",
       "20637  1.7000\n",
       "20638  1.8672\n",
       "20639  2.3886\n",
       "\n",
       "[20640 rows x 1 columns]"
      ]
     },
     "execution_count": 158,
     "metadata": {},
     "output_type": "execute_result"
    }
   ],
   "source": [
    "x=df[['income']]\n",
    "x"
   ]
  },
  {
   "cell_type": "code",
   "execution_count": 159,
   "id": "631115f9",
   "metadata": {},
   "outputs": [
    {
     "data": {
      "text/plain": [
       "0        452600\n",
       "1        358500\n",
       "2        352100\n",
       "3        341300\n",
       "4        342200\n",
       "          ...  \n",
       "20635     78100\n",
       "20636     77100\n",
       "20637     92300\n",
       "20638     84700\n",
       "20639     89400\n",
       "Name: house_value, Length: 20640, dtype: int64"
      ]
     },
     "execution_count": 159,
     "metadata": {},
     "output_type": "execute_result"
    }
   ],
   "source": [
    "y=df['house_value']\n",
    "y"
   ]
  },
  {
   "cell_type": "markdown",
   "id": "df353a27",
   "metadata": {},
   "source": [
    "#### Fit the linear model."
   ]
  },
  {
   "cell_type": "code",
   "execution_count": 160,
   "id": "2577c70a",
   "metadata": {},
   "outputs": [
    {
     "data": {
      "text/plain": [
       "LinearRegression()"
      ]
     },
     "execution_count": 160,
     "metadata": {},
     "output_type": "execute_result"
    }
   ],
   "source": [
    "model.fit(x,y)"
   ]
  },
  {
   "cell_type": "markdown",
   "id": "820ab336",
   "metadata": {},
   "source": [
    "#### Predict using the linear mode."
   ]
  },
  {
   "cell_type": "code",
   "execution_count": 161,
   "id": "449378c6",
   "metadata": {},
   "outputs": [
    {
     "data": {
      "text/plain": [
       "array([280932.44713449])"
      ]
     },
     "execution_count": 161,
     "metadata": {},
     "output_type": "execute_result"
    }
   ],
   "source": [
    "model.predict([[5.6431]])"
   ]
  },
  {
   "cell_type": "code",
   "execution_count": 162,
   "id": "4e0003d1",
   "metadata": {},
   "outputs": [
    {
     "data": {
      "text/plain": [
       "array([116135.12034649])"
      ]
     },
     "execution_count": 162,
     "metadata": {},
     "output_type": "execute_result"
    }
   ],
   "source": [
    "model.predict([[1.7000]])"
   ]
  },
  {
   "cell_type": "markdown",
   "id": "b5363740",
   "metadata": {},
   "source": [
    "#### Find the estimated coefficient of model"
   ]
  },
  {
   "cell_type": "code",
   "execution_count": 163,
   "id": "a5b50f38",
   "metadata": {},
   "outputs": [
    {
     "data": {
      "text/plain": [
       "array([41793.8492019])"
      ]
     },
     "execution_count": 163,
     "metadata": {},
     "output_type": "execute_result"
    }
   ],
   "source": [
    "model.coef_"
   ]
  },
  {
   "cell_type": "markdown",
   "id": "11a9abd2",
   "metadata": {},
   "source": [
    "#### Find the intercept of the model"
   ]
  },
  {
   "cell_type": "code",
   "execution_count": 164,
   "id": "ea986bb1",
   "metadata": {},
   "outputs": [
    {
     "data": {
      "text/plain": [
       "45085.576703268074"
      ]
     },
     "execution_count": 164,
     "metadata": {},
     "output_type": "execute_result"
    }
   ],
   "source": [
    "model.intercept_"
   ]
  },
  {
   "cell_type": "markdown",
   "id": "b3d52b80",
   "metadata": {},
   "source": [
    "#### cross checking of the regession model"
   ]
  },
  {
   "cell_type": "code",
   "execution_count": 165,
   "id": "949e4c1c",
   "metadata": {},
   "outputs": [
    {
     "data": {
      "text/plain": [
       "280932.4471345099"
      ]
     },
     "execution_count": 165,
     "metadata": {},
     "output_type": "execute_result"
    }
   ],
   "source": [
    "41793.8492019*5.6431+45085.576703268074"
   ]
  },
  {
   "cell_type": "markdown",
   "id": "71315f6d",
   "metadata": {},
   "source": [
    "Here, model using scikit-learn library gives the same value we calculated by mannually."
   ]
  },
  {
   "cell_type": "markdown",
   "id": "25a29d72",
   "metadata": {},
   "source": [
    "#### plot the visualization of actual values and predicted values"
   ]
  },
  {
   "cell_type": "code",
   "execution_count": 166,
   "id": "2383cacc",
   "metadata": {},
   "outputs": [
    {
     "data": {
      "image/png": "[encoded data removed]",
      "text/plain": [
       "<Figure size 640x480 with 1 Axes>"
      ]
     },
     "metadata": {},
     "output_type": "display_data"
    }
   ],
   "source": [
    "plt.scatter(df.income,df.house_value,color='green',marker='*')\n",
    "plt.plot(df.income,model.predict(df[['income']]),color='red')\n",
    "plt.show()"
   ]
  },
  {
   "cell_type": "markdown",
   "id": "d62283d8",
   "metadata": {},
   "source": [
    "Graph shows predicted values and actual values not much differ to each other."
   ]
  },
  {
   "cell_type": "markdown",
   "id": "892d7a61",
   "metadata": {},
   "source": [
    "#### Now, check for the accuracy"
   ]
  },
  {
   "cell_type": "code",
   "execution_count": 167,
   "id": "35472172",
   "metadata": {},
   "outputs": [
    {
     "data": {
      "text/plain": [
       "47.3447491807199"
      ]
     },
     "execution_count": 167,
     "metadata": {},
     "output_type": "execute_result"
    }
   ],
   "source": [
    "model.score(x,y)*100"
   ]
  },
  {
   "cell_type": "markdown",
   "id": "3ae224c6",
   "metadata": {},
   "source": [
    "#### accuracy of given model is 47.34% which can be consider as low."
   ]
  },
  {
   "cell_type": "markdown",
   "id": "f8ae352e",
   "metadata": {},
   "source": [
    " Simple Linear Regression is done. Now build model of regression by using Train-Test-Split Method"
   ]
  },
  {
   "cell_type": "markdown",
   "id": "730a9b70",
   "metadata": {},
   "source": [
    "### Train-Test-Split Method\n",
    "Train Dataset: Used to fit the machine learning model.                                                \n",
    "Test Dataset: Used to evaluate the fit machine learning model."
   ]
  },
  {
   "cell_type": "markdown",
   "id": "4cc41b42",
   "metadata": {},
   "source": [
    "#### prepare x and y\n",
    "By using iloc function to reshape and draw the values of x and y.                                         \n",
    "iloc is used to select rows and columns from a Pandas DataFrame or a Series using integer-based indexing"
   ]
  },
  {
   "cell_type": "code",
   "execution_count": 168,
   "id": "221913d9",
   "metadata": {},
   "outputs": [
    {
     "data": {
      "text/plain": [
       "array([[8.3252],\n",
       "       [8.3014],\n",
       "       [7.2574],\n",
       "       ...,\n",
       "       [1.7   ],\n",
       "       [1.8672],\n",
       "       [2.3886]])"
      ]
     },
     "execution_count": 168,
     "metadata": {},
     "output_type": "execute_result"
    }
   ],
   "source": [
    "x=df.iloc[:,:-1].values\n",
    "x"
   ]
  },
  {
   "cell_type": "code",
   "execution_count": 169,
   "id": "91ddabdd",
   "metadata": {},
   "outputs": [
    {
     "data": {
      "text/plain": [
       "array([452600, 358500, 352100, ...,  92300,  84700,  89400], dtype=int64)"
      ]
     },
     "execution_count": 169,
     "metadata": {},
     "output_type": "execute_result"
    }
   ],
   "source": [
    "y=df.iloc[:,1].values\n",
    "y"
   ]
  },
  {
   "cell_type": "code",
   "execution_count": 170,
   "id": "0e8947d7",
   "metadata": {},
   "outputs": [],
   "source": [
    "from sklearn.model_selection import train_test_split"
   ]
  },
  {
   "cell_type": "markdown",
   "id": "9022e17f",
   "metadata": {},
   "source": [
    "#### Apply train, test to x and y \n",
    "Here we are using training set with the size of 0.80 (80 percent) means that the remainder percentage 0.2 (20 percent) is assigned to the test set."
   ]
  },
  {
   "cell_type": "code",
   "execution_count": 171,
   "id": "691d468c",
   "metadata": {},
   "outputs": [],
   "source": [
    "x_train,x_test,y_train,y_test=train_test_split(x,y,test_size=0.2)"
   ]
  },
  {
   "cell_type": "markdown",
   "id": "8c07f749",
   "metadata": {},
   "source": [
    "#### Print the shape of train and test."
   ]
  },
  {
   "cell_type": "code",
   "execution_count": 172,
   "id": "1f2a0a55",
   "metadata": {},
   "outputs": [
    {
     "name": "stdout",
     "output_type": "stream",
     "text": [
      "(16512, 1)\n",
      "(4128, 1)\n",
      "(16512,)\n",
      "(4128,)\n"
     ]
    }
   ],
   "source": [
    "print(x_train.shape)\n",
    "print(x_test.shape)\n",
    "print(y_train.shape)\n",
    "print(y_test.shape)"
   ]
  },
  {
   "cell_type": "markdown",
   "id": "46bcfc0c",
   "metadata": {},
   "source": [
    "#### Start applying regression model to train test data."
   ]
  },
  {
   "cell_type": "code",
   "execution_count": 173,
   "id": "19a53be6",
   "metadata": {},
   "outputs": [],
   "source": [
    "from sklearn import linear_model"
   ]
  },
  {
   "cell_type": "code",
   "execution_count": 174,
   "id": "5c62fa3b",
   "metadata": {},
   "outputs": [
    {
     "data": {
      "text/plain": [
       "LinearRegression()"
      ]
     },
     "execution_count": 174,
     "metadata": {},
     "output_type": "execute_result"
    }
   ],
   "source": [
    "model= linear_model.LinearRegression()\n",
    "model"
   ]
  },
  {
   "cell_type": "code",
   "execution_count": 175,
   "id": "292bf270",
   "metadata": {},
   "outputs": [
    {
     "data": {
      "text/plain": [
       "LinearRegression()"
      ]
     },
     "execution_count": 175,
     "metadata": {},
     "output_type": "execute_result"
    }
   ],
   "source": [
    "model.fit(x_train,y_train)"
   ]
  },
  {
   "cell_type": "markdown",
   "id": "173f4521",
   "metadata": {},
   "source": [
    "#### Predict the values."
   ]
  },
  {
   "cell_type": "code",
   "execution_count": 176,
   "id": "2a53d8ab",
   "metadata": {},
   "outputs": [
    {
     "data": {
      "text/plain": [
       "array([111386.84184027, 100962.42612566, 201959.63411473, ...,\n",
       "       146965.73529884, 163608.95479041, 135686.85927976])"
      ]
     },
     "execution_count": 176,
     "metadata": {},
     "output_type": "execute_result"
    }
   ],
   "source": [
    "y_predict=model.predict(x_test)\n",
    "y_predict"
   ]
  },
  {
   "cell_type": "code",
   "execution_count": 177,
   "id": "5501b705",
   "metadata": {},
   "outputs": [
    {
     "data": {
      "text/plain": [
       "array([ 51900, 108000, 172600, ...,  88900, 109500, 259100], dtype=int64)"
      ]
     },
     "execution_count": 177,
     "metadata": {},
     "output_type": "execute_result"
    }
   ],
   "source": [
    "y_test"
   ]
  },
  {
   "cell_type": "markdown",
   "id": "082b36dd",
   "metadata": {},
   "source": [
    "#### Data frame after train test is as"
   ]
  },
  {
   "cell_type": "code",
   "execution_count": 178,
   "id": "3c7846c7",
   "metadata": {},
   "outputs": [
    {
     "data": {
      "text/html": [
       "<div>\n",
       "<style scoped>\n",
       "    .dataframe tbody tr th:only-of-type {\n",
       "        vertical-align: middle;\n",
       "    }\n",
       "\n",
       "    .dataframe tbody tr th {\n",
       "        vertical-align: top;\n",
       "    }\n",
       "\n",
       "    .dataframe thead th {\n",
       "        text-align: right;\n",
       "    }\n",
       "</style>\n",
       "<table border=\"1\" class=\"dataframe\">\n",
       "  <thead>\n",
       "    <tr style=\"text-align: right;\">\n",
       "      <th></th>\n",
       "      <th>Actual</th>\n",
       "      <th>Predicted</th>\n",
       "    </tr>\n",
       "  </thead>\n",
       "  <tbody>\n",
       "    <tr>\n",
       "      <th>0</th>\n",
       "      <td>51900</td>\n",
       "      <td>111386.841840</td>\n",
       "    </tr>\n",
       "    <tr>\n",
       "      <th>1</th>\n",
       "      <td>108000</td>\n",
       "      <td>100962.426126</td>\n",
       "    </tr>\n",
       "    <tr>\n",
       "      <th>2</th>\n",
       "      <td>172600</td>\n",
       "      <td>201959.634115</td>\n",
       "    </tr>\n",
       "    <tr>\n",
       "      <th>3</th>\n",
       "      <td>157200</td>\n",
       "      <td>150900.420798</td>\n",
       "    </tr>\n",
       "    <tr>\n",
       "      <th>4</th>\n",
       "      <td>500001</td>\n",
       "      <td>378132.676501</td>\n",
       "    </tr>\n",
       "    <tr>\n",
       "      <th>...</th>\n",
       "      <td>...</td>\n",
       "      <td>...</td>\n",
       "    </tr>\n",
       "    <tr>\n",
       "      <th>4123</th>\n",
       "      <td>259200</td>\n",
       "      <td>332125.199229</td>\n",
       "    </tr>\n",
       "    <tr>\n",
       "      <th>4124</th>\n",
       "      <td>129700</td>\n",
       "      <td>176951.039837</td>\n",
       "    </tr>\n",
       "    <tr>\n",
       "      <th>4125</th>\n",
       "      <td>88900</td>\n",
       "      <td>146965.735299</td>\n",
       "    </tr>\n",
       "    <tr>\n",
       "      <th>4126</th>\n",
       "      <td>109500</td>\n",
       "      <td>163608.954790</td>\n",
       "    </tr>\n",
       "    <tr>\n",
       "      <th>4127</th>\n",
       "      <td>259100</td>\n",
       "      <td>135686.859280</td>\n",
       "    </tr>\n",
       "  </tbody>\n",
       "</table>\n",
       "<p>4128 rows × 2 columns</p>\n",
       "</div>"
      ],
      "text/plain": [
       "      Actual      Predicted\n",
       "0      51900  111386.841840\n",
       "1     108000  100962.426126\n",
       "2     172600  201959.634115\n",
       "3     157200  150900.420798\n",
       "4     500001  378132.676501\n",
       "...      ...            ...\n",
       "4123  259200  332125.199229\n",
       "4124  129700  176951.039837\n",
       "4125   88900  146965.735299\n",
       "4126  109500  163608.954790\n",
       "4127  259100  135686.859280\n",
       "\n",
       "[4128 rows x 2 columns]"
      ]
     },
     "execution_count": 178,
     "metadata": {},
     "output_type": "execute_result"
    }
   ],
   "source": [
    "new_df=pd.DataFrame({'Actual':y_test,'Predicted':y_predict})\n",
    "new_df"
   ]
  },
  {
   "cell_type": "code",
   "execution_count": 179,
   "id": "90f2751d",
   "metadata": {},
   "outputs": [
    {
     "data": {
      "text/plain": [
       "array([147378.37710442, 169952.80153877, 165042.78086232, ...,\n",
       "       338890.0239813 , 207169.75792251, 106439.3082724 ])"
      ]
     },
     "execution_count": 179,
     "metadata": {},
     "output_type": "execute_result"
    }
   ],
   "source": [
    "x_pred=model.predict(x_train)\n",
    "x_pred"
   ]
  },
  {
   "cell_type": "markdown",
   "id": "bbdb44b7",
   "metadata": {},
   "source": [
    "#### Visualize the train and predicted data"
   ]
  },
  {
   "cell_type": "code",
   "execution_count": 181,
   "id": "e9434ac9",
   "metadata": {},
   "outputs": [
    {
     "data": {
      "image/png": "[encoded data removed]",
      "text/plain": [
       "<Figure size 640x480 with 1 Axes>"
      ]
     },
     "metadata": {},
     "output_type": "display_data"
    }
   ],
   "source": [
    "plt.scatter(x_train,y_train,color='green',marker='*')\n",
    "plt.plot(x_train,x_pred,color='red')\n",
    "plt.title(\"Visualization for train dataset\")\n",
    "plt.show()"
   ]
  },
  {
   "cell_type": "markdown",
   "id": "b60bd81c",
   "metadata": {},
   "source": [
    "Above graph shows that the train and predicted data are not much differ from each other."
   ]
  },
  {
   "cell_type": "code",
   "execution_count": 182,
   "id": "cc08eb5e",
   "metadata": {},
   "outputs": [
    {
     "data": {
      "image/png": "[encoded data removed]",
      "text/plain": [
       "<Figure size 640x480 with 1 Axes>"
      ]
     },
     "metadata": {},
     "output_type": "display_data"
    }
   ],
   "source": [
    "plt.scatter(x_test,y_test,color=\"green\",marker=\"*\")\n",
    "plt.plot(x_train,x_pred,color=\"red\")\n",
    "plt.title(\"Visualization for test dataset\")\n",
    "plt.show()"
   ]
  },
  {
   "cell_type": "markdown",
   "id": "063fb958",
   "metadata": {},
   "source": [
    "Above graph shows that the train and predicted data are quite differ from each other."
   ]
  },
  {
   "cell_type": "markdown",
   "id": "8ec1b6e8",
   "metadata": {},
   "source": [
    "#### Find mean squared error \n",
    "The Mean Squared Error measures how close a regression line is to a set of data points. It is a risk function corresponding to the expected value of the squared error loss."
   ]
  },
  {
   "cell_type": "code",
   "execution_count": 185,
   "id": "cf7aa83a",
   "metadata": {},
   "outputs": [],
   "source": [
    "from sklearn.metrics import mean_squared_error"
   ]
  },
  {
   "cell_type": "code",
   "execution_count": 187,
   "id": "9696a8fb",
   "metadata": {},
   "outputs": [
    {
     "data": {
      "text/plain": [
       "6873199988.270266"
      ]
     },
     "execution_count": 187,
     "metadata": {},
     "output_type": "execute_result"
    }
   ],
   "source": [
    "mean_squared_error(y_test, y_predict)"
   ]
  },
  {
   "cell_type": "code",
   "execution_count": 191,
   "id": "fb9fc9ac",
   "metadata": {},
   "outputs": [
    {
     "data": {
      "text/plain": [
       "82904.76456917459"
      ]
     },
     "execution_count": 191,
     "metadata": {},
     "output_type": "execute_result"
    }
   ],
   "source": [
    "np.sqrt(mean_squared_error(y_test, y_predict))"
   ]
  },
  {
   "cell_type": "markdown",
   "id": "8953f12d",
   "metadata": {},
   "source": [
    "#### Find mean absolute error\n",
    "It is the magnitude of difference between the prediction of an observation and the true value of that observation."
   ]
  },
  {
   "cell_type": "code",
   "execution_count": 189,
   "id": "8a181638",
   "metadata": {},
   "outputs": [],
   "source": [
    "from sklearn.metrics import mean_absolute_error"
   ]
  },
  {
   "cell_type": "code",
   "execution_count": 190,
   "id": "073d80e3",
   "metadata": {},
   "outputs": [
    {
     "data": {
      "text/plain": [
       "62076.52601199606"
      ]
     },
     "execution_count": 190,
     "metadata": {},
     "output_type": "execute_result"
    }
   ],
   "source": [
    "mean_absolute_error(y_test, y_predict)"
   ]
  },
  {
   "cell_type": "markdown",
   "id": "30bd2ef6",
   "metadata": {},
   "source": [
    "#### Find R squared score\n",
    "It is proportion of the variance in the dependent variable that is predictable from the independent variable(s)."
   ]
  },
  {
   "cell_type": "code",
   "execution_count": 192,
   "id": "eca50d6e",
   "metadata": {},
   "outputs": [],
   "source": [
    "from sklearn.metrics import r2_score"
   ]
  },
  {
   "cell_type": "code",
   "execution_count": 193,
   "id": "e9d8b7a8",
   "metadata": {
    "scrolled": true
   },
   "outputs": [
    {
     "data": {
      "text/plain": [
       "0.4856941427284819"
      ]
     },
     "execution_count": 193,
     "metadata": {},
     "output_type": "execute_result"
    }
   ],
   "source": [
    "r2_score(y_test, y_predict)"
   ]
  },
  {
   "cell_type": "markdown",
   "id": "db756e98",
   "metadata": {},
   "source": [
    "#### Find accuracy of model"
   ]
  },
  {
   "cell_type": "code",
   "execution_count": 196,
   "id": "20d1323b",
   "metadata": {},
   "outputs": [
    {
     "data": {
      "text/plain": [
       "48.569414272848185"
      ]
     },
     "execution_count": 196,
     "metadata": {},
     "output_type": "execute_result"
    }
   ],
   "source": [
    "accuracy=r2_score(y_test,y_predict)*100\n",
    "accuracy"
   ]
  },
  {
   "cell_type": "code",
   "execution_count": 217,
   "id": "dfbe0592",
   "metadata": {},
   "outputs": [
    {
     "data": {
      "text/plain": [
       "0.47035141341950915"
      ]
     },
     "execution_count": 217,
     "metadata": {},
     "output_type": "execute_result"
    }
   ],
   "source": [
    "model.score(x_train,y_train)"
   ]
  },
  {
   "cell_type": "code",
   "execution_count": 218,
   "id": "1e559465",
   "metadata": {},
   "outputs": [
    {
     "data": {
      "text/plain": [
       "0.4856941427284819"
      ]
     },
     "execution_count": 218,
     "metadata": {},
     "output_type": "execute_result"
    }
   ],
   "source": [
    "model.score(x_test,y_test)"
   ]
  },
  {
   "cell_type": "markdown",
   "id": "586af6d6",
   "metadata": {},
   "source": [
    "##### The accuracy of model is 48% it is consider as minimum relation between the income and house values."
   ]
  },
  {
   "cell_type": "markdown",
   "id": "04616e5e",
   "metadata": {},
   "source": [
    "### Final conclusion\n",
    "- By using both models Simple Linear Regression and Train-Test-Split method, the model shows low accuracy as(47.34%) and (48.56%) respectively.\n",
    "- After looking to the accuracy we can say that data may be of poor quality or insufficent.\n",
    "- The model selection may be inappropriate."
   ]
  }
 ],
 "metadata": {
  "kernelspec": {
   "display_name": "Python 3 (ipykernel)",
   "language": "python",
   "name": "python3"
  },
  "language_info": {
   "codemirror_mode": {
    "name": "ipython",
    "version": 3
   },
   "file_extension": ".py",
   "mimetype": "text/x-python",
   "name": "python",
   "nbconvert_exporter": "python",
   "pygments_lexer": "ipython3",
   "version": "3.9.13"
  }
 },
 "nbformat": 4,
 "nbformat_minor": 5
}
