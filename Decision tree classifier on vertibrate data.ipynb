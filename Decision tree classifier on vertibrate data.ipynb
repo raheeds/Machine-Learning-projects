{
 "cells": [
  {
   "cell_type": "markdown",
   "id": "7cf4d3d5",
   "metadata": {},
   "source": [
    "## Decision Tree Classifier\n",
    "#### On Vertibrate Data\n",
    "\n",
    "### Aim:\n",
    "- To find the classes of vertibrates based on the different attributes using decision tree.\n",
    "\n",
    "Outline:                \n",
    "1. Explore the dataset using pandas framework.\n",
    "2. Visualize the dataset using matplotlib,seabon library.\n",
    "3. Perform decision tree classifier.\n",
    "4. Build model using 'train-test-split method'.\n",
    "\n",
    "About dataset:\n",
    "Dataset contains diiferent classes of vertibrates based on their characteristics. It includes body temperature, skin cover etc.It segregate the vertibrates based on these attributes.\n",
    "\n",
    "Dataset Contains:\n",
    "1. Name: Name of the particular vertibrate.\n",
    "2. Body temperature: Body temperature of the vertibrates based as 'warm' and 'cold'.\n",
    "3. skin cover: What is the skin type of the vertibrates.\n",
    "4. Gives Birth: Whether it gives birth or not?\n",
    "5. Aquatic creature: It is an aquatic creature or not?\n",
    "6. Aerial creature: It is an aerial creature or not?\n",
    "7. Has legs: Whether vertibrates has legs or not?\n",
    "8. Hibernate: Whether vertibrate is hibernate property or not?\n",
    "9. class: Class of the vertibrate"
   ]
  },
  {
   "cell_type": "markdown",
   "id": "dd6059a4",
   "metadata": {},
   "source": [
    "#### Import Libraries"
   ]
  },
  {
   "cell_type": "code",
   "execution_count": 2,
   "id": "88ca9fee",
   "metadata": {},
   "outputs": [],
   "source": [
    "import numpy as np\n",
    "import pandas as pd\n",
    "import matplotlib.pyplot as plt\n",
    "import seaborn as sns\n",
    "import warnings\n",
    "warnings.filterwarnings('ignore')"
   ]
  },
  {
   "cell_type": "markdown",
   "id": "1126aeae",
   "metadata": {},
   "source": [
    "#### Read the dataset"
   ]
  },
  {
   "cell_type": "code",
   "execution_count": 22,
   "id": "5a3a8001",
   "metadata": {},
   "outputs": [
    {
     "data": {
      "text/html": [
       "<div>\n",
       "<style scoped>\n",
       "    .dataframe tbody tr th:only-of-type {\n",
       "        vertical-align: middle;\n",
       "    }\n",
       "\n",
       "    .dataframe tbody tr th {\n",
       "        vertical-align: top;\n",
       "    }\n",
       "\n",
       "    .dataframe thead th {\n",
       "        text-align: right;\n",
       "    }\n",
       "</style>\n",
       "<table border=\"1\" class=\"dataframe\">\n",
       "  <thead>\n",
       "    <tr style=\"text-align: right;\">\n",
       "      <th></th>\n",
       "      <th>Name</th>\n",
       "      <th>Body Temperature</th>\n",
       "      <th>Skin cover</th>\n",
       "      <th>Gives birth</th>\n",
       "      <th>Aquatic creature</th>\n",
       "      <th>Aerial creature</th>\n",
       "      <th>Has leg</th>\n",
       "      <th>Hibernate</th>\n",
       "      <th>Class</th>\n",
       "    </tr>\n",
       "  </thead>\n",
       "  <tbody>\n",
       "    <tr>\n",
       "      <th>0</th>\n",
       "      <td>Human</td>\n",
       "      <td>Warm</td>\n",
       "      <td>hair</td>\n",
       "      <td>yes</td>\n",
       "      <td>no</td>\n",
       "      <td>no</td>\n",
       "      <td>yes</td>\n",
       "      <td>no</td>\n",
       "      <td>Mammal</td>\n",
       "    </tr>\n",
       "    <tr>\n",
       "      <th>1</th>\n",
       "      <td>Python</td>\n",
       "      <td>Cold</td>\n",
       "      <td>scales</td>\n",
       "      <td>no</td>\n",
       "      <td>no</td>\n",
       "      <td>no</td>\n",
       "      <td>no</td>\n",
       "      <td>yes</td>\n",
       "      <td>Reptile</td>\n",
       "    </tr>\n",
       "    <tr>\n",
       "      <th>2</th>\n",
       "      <td>Salmon</td>\n",
       "      <td>Cold</td>\n",
       "      <td>scales</td>\n",
       "      <td>no</td>\n",
       "      <td>yes</td>\n",
       "      <td>no</td>\n",
       "      <td>no</td>\n",
       "      <td>no</td>\n",
       "      <td>Fish</td>\n",
       "    </tr>\n",
       "    <tr>\n",
       "      <th>3</th>\n",
       "      <td>Whale</td>\n",
       "      <td>Warm</td>\n",
       "      <td>hair</td>\n",
       "      <td>yes</td>\n",
       "      <td>yes</td>\n",
       "      <td>no</td>\n",
       "      <td>no</td>\n",
       "      <td>no</td>\n",
       "      <td>Mammal</td>\n",
       "    </tr>\n",
       "    <tr>\n",
       "      <th>4</th>\n",
       "      <td>Frog</td>\n",
       "      <td>Cold</td>\n",
       "      <td>none</td>\n",
       "      <td>no</td>\n",
       "      <td>semi</td>\n",
       "      <td>no</td>\n",
       "      <td>yes</td>\n",
       "      <td>yes</td>\n",
       "      <td>Amphibian</td>\n",
       "    </tr>\n",
       "    <tr>\n",
       "      <th>5</th>\n",
       "      <td>Komodo</td>\n",
       "      <td>Cold</td>\n",
       "      <td>scales</td>\n",
       "      <td>no</td>\n",
       "      <td>no</td>\n",
       "      <td>no</td>\n",
       "      <td>yes</td>\n",
       "      <td>no</td>\n",
       "      <td>Reptile</td>\n",
       "    </tr>\n",
       "    <tr>\n",
       "      <th>6</th>\n",
       "      <td>Bat</td>\n",
       "      <td>Warm</td>\n",
       "      <td>hair</td>\n",
       "      <td>yes</td>\n",
       "      <td>no</td>\n",
       "      <td>yes</td>\n",
       "      <td>yes</td>\n",
       "      <td>yes</td>\n",
       "      <td>Mammal</td>\n",
       "    </tr>\n",
       "    <tr>\n",
       "      <th>7</th>\n",
       "      <td>Pigeon</td>\n",
       "      <td>Warm</td>\n",
       "      <td>feathers</td>\n",
       "      <td>no</td>\n",
       "      <td>no</td>\n",
       "      <td>yes</td>\n",
       "      <td>yes</td>\n",
       "      <td>no</td>\n",
       "      <td>Bird</td>\n",
       "    </tr>\n",
       "    <tr>\n",
       "      <th>8</th>\n",
       "      <td>Cat</td>\n",
       "      <td>Warm</td>\n",
       "      <td>fur</td>\n",
       "      <td>yes</td>\n",
       "      <td>no</td>\n",
       "      <td>no</td>\n",
       "      <td>yes</td>\n",
       "      <td>no</td>\n",
       "      <td>Mammal</td>\n",
       "    </tr>\n",
       "    <tr>\n",
       "      <th>9</th>\n",
       "      <td>Leopard</td>\n",
       "      <td>Cold</td>\n",
       "      <td>scales</td>\n",
       "      <td>yes</td>\n",
       "      <td>yes</td>\n",
       "      <td>no</td>\n",
       "      <td>no</td>\n",
       "      <td>no</td>\n",
       "      <td>Fish</td>\n",
       "    </tr>\n",
       "    <tr>\n",
       "      <th>10</th>\n",
       "      <td>Turtle</td>\n",
       "      <td>Cold</td>\n",
       "      <td>scales</td>\n",
       "      <td>no</td>\n",
       "      <td>semi</td>\n",
       "      <td>no</td>\n",
       "      <td>yes</td>\n",
       "      <td>no</td>\n",
       "      <td>Reptile</td>\n",
       "    </tr>\n",
       "    <tr>\n",
       "      <th>11</th>\n",
       "      <td>Penguin</td>\n",
       "      <td>Warm</td>\n",
       "      <td>feathers</td>\n",
       "      <td>no</td>\n",
       "      <td>semi</td>\n",
       "      <td>no</td>\n",
       "      <td>yes</td>\n",
       "      <td>no</td>\n",
       "      <td>Bird</td>\n",
       "    </tr>\n",
       "    <tr>\n",
       "      <th>12</th>\n",
       "      <td>Porcupine</td>\n",
       "      <td>Warm</td>\n",
       "      <td>quills</td>\n",
       "      <td>yes</td>\n",
       "      <td>no</td>\n",
       "      <td>no</td>\n",
       "      <td>yes</td>\n",
       "      <td>yes</td>\n",
       "      <td>Mammal</td>\n",
       "    </tr>\n",
       "    <tr>\n",
       "      <th>13</th>\n",
       "      <td>Eel</td>\n",
       "      <td>Cold</td>\n",
       "      <td>scales</td>\n",
       "      <td>no</td>\n",
       "      <td>yes</td>\n",
       "      <td>no</td>\n",
       "      <td>no</td>\n",
       "      <td>no</td>\n",
       "      <td>Fish</td>\n",
       "    </tr>\n",
       "    <tr>\n",
       "      <th>14</th>\n",
       "      <td>Salamander</td>\n",
       "      <td>Cold</td>\n",
       "      <td>none</td>\n",
       "      <td>no</td>\n",
       "      <td>semi</td>\n",
       "      <td>no</td>\n",
       "      <td>yes</td>\n",
       "      <td>yes</td>\n",
       "      <td>Amphibian</td>\n",
       "    </tr>\n",
       "  </tbody>\n",
       "</table>\n",
       "</div>"
      ],
      "text/plain": [
       "          Name Body Temperature Skin cover Gives birth Aquatic creature  \\\n",
       "0        Human             Warm       hair         yes               no   \n",
       "1       Python             Cold     scales          no               no   \n",
       "2       Salmon             Cold     scales          no              yes   \n",
       "3        Whale             Warm       hair         yes              yes   \n",
       "4         Frog             Cold       none          no             semi   \n",
       "5       Komodo             Cold     scales          no               no   \n",
       "6          Bat             Warm       hair         yes               no   \n",
       "7       Pigeon             Warm   feathers          no               no   \n",
       "8          Cat             Warm        fur         yes               no   \n",
       "9      Leopard             Cold     scales         yes              yes   \n",
       "10      Turtle             Cold     scales          no             semi   \n",
       "11     Penguin             Warm   feathers          no             semi   \n",
       "12   Porcupine             Warm     quills         yes               no   \n",
       "13         Eel             Cold     scales          no              yes   \n",
       "14  Salamander             Cold       none          no             semi   \n",
       "\n",
       "   Aerial creature  Has leg Hibernate      Class  \n",
       "0                no     yes        no     Mammal  \n",
       "1                no      no       yes    Reptile  \n",
       "2                no      no        no       Fish  \n",
       "3                no      no        no     Mammal  \n",
       "4                no     yes       yes  Amphibian  \n",
       "5                no     yes        no    Reptile  \n",
       "6               yes     yes       yes     Mammal  \n",
       "7               yes     yes        no       Bird  \n",
       "8                no     yes        no     Mammal  \n",
       "9                no      no        no       Fish  \n",
       "10               no     yes        no    Reptile  \n",
       "11               no     yes        no       Bird  \n",
       "12               no     yes       yes     Mammal  \n",
       "13               no      no        no       Fish  \n",
       "14               no     yes       yes  Amphibian  "
      ]
     },
     "execution_count": 22,
     "metadata": {},
     "output_type": "execute_result"
    }
   ],
   "source": [
    "df=pd.read_excel('Vertebrate Classification.xlsx')\n",
    "df"
   ]
  },
  {
   "cell_type": "markdown",
   "id": "eec346cd",
   "metadata": {},
   "source": [
    "#### Check the size and shape of the data"
   ]
  },
  {
   "cell_type": "code",
   "execution_count": 5,
   "id": "085c68fe",
   "metadata": {},
   "outputs": [
    {
     "data": {
      "text/plain": [
       "(15, 9)"
      ]
     },
     "execution_count": 5,
     "metadata": {},
     "output_type": "execute_result"
    }
   ],
   "source": [
    "df.shape"
   ]
  },
  {
   "cell_type": "code",
   "execution_count": 6,
   "id": "ffacd39e",
   "metadata": {},
   "outputs": [
    {
     "data": {
      "text/plain": [
       "135"
      ]
     },
     "execution_count": 6,
     "metadata": {},
     "output_type": "execute_result"
    }
   ],
   "source": [
    "df.size"
   ]
  },
  {
   "cell_type": "markdown",
   "id": "c93e62c9",
   "metadata": {},
   "source": [
    "#### Find the data types present"
   ]
  },
  {
   "cell_type": "code",
   "execution_count": 5,
   "id": "8e720e3c",
   "metadata": {},
   "outputs": [
    {
     "data": {
      "text/plain": [
       "Name                object\n",
       "Body Temperature    object\n",
       "Skin cover          object\n",
       "Gives birth         object\n",
       "Aquatic creature    object\n",
       "Aerial creature     object\n",
       "Has leg             object\n",
       "Hibernate           object\n",
       "Class               object\n",
       "dtype: object"
      ]
     },
     "execution_count": 5,
     "metadata": {},
     "output_type": "execute_result"
    }
   ],
   "source": [
    "df.dtypes"
   ]
  },
  {
   "cell_type": "markdown",
   "id": "75e9a269",
   "metadata": {},
   "source": [
    "#### Check whether data contains any null value"
   ]
  },
  {
   "cell_type": "code",
   "execution_count": 6,
   "id": "61dd4593",
   "metadata": {},
   "outputs": [
    {
     "data": {
      "text/plain": [
       "Name                0\n",
       "Body Temperature    0\n",
       "Skin cover          0\n",
       "Gives birth         0\n",
       "Aquatic creature    0\n",
       "Aerial creature     0\n",
       "Has leg             0\n",
       "Hibernate           0\n",
       "Class               0\n",
       "dtype: int64"
      ]
     },
     "execution_count": 6,
     "metadata": {},
     "output_type": "execute_result"
    }
   ],
   "source": [
    "df.isnull().sum()"
   ]
  },
  {
   "cell_type": "markdown",
   "id": "11226875",
   "metadata": {},
   "source": [
    "##### Have a look of data attributes"
   ]
  },
  {
   "cell_type": "code",
   "execution_count": 8,
   "id": "4072c176",
   "metadata": {},
   "outputs": [
    {
     "data": {
      "text/plain": [
       "Index(['Name', 'Body Temperature', 'Skin cover', 'Gives birth',\n",
       "       'Aquatic creature', 'Aerial creature ', 'Has leg', 'Hibernate',\n",
       "       'Class'],\n",
       "      dtype='object')"
      ]
     },
     "execution_count": 8,
     "metadata": {},
     "output_type": "execute_result"
    }
   ],
   "source": [
    "df.columns"
   ]
  },
  {
   "cell_type": "code",
   "execution_count": 7,
   "id": "c3a0f1ea",
   "metadata": {},
   "outputs": [
    {
     "name": "stdout",
     "output_type": "stream",
     "text": [
      "<class 'pandas.core.frame.DataFrame'>\n",
      "RangeIndex: 15 entries, 0 to 14\n",
      "Data columns (total 9 columns):\n",
      " #   Column            Non-Null Count  Dtype \n",
      "---  ------            --------------  ----- \n",
      " 0   Name              15 non-null     object\n",
      " 1   Body Temperature  15 non-null     object\n",
      " 2   Skin cover        15 non-null     object\n",
      " 3   Gives birth       15 non-null     object\n",
      " 4   Aquatic creature  15 non-null     object\n",
      " 5   Aerial creature   15 non-null     object\n",
      " 6   Has leg           15 non-null     object\n",
      " 7   Hibernate         15 non-null     object\n",
      " 8   Class             15 non-null     object\n",
      "dtypes: object(9)\n",
      "memory usage: 1.2+ KB\n"
     ]
    }
   ],
   "source": [
    "df.info()"
   ]
  },
  {
   "cell_type": "code",
   "execution_count": 8,
   "id": "3a831573",
   "metadata": {},
   "outputs": [
    {
     "data": {
      "text/html": [
       "<div>\n",
       "<style scoped>\n",
       "    .dataframe tbody tr th:only-of-type {\n",
       "        vertical-align: middle;\n",
       "    }\n",
       "\n",
       "    .dataframe tbody tr th {\n",
       "        vertical-align: top;\n",
       "    }\n",
       "\n",
       "    .dataframe thead th {\n",
       "        text-align: right;\n",
       "    }\n",
       "</style>\n",
       "<table border=\"1\" class=\"dataframe\">\n",
       "  <thead>\n",
       "    <tr style=\"text-align: right;\">\n",
       "      <th></th>\n",
       "      <th>Name</th>\n",
       "      <th>Body Temperature</th>\n",
       "      <th>Skin cover</th>\n",
       "      <th>Gives birth</th>\n",
       "      <th>Aquatic creature</th>\n",
       "      <th>Aerial creature</th>\n",
       "      <th>Has leg</th>\n",
       "      <th>Hibernate</th>\n",
       "      <th>Class</th>\n",
       "    </tr>\n",
       "  </thead>\n",
       "  <tbody>\n",
       "    <tr>\n",
       "      <th>count</th>\n",
       "      <td>15</td>\n",
       "      <td>15</td>\n",
       "      <td>15</td>\n",
       "      <td>15</td>\n",
       "      <td>15</td>\n",
       "      <td>15</td>\n",
       "      <td>15</td>\n",
       "      <td>15</td>\n",
       "      <td>15</td>\n",
       "    </tr>\n",
       "    <tr>\n",
       "      <th>unique</th>\n",
       "      <td>15</td>\n",
       "      <td>2</td>\n",
       "      <td>6</td>\n",
       "      <td>2</td>\n",
       "      <td>3</td>\n",
       "      <td>2</td>\n",
       "      <td>2</td>\n",
       "      <td>2</td>\n",
       "      <td>5</td>\n",
       "    </tr>\n",
       "    <tr>\n",
       "      <th>top</th>\n",
       "      <td>Human</td>\n",
       "      <td>Cold</td>\n",
       "      <td>scales</td>\n",
       "      <td>no</td>\n",
       "      <td>no</td>\n",
       "      <td>no</td>\n",
       "      <td>yes</td>\n",
       "      <td>no</td>\n",
       "      <td>Mammal</td>\n",
       "    </tr>\n",
       "    <tr>\n",
       "      <th>freq</th>\n",
       "      <td>1</td>\n",
       "      <td>8</td>\n",
       "      <td>6</td>\n",
       "      <td>9</td>\n",
       "      <td>7</td>\n",
       "      <td>13</td>\n",
       "      <td>10</td>\n",
       "      <td>10</td>\n",
       "      <td>5</td>\n",
       "    </tr>\n",
       "  </tbody>\n",
       "</table>\n",
       "</div>"
      ],
      "text/plain": [
       "         Name Body Temperature Skin cover Gives birth Aquatic creature  \\\n",
       "count      15               15         15          15               15   \n",
       "unique     15                2          6           2                3   \n",
       "top     Human             Cold     scales          no               no   \n",
       "freq        1                8          6           9                7   \n",
       "\n",
       "       Aerial creature  Has leg Hibernate   Class  \n",
       "count                15      15        15      15  \n",
       "unique                2       2         2       5  \n",
       "top                  no     yes        no  Mammal  \n",
       "freq                 13      10        10       5  "
      ]
     },
     "execution_count": 8,
     "metadata": {},
     "output_type": "execute_result"
    }
   ],
   "source": [
    "df.describe()"
   ]
  },
  {
   "cell_type": "markdown",
   "id": "573acfde",
   "metadata": {},
   "source": [
    "#### Drop unnessesary columns"
   ]
  },
  {
   "cell_type": "code",
   "execution_count": 23,
   "id": "cefdb8ae",
   "metadata": {},
   "outputs": [
    {
     "data": {
      "text/html": [
       "<div>\n",
       "<style scoped>\n",
       "    .dataframe tbody tr th:only-of-type {\n",
       "        vertical-align: middle;\n",
       "    }\n",
       "\n",
       "    .dataframe tbody tr th {\n",
       "        vertical-align: top;\n",
       "    }\n",
       "\n",
       "    .dataframe thead th {\n",
       "        text-align: right;\n",
       "    }\n",
       "</style>\n",
       "<table border=\"1\" class=\"dataframe\">\n",
       "  <thead>\n",
       "    <tr style=\"text-align: right;\">\n",
       "      <th></th>\n",
       "      <th>Body Temperature</th>\n",
       "      <th>Skin cover</th>\n",
       "      <th>Gives birth</th>\n",
       "      <th>Aquatic creature</th>\n",
       "      <th>Aerial creature</th>\n",
       "      <th>Has leg</th>\n",
       "      <th>Hibernate</th>\n",
       "      <th>Class</th>\n",
       "    </tr>\n",
       "  </thead>\n",
       "  <tbody>\n",
       "    <tr>\n",
       "      <th>0</th>\n",
       "      <td>Warm</td>\n",
       "      <td>hair</td>\n",
       "      <td>yes</td>\n",
       "      <td>no</td>\n",
       "      <td>no</td>\n",
       "      <td>yes</td>\n",
       "      <td>no</td>\n",
       "      <td>Mammal</td>\n",
       "    </tr>\n",
       "    <tr>\n",
       "      <th>1</th>\n",
       "      <td>Cold</td>\n",
       "      <td>scales</td>\n",
       "      <td>no</td>\n",
       "      <td>no</td>\n",
       "      <td>no</td>\n",
       "      <td>no</td>\n",
       "      <td>yes</td>\n",
       "      <td>Reptile</td>\n",
       "    </tr>\n",
       "    <tr>\n",
       "      <th>2</th>\n",
       "      <td>Cold</td>\n",
       "      <td>scales</td>\n",
       "      <td>no</td>\n",
       "      <td>yes</td>\n",
       "      <td>no</td>\n",
       "      <td>no</td>\n",
       "      <td>no</td>\n",
       "      <td>Fish</td>\n",
       "    </tr>\n",
       "    <tr>\n",
       "      <th>3</th>\n",
       "      <td>Warm</td>\n",
       "      <td>hair</td>\n",
       "      <td>yes</td>\n",
       "      <td>yes</td>\n",
       "      <td>no</td>\n",
       "      <td>no</td>\n",
       "      <td>no</td>\n",
       "      <td>Mammal</td>\n",
       "    </tr>\n",
       "    <tr>\n",
       "      <th>4</th>\n",
       "      <td>Cold</td>\n",
       "      <td>none</td>\n",
       "      <td>no</td>\n",
       "      <td>semi</td>\n",
       "      <td>no</td>\n",
       "      <td>yes</td>\n",
       "      <td>yes</td>\n",
       "      <td>Amphibian</td>\n",
       "    </tr>\n",
       "    <tr>\n",
       "      <th>5</th>\n",
       "      <td>Cold</td>\n",
       "      <td>scales</td>\n",
       "      <td>no</td>\n",
       "      <td>no</td>\n",
       "      <td>no</td>\n",
       "      <td>yes</td>\n",
       "      <td>no</td>\n",
       "      <td>Reptile</td>\n",
       "    </tr>\n",
       "    <tr>\n",
       "      <th>6</th>\n",
       "      <td>Warm</td>\n",
       "      <td>hair</td>\n",
       "      <td>yes</td>\n",
       "      <td>no</td>\n",
       "      <td>yes</td>\n",
       "      <td>yes</td>\n",
       "      <td>yes</td>\n",
       "      <td>Mammal</td>\n",
       "    </tr>\n",
       "    <tr>\n",
       "      <th>7</th>\n",
       "      <td>Warm</td>\n",
       "      <td>feathers</td>\n",
       "      <td>no</td>\n",
       "      <td>no</td>\n",
       "      <td>yes</td>\n",
       "      <td>yes</td>\n",
       "      <td>no</td>\n",
       "      <td>Bird</td>\n",
       "    </tr>\n",
       "    <tr>\n",
       "      <th>8</th>\n",
       "      <td>Warm</td>\n",
       "      <td>fur</td>\n",
       "      <td>yes</td>\n",
       "      <td>no</td>\n",
       "      <td>no</td>\n",
       "      <td>yes</td>\n",
       "      <td>no</td>\n",
       "      <td>Mammal</td>\n",
       "    </tr>\n",
       "    <tr>\n",
       "      <th>9</th>\n",
       "      <td>Cold</td>\n",
       "      <td>scales</td>\n",
       "      <td>yes</td>\n",
       "      <td>yes</td>\n",
       "      <td>no</td>\n",
       "      <td>no</td>\n",
       "      <td>no</td>\n",
       "      <td>Fish</td>\n",
       "    </tr>\n",
       "    <tr>\n",
       "      <th>10</th>\n",
       "      <td>Cold</td>\n",
       "      <td>scales</td>\n",
       "      <td>no</td>\n",
       "      <td>semi</td>\n",
       "      <td>no</td>\n",
       "      <td>yes</td>\n",
       "      <td>no</td>\n",
       "      <td>Reptile</td>\n",
       "    </tr>\n",
       "    <tr>\n",
       "      <th>11</th>\n",
       "      <td>Warm</td>\n",
       "      <td>feathers</td>\n",
       "      <td>no</td>\n",
       "      <td>semi</td>\n",
       "      <td>no</td>\n",
       "      <td>yes</td>\n",
       "      <td>no</td>\n",
       "      <td>Bird</td>\n",
       "    </tr>\n",
       "    <tr>\n",
       "      <th>12</th>\n",
       "      <td>Warm</td>\n",
       "      <td>quills</td>\n",
       "      <td>yes</td>\n",
       "      <td>no</td>\n",
       "      <td>no</td>\n",
       "      <td>yes</td>\n",
       "      <td>yes</td>\n",
       "      <td>Mammal</td>\n",
       "    </tr>\n",
       "    <tr>\n",
       "      <th>13</th>\n",
       "      <td>Cold</td>\n",
       "      <td>scales</td>\n",
       "      <td>no</td>\n",
       "      <td>yes</td>\n",
       "      <td>no</td>\n",
       "      <td>no</td>\n",
       "      <td>no</td>\n",
       "      <td>Fish</td>\n",
       "    </tr>\n",
       "    <tr>\n",
       "      <th>14</th>\n",
       "      <td>Cold</td>\n",
       "      <td>none</td>\n",
       "      <td>no</td>\n",
       "      <td>semi</td>\n",
       "      <td>no</td>\n",
       "      <td>yes</td>\n",
       "      <td>yes</td>\n",
       "      <td>Amphibian</td>\n",
       "    </tr>\n",
       "  </tbody>\n",
       "</table>\n",
       "</div>"
      ],
      "text/plain": [
       "   Body Temperature Skin cover Gives birth Aquatic creature Aerial creature   \\\n",
       "0              Warm       hair         yes               no               no   \n",
       "1              Cold     scales          no               no               no   \n",
       "2              Cold     scales          no              yes               no   \n",
       "3              Warm       hair         yes              yes               no   \n",
       "4              Cold       none          no             semi               no   \n",
       "5              Cold     scales          no               no               no   \n",
       "6              Warm       hair         yes               no              yes   \n",
       "7              Warm   feathers          no               no              yes   \n",
       "8              Warm        fur         yes               no               no   \n",
       "9              Cold     scales         yes              yes               no   \n",
       "10             Cold     scales          no             semi               no   \n",
       "11             Warm   feathers          no             semi               no   \n",
       "12             Warm     quills         yes               no               no   \n",
       "13             Cold     scales          no              yes               no   \n",
       "14             Cold       none          no             semi               no   \n",
       "\n",
       "   Has leg Hibernate      Class  \n",
       "0      yes        no     Mammal  \n",
       "1       no       yes    Reptile  \n",
       "2       no        no       Fish  \n",
       "3       no        no     Mammal  \n",
       "4      yes       yes  Amphibian  \n",
       "5      yes        no    Reptile  \n",
       "6      yes       yes     Mammal  \n",
       "7      yes        no       Bird  \n",
       "8      yes        no     Mammal  \n",
       "9       no        no       Fish  \n",
       "10     yes        no    Reptile  \n",
       "11     yes        no       Bird  \n",
       "12     yes       yes     Mammal  \n",
       "13      no        no       Fish  \n",
       "14     yes       yes  Amphibian  "
      ]
     },
     "execution_count": 23,
     "metadata": {},
     "output_type": "execute_result"
    }
   ],
   "source": [
    "df.drop(['Name'],axis=1,inplace=True)\n",
    "df"
   ]
  },
  {
   "cell_type": "markdown",
   "id": "bd796f09",
   "metadata": {},
   "source": [
    "Replace the 'Classes' in terms of numeric values for the further analysis of dataset."
   ]
  },
  {
   "cell_type": "code",
   "execution_count": 25,
   "id": "94f1c6f8",
   "metadata": {},
   "outputs": [
    {
     "data": {
      "text/html": [
       "<div>\n",
       "<style scoped>\n",
       "    .dataframe tbody tr th:only-of-type {\n",
       "        vertical-align: middle;\n",
       "    }\n",
       "\n",
       "    .dataframe tbody tr th {\n",
       "        vertical-align: top;\n",
       "    }\n",
       "\n",
       "    .dataframe thead th {\n",
       "        text-align: right;\n",
       "    }\n",
       "</style>\n",
       "<table border=\"1\" class=\"dataframe\">\n",
       "  <thead>\n",
       "    <tr style=\"text-align: right;\">\n",
       "      <th></th>\n",
       "      <th>Body Temperature</th>\n",
       "      <th>Skin cover</th>\n",
       "      <th>Gives birth</th>\n",
       "      <th>Aquatic creature</th>\n",
       "      <th>Aerial creature</th>\n",
       "      <th>Has leg</th>\n",
       "      <th>Hibernate</th>\n",
       "      <th>Class</th>\n",
       "    </tr>\n",
       "  </thead>\n",
       "  <tbody>\n",
       "    <tr>\n",
       "      <th>0</th>\n",
       "      <td>Warm</td>\n",
       "      <td>hair</td>\n",
       "      <td>yes</td>\n",
       "      <td>no</td>\n",
       "      <td>no</td>\n",
       "      <td>yes</td>\n",
       "      <td>no</td>\n",
       "      <td>3</td>\n",
       "    </tr>\n",
       "    <tr>\n",
       "      <th>1</th>\n",
       "      <td>Cold</td>\n",
       "      <td>scales</td>\n",
       "      <td>no</td>\n",
       "      <td>no</td>\n",
       "      <td>no</td>\n",
       "      <td>no</td>\n",
       "      <td>yes</td>\n",
       "      <td>4</td>\n",
       "    </tr>\n",
       "    <tr>\n",
       "      <th>2</th>\n",
       "      <td>Cold</td>\n",
       "      <td>scales</td>\n",
       "      <td>no</td>\n",
       "      <td>yes</td>\n",
       "      <td>no</td>\n",
       "      <td>no</td>\n",
       "      <td>no</td>\n",
       "      <td>2</td>\n",
       "    </tr>\n",
       "    <tr>\n",
       "      <th>3</th>\n",
       "      <td>Warm</td>\n",
       "      <td>hair</td>\n",
       "      <td>yes</td>\n",
       "      <td>yes</td>\n",
       "      <td>no</td>\n",
       "      <td>no</td>\n",
       "      <td>no</td>\n",
       "      <td>3</td>\n",
       "    </tr>\n",
       "    <tr>\n",
       "      <th>4</th>\n",
       "      <td>Cold</td>\n",
       "      <td>none</td>\n",
       "      <td>no</td>\n",
       "      <td>semi</td>\n",
       "      <td>no</td>\n",
       "      <td>yes</td>\n",
       "      <td>yes</td>\n",
       "      <td>0</td>\n",
       "    </tr>\n",
       "    <tr>\n",
       "      <th>5</th>\n",
       "      <td>Cold</td>\n",
       "      <td>scales</td>\n",
       "      <td>no</td>\n",
       "      <td>no</td>\n",
       "      <td>no</td>\n",
       "      <td>yes</td>\n",
       "      <td>no</td>\n",
       "      <td>4</td>\n",
       "    </tr>\n",
       "    <tr>\n",
       "      <th>6</th>\n",
       "      <td>Warm</td>\n",
       "      <td>hair</td>\n",
       "      <td>yes</td>\n",
       "      <td>no</td>\n",
       "      <td>yes</td>\n",
       "      <td>yes</td>\n",
       "      <td>yes</td>\n",
       "      <td>3</td>\n",
       "    </tr>\n",
       "    <tr>\n",
       "      <th>7</th>\n",
       "      <td>Warm</td>\n",
       "      <td>feathers</td>\n",
       "      <td>no</td>\n",
       "      <td>no</td>\n",
       "      <td>yes</td>\n",
       "      <td>yes</td>\n",
       "      <td>no</td>\n",
       "      <td>1</td>\n",
       "    </tr>\n",
       "    <tr>\n",
       "      <th>8</th>\n",
       "      <td>Warm</td>\n",
       "      <td>fur</td>\n",
       "      <td>yes</td>\n",
       "      <td>no</td>\n",
       "      <td>no</td>\n",
       "      <td>yes</td>\n",
       "      <td>no</td>\n",
       "      <td>3</td>\n",
       "    </tr>\n",
       "    <tr>\n",
       "      <th>9</th>\n",
       "      <td>Cold</td>\n",
       "      <td>scales</td>\n",
       "      <td>yes</td>\n",
       "      <td>yes</td>\n",
       "      <td>no</td>\n",
       "      <td>no</td>\n",
       "      <td>no</td>\n",
       "      <td>2</td>\n",
       "    </tr>\n",
       "    <tr>\n",
       "      <th>10</th>\n",
       "      <td>Cold</td>\n",
       "      <td>scales</td>\n",
       "      <td>no</td>\n",
       "      <td>semi</td>\n",
       "      <td>no</td>\n",
       "      <td>yes</td>\n",
       "      <td>no</td>\n",
       "      <td>4</td>\n",
       "    </tr>\n",
       "    <tr>\n",
       "      <th>11</th>\n",
       "      <td>Warm</td>\n",
       "      <td>feathers</td>\n",
       "      <td>no</td>\n",
       "      <td>semi</td>\n",
       "      <td>no</td>\n",
       "      <td>yes</td>\n",
       "      <td>no</td>\n",
       "      <td>1</td>\n",
       "    </tr>\n",
       "    <tr>\n",
       "      <th>12</th>\n",
       "      <td>Warm</td>\n",
       "      <td>quills</td>\n",
       "      <td>yes</td>\n",
       "      <td>no</td>\n",
       "      <td>no</td>\n",
       "      <td>yes</td>\n",
       "      <td>yes</td>\n",
       "      <td>3</td>\n",
       "    </tr>\n",
       "    <tr>\n",
       "      <th>13</th>\n",
       "      <td>Cold</td>\n",
       "      <td>scales</td>\n",
       "      <td>no</td>\n",
       "      <td>yes</td>\n",
       "      <td>no</td>\n",
       "      <td>no</td>\n",
       "      <td>no</td>\n",
       "      <td>2</td>\n",
       "    </tr>\n",
       "    <tr>\n",
       "      <th>14</th>\n",
       "      <td>Cold</td>\n",
       "      <td>none</td>\n",
       "      <td>no</td>\n",
       "      <td>semi</td>\n",
       "      <td>no</td>\n",
       "      <td>yes</td>\n",
       "      <td>yes</td>\n",
       "      <td>0</td>\n",
       "    </tr>\n",
       "  </tbody>\n",
       "</table>\n",
       "</div>"
      ],
      "text/plain": [
       "   Body Temperature Skin cover Gives birth Aquatic creature Aerial creature   \\\n",
       "0              Warm       hair         yes               no               no   \n",
       "1              Cold     scales          no               no               no   \n",
       "2              Cold     scales          no              yes               no   \n",
       "3              Warm       hair         yes              yes               no   \n",
       "4              Cold       none          no             semi               no   \n",
       "5              Cold     scales          no               no               no   \n",
       "6              Warm       hair         yes               no              yes   \n",
       "7              Warm   feathers          no               no              yes   \n",
       "8              Warm        fur         yes               no               no   \n",
       "9              Cold     scales         yes              yes               no   \n",
       "10             Cold     scales          no             semi               no   \n",
       "11             Warm   feathers          no             semi               no   \n",
       "12             Warm     quills         yes               no               no   \n",
       "13             Cold     scales          no              yes               no   \n",
       "14             Cold       none          no             semi               no   \n",
       "\n",
       "   Has leg Hibernate  Class  \n",
       "0      yes        no      3  \n",
       "1       no       yes      4  \n",
       "2       no        no      2  \n",
       "3       no        no      3  \n",
       "4      yes       yes      0  \n",
       "5      yes        no      4  \n",
       "6      yes       yes      3  \n",
       "7      yes        no      1  \n",
       "8      yes        no      3  \n",
       "9       no        no      2  \n",
       "10     yes        no      4  \n",
       "11     yes        no      1  \n",
       "12     yes       yes      3  \n",
       "13      no        no      2  \n",
       "14     yes       yes      0  "
      ]
     },
     "execution_count": 25,
     "metadata": {},
     "output_type": "execute_result"
    }
   ],
   "source": [
    "df['Class'].replace({'Amphibian':0,'Bird':1,'Fish':2,'Mammal':3,'Reptile':4},inplace=True)\n",
    "df"
   ]
  },
  {
   "cell_type": "markdown",
   "id": "b7f1d95f",
   "metadata": {},
   "source": [
    "#### Data Exploration"
   ]
  },
  {
   "cell_type": "code",
   "execution_count": 26,
   "id": "fe930b79",
   "metadata": {},
   "outputs": [
    {
     "data": {
      "image/png": "[encoded data removed]",
      "text/plain": [
       "<Figure size 640x480 with 1 Axes>"
      ]
     },
     "metadata": {},
     "output_type": "display_data"
    }
   ],
   "source": [
    "sns.boxplot('Body Temperature','Class',data=df)\n",
    "plt.show()"
   ]
  },
  {
   "cell_type": "markdown",
   "id": "755918ed",
   "metadata": {},
   "source": [
    "#### Observation:\n",
    "- The vertibrates having cold body temperature has different classes than warm temperature vertibrate."
   ]
  },
  {
   "cell_type": "code",
   "execution_count": 29,
   "id": "49860acd",
   "metadata": {},
   "outputs": [
    {
     "data": {
      "image/png": "[encoded data removed]",
      "text/plain": [
       "<Figure size 640x480 with 1 Axes>"
      ]
     },
     "metadata": {},
     "output_type": "display_data"
    }
   ],
   "source": [
    "sns.barplot('Aquatic creature','Class',data=df)\n",
    "plt.show()"
   ]
  },
  {
   "cell_type": "markdown",
   "id": "3121c987",
   "metadata": {},
   "source": [
    "### Observation:\n",
    "- The vertibrates whose are semi aquatic are less than other.\n",
    "- More number of vertibrates are of non aquatic in nature."
   ]
  },
  {
   "cell_type": "code",
   "execution_count": 34,
   "id": "365cde8d",
   "metadata": {},
   "outputs": [
    {
     "data": {
      "image/png": "[encoded data removed]",
      "text/plain": [
       "<Figure size 640x480 with 1 Axes>"
      ]
     },
     "metadata": {},
     "output_type": "display_data"
    }
   ],
   "source": [
    "sns.barplot('Has leg','Class',data=df)\n",
    "plt.show()"
   ]
  },
  {
   "cell_type": "markdown",
   "id": "27de9d04",
   "metadata": {},
   "source": [
    "#### Observation:\n",
    "- More number of vertibrates who has no legs."
   ]
  },
  {
   "cell_type": "code",
   "execution_count": 35,
   "id": "c97dbe1c",
   "metadata": {},
   "outputs": [
    {
     "data": {
      "image/png": "[encoded data removed]",
      "text/plain": [
       "<Figure size 640x480 with 1 Axes>"
      ]
     },
     "metadata": {},
     "output_type": "display_data"
    }
   ],
   "source": [
    "sns.barplot('Hibernate','Class',data=df)\n",
    "plt.show()"
   ]
  },
  {
   "cell_type": "markdown",
   "id": "45eb97ca",
   "metadata": {},
   "source": [
    "#### Observation:\n",
    "- More number of vertibrates has no hibernation property.\n",
    "- Amphibians has property to hibernate."
   ]
  },
  {
   "cell_type": "markdown",
   "id": "cf843e22",
   "metadata": {},
   "source": [
    "### Data Modelling\n",
    "#### Decision Tree:\n",
    "Decision Tree is a Supervised learning technique that can be used for both classification and Regression problems, but mostly it is preferred for solving Classification problems. It is a tree-structured classifier, where internal nodes represent the features of a dataset, branches represent the decision rules and each leaf node represents the outcome.                                         \n",
    "It is a graphical representation for getting all the possible solutions to a problem/decision based on given conditions.\n"
   ]
  },
  {
   "cell_type": "markdown",
   "id": "d4aa7ec4",
   "metadata": {},
   "source": [
    "#### Covert data into numeric form\n",
    "To convert data, we use label encoder method.\n",
    "#### LabelEncoder:\n",
    "Label Encoding is a technique that is used to convert categorical columns into numerical ones so that they can be fitted by machine learning models which only take numerical data. It is an important pre-processing step in a machine-learning project."
   ]
  },
  {
   "cell_type": "code",
   "execution_count": 37,
   "id": "554b9fa3",
   "metadata": {},
   "outputs": [],
   "source": [
    "from sklearn.preprocessing import LabelEncoder"
   ]
  },
  {
   "cell_type": "code",
   "execution_count": 38,
   "id": "4fada976",
   "metadata": {},
   "outputs": [],
   "source": [
    "le = LabelEncoder()\n",
    "df = df[['Body Temperature', 'Skin cover','Gives birth','Aquatic creature','Has leg','Hibernate']].apply(le.fit_transform)"
   ]
  },
  {
   "cell_type": "code",
   "execution_count": 39,
   "id": "e240f106",
   "metadata": {},
   "outputs": [
    {
     "data": {
      "text/html": [
       "<div>\n",
       "<style scoped>\n",
       "    .dataframe tbody tr th:only-of-type {\n",
       "        vertical-align: middle;\n",
       "    }\n",
       "\n",
       "    .dataframe tbody tr th {\n",
       "        vertical-align: top;\n",
       "    }\n",
       "\n",
       "    .dataframe thead th {\n",
       "        text-align: right;\n",
       "    }\n",
       "</style>\n",
       "<table border=\"1\" class=\"dataframe\">\n",
       "  <thead>\n",
       "    <tr style=\"text-align: right;\">\n",
       "      <th></th>\n",
       "      <th>Body Temperature</th>\n",
       "      <th>Skin cover</th>\n",
       "      <th>Gives birth</th>\n",
       "      <th>Aquatic creature</th>\n",
       "      <th>Has leg</th>\n",
       "      <th>Hibernate</th>\n",
       "    </tr>\n",
       "  </thead>\n",
       "  <tbody>\n",
       "    <tr>\n",
       "      <th>0</th>\n",
       "      <td>1</td>\n",
       "      <td>2</td>\n",
       "      <td>1</td>\n",
       "      <td>0</td>\n",
       "      <td>1</td>\n",
       "      <td>0</td>\n",
       "    </tr>\n",
       "    <tr>\n",
       "      <th>1</th>\n",
       "      <td>0</td>\n",
       "      <td>5</td>\n",
       "      <td>0</td>\n",
       "      <td>0</td>\n",
       "      <td>0</td>\n",
       "      <td>1</td>\n",
       "    </tr>\n",
       "    <tr>\n",
       "      <th>2</th>\n",
       "      <td>0</td>\n",
       "      <td>5</td>\n",
       "      <td>0</td>\n",
       "      <td>2</td>\n",
       "      <td>0</td>\n",
       "      <td>0</td>\n",
       "    </tr>\n",
       "    <tr>\n",
       "      <th>3</th>\n",
       "      <td>1</td>\n",
       "      <td>2</td>\n",
       "      <td>1</td>\n",
       "      <td>2</td>\n",
       "      <td>0</td>\n",
       "      <td>0</td>\n",
       "    </tr>\n",
       "    <tr>\n",
       "      <th>4</th>\n",
       "      <td>0</td>\n",
       "      <td>3</td>\n",
       "      <td>0</td>\n",
       "      <td>1</td>\n",
       "      <td>1</td>\n",
       "      <td>1</td>\n",
       "    </tr>\n",
       "    <tr>\n",
       "      <th>5</th>\n",
       "      <td>0</td>\n",
       "      <td>5</td>\n",
       "      <td>0</td>\n",
       "      <td>0</td>\n",
       "      <td>1</td>\n",
       "      <td>0</td>\n",
       "    </tr>\n",
       "    <tr>\n",
       "      <th>6</th>\n",
       "      <td>1</td>\n",
       "      <td>2</td>\n",
       "      <td>1</td>\n",
       "      <td>0</td>\n",
       "      <td>1</td>\n",
       "      <td>1</td>\n",
       "    </tr>\n",
       "    <tr>\n",
       "      <th>7</th>\n",
       "      <td>1</td>\n",
       "      <td>0</td>\n",
       "      <td>0</td>\n",
       "      <td>0</td>\n",
       "      <td>1</td>\n",
       "      <td>0</td>\n",
       "    </tr>\n",
       "    <tr>\n",
       "      <th>8</th>\n",
       "      <td>1</td>\n",
       "      <td>1</td>\n",
       "      <td>1</td>\n",
       "      <td>0</td>\n",
       "      <td>1</td>\n",
       "      <td>0</td>\n",
       "    </tr>\n",
       "    <tr>\n",
       "      <th>9</th>\n",
       "      <td>0</td>\n",
       "      <td>5</td>\n",
       "      <td>1</td>\n",
       "      <td>2</td>\n",
       "      <td>0</td>\n",
       "      <td>0</td>\n",
       "    </tr>\n",
       "    <tr>\n",
       "      <th>10</th>\n",
       "      <td>0</td>\n",
       "      <td>5</td>\n",
       "      <td>0</td>\n",
       "      <td>1</td>\n",
       "      <td>1</td>\n",
       "      <td>0</td>\n",
       "    </tr>\n",
       "    <tr>\n",
       "      <th>11</th>\n",
       "      <td>1</td>\n",
       "      <td>0</td>\n",
       "      <td>0</td>\n",
       "      <td>1</td>\n",
       "      <td>1</td>\n",
       "      <td>0</td>\n",
       "    </tr>\n",
       "    <tr>\n",
       "      <th>12</th>\n",
       "      <td>1</td>\n",
       "      <td>4</td>\n",
       "      <td>1</td>\n",
       "      <td>0</td>\n",
       "      <td>1</td>\n",
       "      <td>1</td>\n",
       "    </tr>\n",
       "    <tr>\n",
       "      <th>13</th>\n",
       "      <td>0</td>\n",
       "      <td>5</td>\n",
       "      <td>0</td>\n",
       "      <td>2</td>\n",
       "      <td>0</td>\n",
       "      <td>0</td>\n",
       "    </tr>\n",
       "    <tr>\n",
       "      <th>14</th>\n",
       "      <td>0</td>\n",
       "      <td>3</td>\n",
       "      <td>0</td>\n",
       "      <td>1</td>\n",
       "      <td>1</td>\n",
       "      <td>1</td>\n",
       "    </tr>\n",
       "  </tbody>\n",
       "</table>\n",
       "</div>"
      ],
      "text/plain": [
       "    Body Temperature  Skin cover  Gives birth  Aquatic creature  Has leg  \\\n",
       "0                  1           2            1                 0        1   \n",
       "1                  0           5            0                 0        0   \n",
       "2                  0           5            0                 2        0   \n",
       "3                  1           2            1                 2        0   \n",
       "4                  0           3            0                 1        1   \n",
       "5                  0           5            0                 0        1   \n",
       "6                  1           2            1                 0        1   \n",
       "7                  1           0            0                 0        1   \n",
       "8                  1           1            1                 0        1   \n",
       "9                  0           5            1                 2        0   \n",
       "10                 0           5            0                 1        1   \n",
       "11                 1           0            0                 1        1   \n",
       "12                 1           4            1                 0        1   \n",
       "13                 0           5            0                 2        0   \n",
       "14                 0           3            0                 1        1   \n",
       "\n",
       "    Hibernate  \n",
       "0           0  \n",
       "1           1  \n",
       "2           0  \n",
       "3           0  \n",
       "4           1  \n",
       "5           0  \n",
       "6           1  \n",
       "7           0  \n",
       "8           0  \n",
       "9           0  \n",
       "10          0  \n",
       "11          0  \n",
       "12          1  \n",
       "13          0  \n",
       "14          1  "
      ]
     },
     "execution_count": 39,
     "metadata": {},
     "output_type": "execute_result"
    }
   ],
   "source": [
    "df"
   ]
  },
  {
   "cell_type": "markdown",
   "id": "75d6a1b4",
   "metadata": {},
   "source": [
    "#### Prepare X and y"
   ]
  },
  {
   "cell_type": "code",
   "execution_count": 46,
   "id": "9ecfd46a",
   "metadata": {},
   "outputs": [
    {
     "data": {
      "text/html": [
       "<div>\n",
       "<style scoped>\n",
       "    .dataframe tbody tr th:only-of-type {\n",
       "        vertical-align: middle;\n",
       "    }\n",
       "\n",
       "    .dataframe tbody tr th {\n",
       "        vertical-align: top;\n",
       "    }\n",
       "\n",
       "    .dataframe thead th {\n",
       "        text-align: right;\n",
       "    }\n",
       "</style>\n",
       "<table border=\"1\" class=\"dataframe\">\n",
       "  <thead>\n",
       "    <tr style=\"text-align: right;\">\n",
       "      <th></th>\n",
       "      <th>Body Temperature</th>\n",
       "      <th>Skin cover</th>\n",
       "      <th>Gives birth</th>\n",
       "      <th>Aquatic creature</th>\n",
       "      <th>Has leg</th>\n",
       "    </tr>\n",
       "  </thead>\n",
       "  <tbody>\n",
       "    <tr>\n",
       "      <th>0</th>\n",
       "      <td>1</td>\n",
       "      <td>2</td>\n",
       "      <td>1</td>\n",
       "      <td>0</td>\n",
       "      <td>1</td>\n",
       "    </tr>\n",
       "    <tr>\n",
       "      <th>1</th>\n",
       "      <td>0</td>\n",
       "      <td>5</td>\n",
       "      <td>0</td>\n",
       "      <td>0</td>\n",
       "      <td>0</td>\n",
       "    </tr>\n",
       "    <tr>\n",
       "      <th>2</th>\n",
       "      <td>0</td>\n",
       "      <td>5</td>\n",
       "      <td>0</td>\n",
       "      <td>2</td>\n",
       "      <td>0</td>\n",
       "    </tr>\n",
       "    <tr>\n",
       "      <th>3</th>\n",
       "      <td>1</td>\n",
       "      <td>2</td>\n",
       "      <td>1</td>\n",
       "      <td>2</td>\n",
       "      <td>0</td>\n",
       "    </tr>\n",
       "    <tr>\n",
       "      <th>4</th>\n",
       "      <td>0</td>\n",
       "      <td>3</td>\n",
       "      <td>0</td>\n",
       "      <td>1</td>\n",
       "      <td>1</td>\n",
       "    </tr>\n",
       "    <tr>\n",
       "      <th>5</th>\n",
       "      <td>0</td>\n",
       "      <td>5</td>\n",
       "      <td>0</td>\n",
       "      <td>0</td>\n",
       "      <td>1</td>\n",
       "    </tr>\n",
       "    <tr>\n",
       "      <th>6</th>\n",
       "      <td>1</td>\n",
       "      <td>2</td>\n",
       "      <td>1</td>\n",
       "      <td>0</td>\n",
       "      <td>1</td>\n",
       "    </tr>\n",
       "    <tr>\n",
       "      <th>7</th>\n",
       "      <td>1</td>\n",
       "      <td>0</td>\n",
       "      <td>0</td>\n",
       "      <td>0</td>\n",
       "      <td>1</td>\n",
       "    </tr>\n",
       "    <tr>\n",
       "      <th>8</th>\n",
       "      <td>1</td>\n",
       "      <td>1</td>\n",
       "      <td>1</td>\n",
       "      <td>0</td>\n",
       "      <td>1</td>\n",
       "    </tr>\n",
       "    <tr>\n",
       "      <th>9</th>\n",
       "      <td>0</td>\n",
       "      <td>5</td>\n",
       "      <td>1</td>\n",
       "      <td>2</td>\n",
       "      <td>0</td>\n",
       "    </tr>\n",
       "    <tr>\n",
       "      <th>10</th>\n",
       "      <td>0</td>\n",
       "      <td>5</td>\n",
       "      <td>0</td>\n",
       "      <td>1</td>\n",
       "      <td>1</td>\n",
       "    </tr>\n",
       "    <tr>\n",
       "      <th>11</th>\n",
       "      <td>1</td>\n",
       "      <td>0</td>\n",
       "      <td>0</td>\n",
       "      <td>1</td>\n",
       "      <td>1</td>\n",
       "    </tr>\n",
       "    <tr>\n",
       "      <th>12</th>\n",
       "      <td>1</td>\n",
       "      <td>4</td>\n",
       "      <td>1</td>\n",
       "      <td>0</td>\n",
       "      <td>1</td>\n",
       "    </tr>\n",
       "    <tr>\n",
       "      <th>13</th>\n",
       "      <td>0</td>\n",
       "      <td>5</td>\n",
       "      <td>0</td>\n",
       "      <td>2</td>\n",
       "      <td>0</td>\n",
       "    </tr>\n",
       "    <tr>\n",
       "      <th>14</th>\n",
       "      <td>0</td>\n",
       "      <td>3</td>\n",
       "      <td>0</td>\n",
       "      <td>1</td>\n",
       "      <td>1</td>\n",
       "    </tr>\n",
       "  </tbody>\n",
       "</table>\n",
       "</div>"
      ],
      "text/plain": [
       "    Body Temperature  Skin cover  Gives birth  Aquatic creature  Has leg\n",
       "0                  1           2            1                 0        1\n",
       "1                  0           5            0                 0        0\n",
       "2                  0           5            0                 2        0\n",
       "3                  1           2            1                 2        0\n",
       "4                  0           3            0                 1        1\n",
       "5                  0           5            0                 0        1\n",
       "6                  1           2            1                 0        1\n",
       "7                  1           0            0                 0        1\n",
       "8                  1           1            1                 0        1\n",
       "9                  0           5            1                 2        0\n",
       "10                 0           5            0                 1        1\n",
       "11                 1           0            0                 1        1\n",
       "12                 1           4            1                 0        1\n",
       "13                 0           5            0                 2        0\n",
       "14                 0           3            0                 1        1"
      ]
     },
     "execution_count": 46,
     "metadata": {},
     "output_type": "execute_result"
    }
   ],
   "source": [
    "X=df.iloc[:,:-1]\n",
    "X"
   ]
  },
  {
   "cell_type": "code",
   "execution_count": 52,
   "id": "9d98e185",
   "metadata": {},
   "outputs": [
    {
     "data": {
      "text/plain": [
       "0     0\n",
       "1     1\n",
       "2     0\n",
       "3     0\n",
       "4     1\n",
       "5     0\n",
       "6     1\n",
       "7     0\n",
       "8     0\n",
       "9     0\n",
       "10    0\n",
       "11    0\n",
       "12    1\n",
       "13    0\n",
       "14    1\n",
       "Name: Hibernate, dtype: int32"
      ]
     },
     "execution_count": 52,
     "metadata": {},
     "output_type": "execute_result"
    }
   ],
   "source": [
    "y=df.iloc[:,-1]\n",
    "y"
   ]
  },
  {
   "cell_type": "markdown",
   "id": "08a8e905",
   "metadata": {},
   "source": [
    "#### Analyze the model for logistic regression using Train-Test-Split Method.\n",
    "Train Dataset: Used to fit the machine learning model.                                                \n",
    "Test Dataset: Used to evaluate the fit machine learning model."
   ]
  },
  {
   "cell_type": "code",
   "execution_count": 53,
   "id": "7a2b5fb2",
   "metadata": {},
   "outputs": [],
   "source": [
    "from sklearn.model_selection import train_test_split"
   ]
  },
  {
   "cell_type": "markdown",
   "id": "b0d798d5",
   "metadata": {},
   "source": [
    "#### Apply train, test to x and y \n",
    "Here we are using training set with the size of 0.6 (60 percent) means that the remainder percentage 0.3 (30 percent) is assigned to the test set."
   ]
  },
  {
   "cell_type": "code",
   "execution_count": 54,
   "id": "b95ed739",
   "metadata": {},
   "outputs": [],
   "source": [
    "X_train,X_test,y_train,y_test=train_test_split(X,y,test_size=0.3,random_state=42)"
   ]
  },
  {
   "cell_type": "markdown",
   "id": "b54f45ee",
   "metadata": {},
   "source": [
    "#### Print the shape for train and test data."
   ]
  },
  {
   "cell_type": "code",
   "execution_count": 55,
   "id": "a38ae2f5",
   "metadata": {},
   "outputs": [
    {
     "name": "stdout",
     "output_type": "stream",
     "text": [
      "(10, 5)\n",
      "(5, 5)\n",
      "(10,)\n",
      "(5,)\n"
     ]
    }
   ],
   "source": [
    "print(X_train.shape)\n",
    "print(X_test.shape)\n",
    "print(y_train.shape)\n",
    "print(y_test.shape)"
   ]
  },
  {
   "cell_type": "markdown",
   "id": "f8a00b5b",
   "metadata": {},
   "source": [
    "#### Apply Decision Tree Classifier "
   ]
  },
  {
   "cell_type": "code",
   "execution_count": 56,
   "id": "37a24fd9",
   "metadata": {},
   "outputs": [],
   "source": [
    "from sklearn.tree import DecisionTreeClassifier"
   ]
  },
  {
   "cell_type": "code",
   "execution_count": 57,
   "id": "aec27b9b",
   "metadata": {},
   "outputs": [],
   "source": [
    "model= DecisionTreeClassifier()"
   ]
  },
  {
   "cell_type": "markdown",
   "id": "593250da",
   "metadata": {},
   "source": [
    "#### Fit the model"
   ]
  },
  {
   "cell_type": "code",
   "execution_count": 58,
   "id": "40a16c76",
   "metadata": {},
   "outputs": [
    {
     "data": {
      "text/plain": [
       "DecisionTreeClassifier()"
      ]
     },
     "execution_count": 58,
     "metadata": {},
     "output_type": "execute_result"
    }
   ],
   "source": [
    "model.fit(X_train,y_train)"
   ]
  },
  {
   "cell_type": "markdown",
   "id": "3cb147f0",
   "metadata": {},
   "source": [
    "#### Predict the y value"
   ]
  },
  {
   "cell_type": "code",
   "execution_count": 59,
   "id": "cd54efff",
   "metadata": {},
   "outputs": [
    {
     "data": {
      "text/plain": [
       "array([0, 0, 1, 0, 0])"
      ]
     },
     "execution_count": 59,
     "metadata": {},
     "output_type": "execute_result"
    }
   ],
   "source": [
    "y_pred=model.predict(X_test)\n",
    "y_pred"
   ]
  },
  {
   "cell_type": "markdown",
   "id": "87923d6b",
   "metadata": {},
   "source": [
    "#### Check the accuracy"
   ]
  },
  {
   "cell_type": "code",
   "execution_count": 60,
   "id": "824cdca7",
   "metadata": {},
   "outputs": [
    {
     "data": {
      "text/plain": [
       "100.0"
      ]
     },
     "execution_count": 60,
     "metadata": {},
     "output_type": "execute_result"
    }
   ],
   "source": [
    "model.score(X_train,y_train)*100"
   ]
  },
  {
   "cell_type": "markdown",
   "id": "a65d5561",
   "metadata": {},
   "source": [
    "##### Model has 100% accuracy for train data."
   ]
  },
  {
   "cell_type": "code",
   "execution_count": 61,
   "id": "f2731773",
   "metadata": {},
   "outputs": [
    {
     "data": {
      "text/plain": [
       "80.0"
      ]
     },
     "execution_count": 61,
     "metadata": {},
     "output_type": "execute_result"
    }
   ],
   "source": [
    "model.score(X_test,y_test)*100"
   ]
  },
  {
   "cell_type": "markdown",
   "id": "02d97508",
   "metadata": {},
   "source": [
    "##### Model has 60% accuracy for test data."
   ]
  },
  {
   "cell_type": "markdown",
   "id": "591c0e18",
   "metadata": {},
   "source": [
    "#### New dataframe for actual and predicted values as:"
   ]
  },
  {
   "cell_type": "code",
   "execution_count": 62,
   "id": "8e5e8938",
   "metadata": {},
   "outputs": [
    {
     "data": {
      "text/html": [
       "<div>\n",
       "<style scoped>\n",
       "    .dataframe tbody tr th:only-of-type {\n",
       "        vertical-align: middle;\n",
       "    }\n",
       "\n",
       "    .dataframe tbody tr th {\n",
       "        vertical-align: top;\n",
       "    }\n",
       "\n",
       "    .dataframe thead th {\n",
       "        text-align: right;\n",
       "    }\n",
       "</style>\n",
       "<table border=\"1\" class=\"dataframe\">\n",
       "  <thead>\n",
       "    <tr style=\"text-align: right;\">\n",
       "      <th></th>\n",
       "      <th>Actual</th>\n",
       "      <th>Predicted</th>\n",
       "    </tr>\n",
       "  </thead>\n",
       "  <tbody>\n",
       "    <tr>\n",
       "      <th>9</th>\n",
       "      <td>0</td>\n",
       "      <td>0</td>\n",
       "    </tr>\n",
       "    <tr>\n",
       "      <th>11</th>\n",
       "      <td>0</td>\n",
       "      <td>0</td>\n",
       "    </tr>\n",
       "    <tr>\n",
       "      <th>0</th>\n",
       "      <td>0</td>\n",
       "      <td>1</td>\n",
       "    </tr>\n",
       "    <tr>\n",
       "      <th>13</th>\n",
       "      <td>0</td>\n",
       "      <td>0</td>\n",
       "    </tr>\n",
       "    <tr>\n",
       "      <th>5</th>\n",
       "      <td>0</td>\n",
       "      <td>0</td>\n",
       "    </tr>\n",
       "  </tbody>\n",
       "</table>\n",
       "</div>"
      ],
      "text/plain": [
       "    Actual  Predicted\n",
       "9        0          0\n",
       "11       0          0\n",
       "0        0          1\n",
       "13       0          0\n",
       "5        0          0"
      ]
     },
     "execution_count": 62,
     "metadata": {},
     "output_type": "execute_result"
    }
   ],
   "source": [
    "df_new = pd.DataFrame({'Actual':y_test,'Predicted':y_pred})\n",
    "df_new"
   ]
  },
  {
   "cell_type": "markdown",
   "id": "4642aabf",
   "metadata": {},
   "source": [
    "#### Plot confusion matrix\n",
    "In the above output, we have seen that there were some incorrect predictions, so if we want to know the number of correct and incorrect predictions, we need to use the confusion matrix. "
   ]
  },
  {
   "cell_type": "code",
   "execution_count": 63,
   "id": "8d4465a0",
   "metadata": {},
   "outputs": [],
   "source": [
    "from sklearn.metrics import confusion_matrix"
   ]
  },
  {
   "cell_type": "code",
   "execution_count": 64,
   "id": "d115d8f2",
   "metadata": {},
   "outputs": [
    {
     "data": {
      "text/plain": [
       "array([[4, 1],\n",
       "       [0, 0]], dtype=int64)"
      ]
     },
     "execution_count": 64,
     "metadata": {},
     "output_type": "execute_result"
    }
   ],
   "source": [
    "performance=confusion_matrix(y_test,y_pred)\n",
    "performance"
   ]
  },
  {
   "cell_type": "code",
   "execution_count": 65,
   "id": "eb55484e",
   "metadata": {},
   "outputs": [],
   "source": [
    "from sklearn.metrics import plot_confusion_matrix"
   ]
  },
  {
   "cell_type": "code",
   "execution_count": 69,
   "id": "0ecbd1d3",
   "metadata": {},
   "outputs": [
    {
     "data": {
      "image/png": "[encoded data removed]",
      "text/plain": [
       "<Figure size 640x480 with 2 Axes>"
      ]
     },
     "metadata": {},
     "output_type": "display_data"
    }
   ],
   "source": [
    "plot_confusion_matrix(model,X_test,y_test)\n",
    "plt.show()"
   ]
  },
  {
   "cell_type": "markdown",
   "id": "c7dfa607",
   "metadata": {},
   "source": [
    "In the above output image, we can see the confusion matrix, which has 1+0=1 incorrect predictions and 4+0=4 correct predictions. Therefore, we can say that compared to other classification models, the Decision Tree classifier made a good prediction."
   ]
  },
  {
   "cell_type": "markdown",
   "id": "9bef91e4",
   "metadata": {},
   "source": [
    "#### Plot classfication report"
   ]
  },
  {
   "cell_type": "code",
   "execution_count": 112,
   "id": "456ca775",
   "metadata": {},
   "outputs": [],
   "source": [
    "from sklearn.metrics import classification_report"
   ]
  },
  {
   "cell_type": "code",
   "execution_count": 114,
   "id": "53d338aa",
   "metadata": {},
   "outputs": [
    {
     "name": "stdout",
     "output_type": "stream",
     "text": [
      "              precision    recall  f1-score   support\n",
      "\n",
      "           0       0.00      0.00      0.00         0\n",
      "           1       0.00      0.00      0.00         1\n",
      "           2       1.00      0.50      0.67         2\n",
      "           3       0.50      1.00      0.67         1\n",
      "           4       1.00      1.00      1.00         1\n",
      "\n",
      "    accuracy                           0.60         5\n",
      "   macro avg       0.50      0.50      0.47         5\n",
      "weighted avg       0.70      0.60      0.60         5\n",
      "\n"
     ]
    }
   ],
   "source": [
    "report= classification_report(y_test,y_pred)\n",
    "print(report)"
   ]
  },
  {
   "cell_type": "markdown",
   "id": "1983b189",
   "metadata": {},
   "source": [
    "#### Plot the decision tree"
   ]
  },
  {
   "cell_type": "code",
   "execution_count": 115,
   "id": "105e1cb3",
   "metadata": {},
   "outputs": [],
   "source": [
    "from sklearn import tree"
   ]
  },
  {
   "cell_type": "code",
   "execution_count": 117,
   "id": "0ddde259",
   "metadata": {},
   "outputs": [
    {
     "data": {
      "text/plain": [
       "Index(['Body Temperature', 'Skin cover', 'Gives birth', 'Aquatic creature',\n",
       "       'Has leg', 'Hibernate', 'Class'],\n",
       "      dtype='object')"
      ]
     },
     "execution_count": 117,
     "metadata": {},
     "output_type": "execute_result"
    }
   ],
   "source": [
    "df.columns"
   ]
  },
  {
   "cell_type": "code",
   "execution_count": 123,
   "id": "dd0991bc",
   "metadata": {},
   "outputs": [],
   "source": [
    "f=['Body Temperature','Skin cover', 'Gives birth', 'Aquatic creature', 'Has leg', 'Hibernate']\n",
    "c=['Mammal','Reptile','Fish','Amphibian','Bird']"
   ]
  },
  {
   "cell_type": "code",
   "execution_count": 128,
   "id": "0b7131f3",
   "metadata": {},
   "outputs": [
    {
     "data": {
      "text/plain": [
       "[Text(0.625, 0.875, 'Gives birth <= 0.5\\ngini = 0.74\\nsamples = 10\\nvalue = [2, 1, 1, 4, 2]\\nclass = Amphibian'),\n",
       " Text(0.5, 0.625, 'Skin cover <= 4.0\\ngini = 0.722\\nsamples = 6\\nvalue = [2, 1, 1, 0, 2]\\nclass = Mammal'),\n",
       " Text(0.25, 0.375, 'Aquatic creature <= 0.5\\ngini = 0.444\\nsamples = 3\\nvalue = [2, 1, 0, 0, 0]\\nclass = Mammal'),\n",
       " Text(0.125, 0.125, 'gini = 0.0\\nsamples = 1\\nvalue = [0, 1, 0, 0, 0]\\nclass = Reptile'),\n",
       " Text(0.375, 0.125, 'gini = 0.0\\nsamples = 2\\nvalue = [2, 0, 0, 0, 0]\\nclass = Mammal'),\n",
       " Text(0.75, 0.375, 'Aquatic creature <= 1.5\\ngini = 0.444\\nsamples = 3\\nvalue = [0, 0, 1, 0, 2]\\nclass = Bird'),\n",
       " Text(0.625, 0.125, 'gini = 0.0\\nsamples = 2\\nvalue = [0, 0, 0, 0, 2]\\nclass = Bird'),\n",
       " Text(0.875, 0.125, 'gini = 0.0\\nsamples = 1\\nvalue = [0, 0, 1, 0, 0]\\nclass = Fish'),\n",
       " Text(0.75, 0.625, 'gini = 0.0\\nsamples = 4\\nvalue = [0, 0, 0, 4, 0]\\nclass = Amphibian')]"
      ]
     },
     "execution_count": 128,
     "metadata": {},
     "output_type": "execute_result"
    },
    {
     "data": {
      "image/png": "[encoded data removed]",
      "text/plain": [
       "<Figure size 640x480 with 1 Axes>"
      ]
     },
     "metadata": {},
     "output_type": "display_data"
    }
   ],
   "source": [
    "tree.plot_tree(model,feature_names=f,class_names=c)"
   ]
  },
  {
   "cell_type": "markdown",
   "id": "97ccbefd",
   "metadata": {},
   "source": [
    "#### Visualize the Decision tree"
   ]
  },
  {
   "cell_type": "code",
   "execution_count": 127,
   "id": "341c7e40",
   "metadata": {},
   "outputs": [
    {
     "data": {
      "image/png": "[encoded data removed]",
      "text/plain": [
       "<Figure size 1500x1500 with 1 Axes>"
      ]
     },
     "metadata": {},
     "output_type": "display_data"
    }
   ],
   "source": [
    "fig,ax=plt.subplots(nrows=1,ncols=1,figsize=(15,15),facecolor='g')\n",
    "tree.plot_tree(model,feature_names=f,class_names=c,filled=True)\n",
    "fig.savefig('decision.png')\n",
    "plt.show()"
   ]
  },
  {
   "cell_type": "markdown",
   "id": "8af3a860",
   "metadata": {},
   "source": [
    "### Final Conclusion:\n",
    "- The accuracy of the model is quite low,this is due to the less data present in dataset.\n",
    "- The impurity is much less.\n",
    "- The tree is effectively shows the classes of vertibrates."
   ]
  }
 ],
 "metadata": {
  "kernelspec": {
   "display_name": "Python 3 (ipykernel)",
   "language": "python",
   "name": "python3"
  },
  "language_info": {
   "codemirror_mode": {
    "name": "ipython",
    "version": 3
   },
   "file_extension": ".py",
   "mimetype": "text/x-python",
   "name": "python",
   "nbconvert_exporter": "python",
   "pygments_lexer": "ipython3",
   "version": "3.9.13"
  }
 },
 "nbformat": 4,
 "nbformat_minor": 5
}
